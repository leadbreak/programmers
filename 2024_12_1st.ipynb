{
 "cells": [
  {
   "cell_type": "markdown",
   "metadata": {},
   "source": [
    "### [더 맵게](https://school.programmers.co.kr/learn/courses/30/lessons/42626)"
   ]
  },
  {
   "cell_type": "code",
   "execution_count": 5,
   "metadata": {},
   "outputs": [],
   "source": [
    "import heapq\n",
    "\n",
    "def solution(scoville, K):\n",
    "    heapq.heapify(scoville)\n",
    "    answer = 0\n",
    "    while True:\n",
    "        try :\n",
    "            first = heapq.heappop(scoville)\n",
    "            if first >= K:\n",
    "                return answer\n",
    "            answer += 1\n",
    "            second = heapq.heappop(scoville)\n",
    "            heapq.heappush(scoville, first+second*2)\n",
    "        except : # 만들 수 없는 경우\n",
    "            return -1"
   ]
  },
  {
   "cell_type": "code",
   "execution_count": 6,
   "metadata": {},
   "outputs": [
    {
     "data": {
      "text/plain": [
       "2"
      ]
     },
     "execution_count": 6,
     "metadata": {},
     "output_type": "execute_result"
    }
   ],
   "source": [
    "scoville, K = \t[1, 2, 3, 9, 10, 12], 7\n",
    "solution(scoville, K)"
   ]
  },
  {
   "cell_type": "markdown",
   "metadata": {},
   "source": [
    "### [디스크 컨트롤러](https://school.programmers.co.kr/learn/courses/30/lessons/42627)"
   ]
  },
  {
   "cell_type": "code",
   "execution_count": null,
   "metadata": {},
   "outputs": [],
   "source": [
    "import heapq\n",
    "\n",
    "def solution(jobs):\n",
    "    heap = []\n",
    "    for idx, (start, required) in enumerate(jobs):\n",
    "        heapq.heappush(heap, (start, required, idx))\n",
    "    \n",
    "    # 첫 번째 작업\n",
    "    start, required, idx = heapq.heappop(heap)\n",
    "    cur = start + required\n",
    "    turnaround_times = [required]\n",
    "    \n",
    "    while heap:\n",
    "        # 작업 대기열\n",
    "        standby = []\n",
    "        while heap and heap[0][0] <= cur:\n",
    "            start, required, idx = heapq.heappop(heap)\n",
    "            heapq.heappush(standby, (required, start, idx))\n",
    "        \n",
    "        # 다음 작업까지의 텀이 있는 경우\n",
    "        if not standby:\n",
    "            cur += 1\n",
    "            continue\n",
    "        \n",
    "        required, start, idx = heapq.heappop(standby)\n",
    "        cur += required\n",
    "        turnaround_times.append(cur-start)\n",
    "        \n",
    "        # 다음 작업들 다시 heap으로 복귀\n",
    "        while standby:\n",
    "            required, start, idx = heapq.heappop(standby)\n",
    "            heapq.heappush(heap, (start, required, idx))\n",
    "    \n",
    "    return int(sum(turnaround_times)/len(turnaround_times))"
   ]
  },
  {
   "cell_type": "code",
   "execution_count": 28,
   "metadata": {},
   "outputs": [
    {
     "name": "stdout",
     "output_type": "stream",
     "text": [
      "[3, 7, 17]\n"
     ]
    },
    {
     "data": {
      "text/plain": [
       "9"
      ]
     },
     "execution_count": 28,
     "metadata": {},
     "output_type": "execute_result"
    }
   ],
   "source": [
    "jobs = [[0, 3], [1, 9], [2, 6]]\n",
    "solution(jobs)"
   ]
  },
  {
   "cell_type": "code",
   "execution_count": null,
   "metadata": {},
   "outputs": [],
   "source": []
  }
 ],
 "metadata": {
  "kernelspec": {
   "display_name": "Python 3",
   "language": "python",
   "name": "python3"
  },
  "language_info": {
   "codemirror_mode": {
    "name": "ipython",
    "version": 3
   },
   "file_extension": ".py",
   "mimetype": "text/x-python",
   "name": "python",
   "nbconvert_exporter": "python",
   "pygments_lexer": "ipython3",
   "version": "3.10.12"
  }
 },
 "nbformat": 4,
 "nbformat_minor": 2
}
