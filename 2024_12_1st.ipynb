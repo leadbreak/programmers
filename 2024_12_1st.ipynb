{
 "cells": [
  {
   "cell_type": "markdown",
   "metadata": {},
   "source": [
    "### [더 맵게](https://school.programmers.co.kr/learn/courses/30/lessons/42626)"
   ]
  },
  {
   "cell_type": "code",
   "execution_count": 5,
   "metadata": {},
   "outputs": [],
   "source": [
    "import heapq\n",
    "\n",
    "def solution(scoville, K):\n",
    "    heapq.heapify(scoville)\n",
    "    answer = 0\n",
    "    while True:\n",
    "        try :\n",
    "            first = heapq.heappop(scoville)\n",
    "            if first >= K:\n",
    "                return answer\n",
    "            answer += 1\n",
    "            second = heapq.heappop(scoville)\n",
    "            heapq.heappush(scoville, first+second*2)\n",
    "        except : # 만들 수 없는 경우\n",
    "            return -1"
   ]
  },
  {
   "cell_type": "code",
   "execution_count": 6,
   "metadata": {},
   "outputs": [
    {
     "data": {
      "text/plain": [
       "2"
      ]
     },
     "execution_count": 6,
     "metadata": {},
     "output_type": "execute_result"
    }
   ],
   "source": [
    "scoville, K = \t[1, 2, 3, 9, 10, 12], 7\n",
    "solution(scoville, K)"
   ]
  },
  {
   "cell_type": "code",
   "execution_count": null,
   "metadata": {},
   "outputs": [],
   "source": []
  }
 ],
 "metadata": {
  "kernelspec": {
   "display_name": "Python 3",
   "language": "python",
   "name": "python3"
  },
  "language_info": {
   "codemirror_mode": {
    "name": "ipython",
    "version": 3
   },
   "file_extension": ".py",
   "mimetype": "text/x-python",
   "name": "python",
   "nbconvert_exporter": "python",
   "pygments_lexer": "ipython3",
   "version": "3.10.12"
  }
 },
 "nbformat": 4,
 "nbformat_minor": 2
}
