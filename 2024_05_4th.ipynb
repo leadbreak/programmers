{
 "cells": [
  {
   "cell_type": "markdown",
   "metadata": {},
   "source": [
    "### [마법의 엘리베이터](https://school.programmers.co.kr/learn/courses/30/lessons/148653)"
   ]
  },
  {
   "cell_type": "code",
   "execution_count": 41,
   "metadata": {},
   "outputs": [],
   "source": [
    "def solution(storey):\n",
    "    answer = 0\n",
    "    storey = str(storey)\n",
    "    for i in range(1, len(storey)+1):\n",
    "        target = int(storey[-i])\n",
    "        print(f'before:{storey}, target:{target}')\n",
    "        if target < 5:\n",
    "            answer += target\n",
    "        elif target > 5:\n",
    "            storey = str(int(storey[:-i]) + 1) + storey[-i:]\n",
    "            answer += 10 - target\n",
    "        elif target == 5:\n",
    "            storey = str(int(storey[:-i]) + 1) + storey[-i:] if int(storey[-i-1]) > 5 else storey\n",
    "            answer += 5\n",
    "        print(f'after:{storey}')\n",
    "    return answer"
   ]
  },
  {
   "cell_type": "code",
   "execution_count": 42,
   "metadata": {},
   "outputs": [
    {
     "name": "stdout",
     "output_type": "stream",
     "text": [
      "before:56, target:6\n",
      "after:66\n",
      "before:66, target:6\n"
     ]
    },
    {
     "ename": "ValueError",
     "evalue": "invalid literal for int() with base 10: ''",
     "output_type": "error",
     "traceback": [
      "\u001b[0;31m---------------------------------------------------------------------------\u001b[0m",
      "\u001b[0;31mValueError\u001b[0m                                Traceback (most recent call last)",
      "Cell \u001b[0;32mIn[42], line 1\u001b[0m\n\u001b[0;32m----> 1\u001b[0m \u001b[43msolution\u001b[49m\u001b[43m(\u001b[49m\u001b[38;5;241;43m56\u001b[39;49m\u001b[43m)\u001b[49m\n",
      "Cell \u001b[0;32mIn[41], line 10\u001b[0m, in \u001b[0;36msolution\u001b[0;34m(storey)\u001b[0m\n\u001b[1;32m      8\u001b[0m     answer \u001b[38;5;241m+\u001b[39m\u001b[38;5;241m=\u001b[39m target\n\u001b[1;32m      9\u001b[0m \u001b[38;5;28;01melif\u001b[39;00m target \u001b[38;5;241m>\u001b[39m \u001b[38;5;241m5\u001b[39m:\n\u001b[0;32m---> 10\u001b[0m     storey \u001b[38;5;241m=\u001b[39m \u001b[38;5;28mstr\u001b[39m(\u001b[38;5;28;43mint\u001b[39;49m\u001b[43m(\u001b[49m\u001b[43mstorey\u001b[49m\u001b[43m[\u001b[49m\u001b[43m:\u001b[49m\u001b[38;5;241;43m-\u001b[39;49m\u001b[43mi\u001b[49m\u001b[43m]\u001b[49m\u001b[43m)\u001b[49m \u001b[38;5;241m+\u001b[39m \u001b[38;5;241m1\u001b[39m) \u001b[38;5;241m+\u001b[39m storey[\u001b[38;5;241m-\u001b[39mi:]\n\u001b[1;32m     11\u001b[0m     answer \u001b[38;5;241m+\u001b[39m\u001b[38;5;241m=\u001b[39m \u001b[38;5;241m10\u001b[39m \u001b[38;5;241m-\u001b[39m target\n\u001b[1;32m     12\u001b[0m \u001b[38;5;28;01melif\u001b[39;00m target \u001b[38;5;241m==\u001b[39m \u001b[38;5;241m5\u001b[39m:\n",
      "\u001b[0;31mValueError\u001b[0m: invalid literal for int() with base 10: ''"
     ]
    }
   ],
   "source": [
    "solution(56)"
   ]
  },
  {
   "cell_type": "code",
   "execution_count": 69,
   "metadata": {},
   "outputs": [],
   "source": [
    "def solution(storey):\n",
    "    answer = 0\n",
    "    storey = str(storey)\n",
    "    N = len(storey)\n",
    "    for i in range(1, N+1):\n",
    "        target = int(storey[-i])\n",
    "        if target < 5 or i == N:\n",
    "            answer += min(target, 11-target)\n",
    "        elif target > 5:\n",
    "            storey = str(int(storey[:-i]) + 1) + storey[-i:]\n",
    "            answer += 10 - target\n",
    "        elif target == 5:                \n",
    "            for j in range(i+1, len(storey)+1):\n",
    "                n_target = int(storey[-j])\n",
    "                if n_target == 5:\n",
    "                    if j == N:\n",
    "                        storey = str(int(storey[:-j+1]) + 1) + storey[-j+1:]\n",
    "                    continue\n",
    "                elif n_target > 5:\n",
    "                    # print(f'{j=}, {storey=}')\n",
    "                    storey = str(int(storey[:-j+1]) + 1) + storey[-j+1:]\n",
    "                    break\n",
    "                elif n_target < 5:\n",
    "                    break\n",
    "            answer += 5\n",
    "    return answer"
   ]
  },
  {
   "cell_type": "code",
   "execution_count": 71,
   "metadata": {},
   "outputs": [
    {
     "data": {
      "text/plain": [
       "8"
      ]
     },
     "execution_count": 71,
     "metadata": {},
     "output_type": "execute_result"
    }
   ],
   "source": [
    "solution(965)"
   ]
  },
  {
   "cell_type": "code",
   "execution_count": 68,
   "metadata": {},
   "outputs": [
    {
     "data": {
      "text/plain": [
       "16"
      ]
     },
     "execution_count": 68,
     "metadata": {},
     "output_type": "execute_result"
    }
   ],
   "source": [
    "solution(2554)"
   ]
  },
  {
   "cell_type": "code",
   "execution_count": 11,
   "metadata": {},
   "outputs": [
    {
     "name": "stdout",
     "output_type": "stream",
     "text": [
      "before:2954, target:4\n",
      "after:2954\n",
      "before:2954, target:5\n",
      "after:3054\n",
      "before:3054, target:0\n",
      "after:3054\n",
      "before:3054, target:3\n",
      "after:3054\n"
     ]
    },
    {
     "data": {
      "text/plain": [
       "12"
      ]
     },
     "execution_count": 11,
     "metadata": {},
     "output_type": "execute_result"
    }
   ],
   "source": [
    "solution(2954)"
   ]
  },
  {
   "cell_type": "code",
   "execution_count": 12,
   "metadata": {},
   "outputs": [
    {
     "name": "stdout",
     "output_type": "stream",
     "text": [
      "before:2994, target:4\n",
      "after:2994\n",
      "before:2994, target:9\n",
      "after:3094\n",
      "before:3094, target:0\n",
      "after:3094\n",
      "before:3094, target:3\n",
      "after:3094\n"
     ]
    },
    {
     "data": {
      "text/plain": [
       "8"
      ]
     },
     "execution_count": 12,
     "metadata": {},
     "output_type": "execute_result"
    }
   ],
   "source": [
    "solution(2994)"
   ]
  },
  {
   "cell_type": "code",
   "execution_count": null,
   "metadata": {},
   "outputs": [],
   "source": [
    "def solution(storey):\n",
    "    answer = 0\n",
    "    while storey > 0:\n",
    "        storey, moves = divmod(storey, 10)\n",
    "        if moves > 5 or (moves == 5 and storey % 10 >= 5):\n",
    "            moves = 10 - moves\n",
    "            storey += 1\n",
    "        answer += moves\n",
    "    return answer"
   ]
  }
 ],
 "metadata": {
  "kernelspec": {
   "display_name": "Python 3",
   "language": "python",
   "name": "python3"
  },
  "language_info": {
   "codemirror_mode": {
    "name": "ipython",
    "version": 3
   },
   "file_extension": ".py",
   "mimetype": "text/x-python",
   "name": "python",
   "nbconvert_exporter": "python",
   "pygments_lexer": "ipython3",
   "version": "3.11.8"
  }
 },
 "nbformat": 4,
 "nbformat_minor": 2
}
