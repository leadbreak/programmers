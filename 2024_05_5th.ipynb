{
 "cells": [
  {
   "cell_type": "markdown",
   "metadata": {},
   "source": [
    "### [행렬 테두리 회전하기](https://school.programmers.co.kr/learn/courses/30/lessons/77485)"
   ]
  },
  {
   "cell_type": "code",
   "execution_count": null,
   "metadata": {},
   "outputs": [],
   "source": [
    "def solution(rows, columns, queries):\n",
    "    matrix = [[(y-1)*columns+x for x in range(1, columns+1)] for y in range(1, rows+1)]\n",
    "\n",
    "    answer = []\n",
    "    for query in queries:\n",
    "        s_row, s_col, e_row, e_col = query\n",
    "        target = columns * rows\n",
    "\n",
    "        # 상단 작업\n",
    "        for col in range(e_col-1, s_col-1, -1):\n",
    "            if col == e_col-1:\n",
    "                memory_top = matrix[s_row-1][col]\n",
    "            matrix[s_row-1][col] = matrix[s_row-1][col-1]\n",
    "            target = min(target, matrix[s_row-1][col])\n",
    "        matrix[s_row-1][s_col-1] = matrix[s_row][s_col-1]\n",
    "        target = min(target, matrix[s_row-1][s_col-1])\n",
    "\n",
    "        # 우중단 작업\n",
    "        for row in range(e_row-1, min(e_row-2, s_row), -1):\n",
    "            if row == e_row-1:\n",
    "                memory_down = matrix[row][e_col-1]\n",
    "            matrix[row][e_col-1] = matrix[row-1][e_col-1]\n",
    "            target = min(target, matrix[row][e_col-1])\n",
    "        matrix[s_row][e_col-1] = memory_top\n",
    "        target = min(target, memory_top)\n",
    "\n",
    "        # 하단 작업\n",
    "        for col in range(s_col-1, max(s_col, e_col-2)):\n",
    "            if col == s_col-1:\n",
    "                memory_bottom = matrix[e_row-1][col]\n",
    "            matrix[e_row-1][col]= matrix[e_row-1][col+1]\n",
    "            target = min(target, matrix[e_row-1][col])\n",
    "        matrix[e_row-1][e_col-2] = memory_down\n",
    "        target = min(target, memory_down)\n",
    "\n",
    "        # 좌중단 작업\n",
    "        for row in range(s_row-1, max(s_row, e_row-2)):\n",
    "            matrix[row][s_col-1] = matrix[row+1][s_col-1]\n",
    "            target = min(target, matrix[row][s_col-1])\n",
    "        matrix[e_row-2][s_col-1] = memory_bottom\n",
    "        target = min(target, memory_bottom)\n",
    "\n",
    "        answer.append(target)\n",
    "    return answer"
   ]
  },
  {
   "cell_type": "code",
   "execution_count": 44,
   "metadata": {},
   "outputs": [
    {
     "data": {
      "text/plain": [
       "[[1, 2, 3, 4, 5, 6],\n",
       " [7, 8, 9, 10, 11, 12],\n",
       " [13, 14, 15, 16, 17, 18],\n",
       " [19, 20, 21, 22, 23, 24],\n",
       " [25, 26, 27, 28, 29, 30],\n",
       " [31, 32, 33, 34, 35, 36]]"
      ]
     },
     "execution_count": 44,
     "metadata": {},
     "output_type": "execute_result"
    }
   ],
   "source": [
    "columns = 6\n",
    "rows = 6\n",
    "matrix = [[(y-1)*columns+x for x in range(1, columns+1)] for y in range(1, rows+1)]\n",
    "matrix"
   ]
  },
  {
   "cell_type": "code",
   "execution_count": 79,
   "metadata": {},
   "outputs": [
    {
     "data": {
      "text/plain": [
       "([[1, 2, 3, 4, 5, 6],\n",
       "  [7, 14, 8, 9, 11, 12],\n",
       "  [13, 20, 15, 10, 17, 18],\n",
       "  [19, 26, 21, 16, 23, 24],\n",
       "  [25, 27, 28, 22, 29, 30],\n",
       "  [31, 32, 33, 34, 35, 36]],\n",
       " 26)"
      ]
     },
     "execution_count": 79,
     "metadata": {},
     "output_type": "execute_result"
    }
   ],
   "source": [
    "columns = 6\n",
    "rows = 6\n",
    "matrix = [[(y-1)*columns+x for x in range(1, columns+1)] for y in range(1, rows+1)]\n",
    "queries = [[2,2,5,4]]\n",
    "\n",
    "answer = []\n",
    "for query in queries:\n",
    "    s_row, s_col, e_row, e_col = query\n",
    "    target = columns * rows\n",
    "    \n",
    "    # 상단 작업\n",
    "    for col in range(e_col-1, s_col-1, -1):\n",
    "        if col == e_col-1:\n",
    "            memory_top = matrix[s_row-1][col]\n",
    "        matrix[s_row-1][col] = matrix[s_row-1][col-1]\n",
    "    matrix[s_row-1][s_col-1] = matrix[s_row][s_col-1]\n",
    "        \n",
    "    # 우중단 작업\n",
    "    for row in range(e_row-1, s_row, -1):\n",
    "        if row == e_row-1:\n",
    "            memory_down = matrix[row][e_col-1]\n",
    "        matrix[row][e_col-1] = matrix[row-1][e_col-1]\n",
    "    matrix[s_row][e_col-1] = memory_top\n",
    "    \n",
    "    # 하단 작업\n",
    "    for col in range(s_col-1, e_col-2):\n",
    "        if col == s_col-1:\n",
    "            memory_bottom = matrix[e_row-1][col]\n",
    "        matrix[e_row-1][col]= matrix[e_row-1][col+1]\n",
    "    matrix[e_row-1][e_col-2] = memory_down\n",
    "    \n",
    "    # 좌중단 작업\n",
    "    for row in range(s_row, e_row-2):\n",
    "        matrix[row][s_col-1] = matrix[row+1][s_col-1]\n",
    "    matrix[e_row-2][s_col-1] = memory_bottom\n",
    "        \n",
    "matrix            "
   ]
  },
  {
   "cell_type": "code",
   "execution_count": 15,
   "metadata": {},
   "outputs": [
    {
     "data": {
      "text/plain": [
       "([[1, 2, 3, 4, 5, 6],\n",
       "  [7, 14, 8, 9, 11, 12],\n",
       "  [13, 20, 21, 15, 10, 17],\n",
       "  [19, 26, 28, 16, 23, 18],\n",
       "  [31, 25, 27, 22, 29, 24],\n",
       "  [32, 34, 33, 35, 36, 30]],\n",
       " [8, 10, 25])"
      ]
     },
     "execution_count": 15,
     "metadata": {},
     "output_type": "execute_result"
    }
   ],
   "source": [
    "columns = 6\n",
    "rows = 6\n",
    "matrix = [[(y-1)*columns+x for x in range(1, columns+1)] for y in range(1, rows+1)]\n",
    "queries = [[2,2,5,4],[3,3,6,6],[5,1,6,3]]\n",
    "\n",
    "answer = []\n",
    "for query in queries:\n",
    "    s_row, s_col, e_row, e_col = query\n",
    "    target = columns * rows\n",
    "    \n",
    "    # 상단 작업\n",
    "    for col in range(e_col-1, s_col-1, -1):\n",
    "        if col == e_col-1:\n",
    "            memory_top = matrix[s_row-1][col]\n",
    "        matrix[s_row-1][col] = matrix[s_row-1][col-1]\n",
    "        target = min(target, matrix[s_row-1][col])\n",
    "    matrix[s_row-1][s_col-1] = matrix[s_row][s_col-1]\n",
    "    target = min(target, matrix[s_row-1][s_col-1])\n",
    "        \n",
    "    # 우중단 작업\n",
    "    for row in range(e_row-1, min(e_row-2, s_row), -1):\n",
    "        if row == e_row-1:\n",
    "            memory_down = matrix[row][e_col-1]\n",
    "        matrix[row][e_col-1] = matrix[row-1][e_col-1]\n",
    "        target = min(target, matrix[row][e_col-1])\n",
    "    matrix[s_row][e_col-1] = memory_top\n",
    "    target = min(target, memory_top)\n",
    "    \n",
    "    # 하단 작업\n",
    "    for col in range(s_col-1, max(s_col, e_col-2)):\n",
    "        if col == s_col-1:\n",
    "            memory_bottom = matrix[e_row-1][col]\n",
    "        matrix[e_row-1][col]= matrix[e_row-1][col+1]\n",
    "        target = min(target, matrix[e_row-1][col])\n",
    "    matrix[e_row-1][e_col-2] = memory_down\n",
    "    target = min(target, memory_down)\n",
    "    \n",
    "    # 좌중단 작업\n",
    "    for row in range(s_row-1, max(s_row, e_row-2)):\n",
    "        matrix[row][s_col-1] = matrix[row+1][s_col-1]\n",
    "        target = min(target, matrix[row][s_col-1])\n",
    "    matrix[e_row-2][s_col-1] = memory_bottom\n",
    "    target = min(target, memory_bottom)\n",
    "    \n",
    "    answer.append(target)\n",
    "        \n",
    "matrix, answer            "
   ]
  },
  {
   "cell_type": "code",
   "execution_count": null,
   "metadata": {},
   "outputs": [],
   "source": []
  },
  {
   "cell_type": "code",
   "execution_count": 1,
   "metadata": {},
   "outputs": [],
   "source": [
    "matrix = [[8,9,10],[14,15,16], [20,21,22], [26,27,28]]"
   ]
  },
  {
   "cell_type": "code",
   "execution_count": 2,
   "metadata": {},
   "outputs": [],
   "source": [
    "s_col, e_col = 0, len(matrix[0])\n",
    "s_row, e_row = 0, len(matrix)"
   ]
  },
  {
   "cell_type": "code",
   "execution_count": 7,
   "metadata": {},
   "outputs": [
    {
     "data": {
      "text/plain": [
       "([[14, 8, 9]], [[27, 28, 22]])"
      ]
     },
     "execution_count": 7,
     "metadata": {},
     "output_type": "execute_result"
    }
   ],
   "source": [
    "start = [[matrix[1][0]]+matrix[0][:-1]]\n",
    "end = [matrix[-1][1:]+[matrix[-2][-1]]]\n",
    "start, end"
   ]
  },
  {
   "cell_type": "code",
   "execution_count": null,
   "metadata": {},
   "outputs": [],
   "source": [
    "new = []\n",
    "for col in range(len(matrix)):\n",
    "    for row in range(len(matrix[0])):\n",
    "        "
   ]
  }
 ],
 "metadata": {
  "kernelspec": {
   "display_name": "Python 3",
   "language": "python",
   "name": "python3"
  },
  "language_info": {
   "codemirror_mode": {
    "name": "ipython",
    "version": 3
   },
   "file_extension": ".py",
   "mimetype": "text/x-python",
   "name": "python",
   "nbconvert_exporter": "python",
   "pygments_lexer": "ipython3",
   "version": "3.10.12"
  }
 },
 "nbformat": 4,
 "nbformat_minor": 2
}
