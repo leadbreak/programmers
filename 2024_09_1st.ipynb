{
 "cells": [
  {
   "cell_type": "markdown",
   "metadata": {},
   "source": [
    "### [택배 배달과 수거하기](https://school.programmers.co.kr/learn/courses/30/lessons/150369)"
   ]
  },
  {
   "cell_type": "code",
   "execution_count": 9,
   "metadata": {},
   "outputs": [],
   "source": [
    "from collections import deque\n",
    "\n",
    "def solution(cap, n, deliveries, pickups):\n",
    "    \n",
    "    deliveries = deque(reversed(deliveries))\n",
    "    pickups = deque(reversed(pickups))\n",
    "    answer = 0\n",
    "    \n",
    "    while deliveries or pickups:\n",
    "        # 맨 마지막 집부터 배달/수거를 고려\n",
    "        while deliveries and deliveries[0] == 0:\n",
    "            deliveries.popleft()\n",
    "        while pickups and pickups[0] == 0:\n",
    "            pickups.popleft()\n",
    "        \n",
    "        if not deliveries and not pickups:\n",
    "            break\n",
    "        \n",
    "        # 가장 먼 거리 계산\n",
    "        distance = max(len(deliveries), len(pickups))\n",
    "        answer += distance * 2\n",
    "        \n",
    "        # 배달 및 수거 처리\n",
    "        cap_deliver = cap\n",
    "        cap_pickup = cap\n",
    "        \n",
    "        while deliveries and cap_deliver > 0:\n",
    "            if deliveries[0] <= cap_deliver:\n",
    "                cap_deliver -= deliveries.popleft()\n",
    "            else:\n",
    "                deliveries[0] -= cap_deliver\n",
    "                cap_deliver = 0\n",
    "        \n",
    "        while pickups and cap_pickup > 0:\n",
    "            if pickups[0] <= cap_pickup:\n",
    "                cap_pickup -= pickups.popleft()\n",
    "            else:\n",
    "                pickups[0] -= cap_pickup\n",
    "                cap_pickup = 0\n",
    "        \n",
    "    return answer"
   ]
  },
  {
   "cell_type": "code",
   "execution_count": 10,
   "metadata": {},
   "outputs": [
    {
     "data": {
      "text/plain": [
       "16"
      ]
     },
     "execution_count": 10,
     "metadata": {},
     "output_type": "execute_result"
    }
   ],
   "source": [
    "cap, n, deliveries, pickups = 4, 5,\t[1, 0, 3, 1, 2], [0, 3, 0, 4, 0]\n",
    "solution(cap, n, deliveries, pickups)"
   ]
  }
 ],
 "metadata": {
  "kernelspec": {
   "display_name": ".venv",
   "language": "python",
   "name": "python3"
  },
  "language_info": {
   "codemirror_mode": {
    "name": "ipython",
    "version": 3
   },
   "file_extension": ".py",
   "mimetype": "text/x-python",
   "name": "python",
   "nbconvert_exporter": "python",
   "pygments_lexer": "ipython3",
   "version": "3.10.12"
  }
 },
 "nbformat": 4,
 "nbformat_minor": 2
}
