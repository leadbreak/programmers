{
 "cells": [
  {
   "cell_type": "markdown",
   "metadata": {},
   "source": [
    "## BFS, DFS 정리\n",
    "\n",
    "### BFS(너비 우선 탐색)\n",
    "BFS는 레벨 별로(즉, 시작 노드에서부터의 거리가 같은 노드들을 그룹으로) 노드를 탐색합니다. 큐(Queue)를 사용하여 구현하며, 다음과 같은 특징과 사용 시기가 있습니다:  \n",
    "  \n",
    "[특징]  \n",
    "- 모든 노드를 균등하게 탐색합니다.  \n",
    "- 최단 경로를 보장합니다 (가중치가 없는 그래프에서).  \n",
    "- 메모리 사용이 DFS에 비해 많을 수 있습니다 (넓은 트리에서).  \n",
    "\n",
    "[사용 시기]  \n",
    "- 최단 경로나 최소 이동 횟수를 구할 때 효과적입니다 (예: 미로 최단 거리).  \n",
    "- 그래프의 모든 레벨을 탐색해야 할 때.  \n",
    "- 노드가 깊이에 비해 넓게 분포된 경우.\n",
    "\n",
    "### DFS(깊이 우선 탐색)\n",
    "DFS는 가능한 한 깊숙이 노드를 탐색하며, 스택(Stack) 또는 재귀 함수로 구현합니다. 다음은 DFS의 특징과 적합한 사용 시기입니다:\n",
    "\n",
    "[특징]  \n",
    "- 깊은 노드를 우선적으로 탐색하며, 뒤로 돌아가 다른 경로를 탐색합니다.  \n",
    "- 메모리 사용이 상대적으로 적을 수 있습니다 (현재 경로상의 노드만 기억).  \n",
    "- 최단 경로를 보장하지 않습니다.  \n",
    "\n",
    "[사용 시기]  \n",
    "- 모든 가능한 해를 탐색해야 할 때 (예: 퍼즐 게임).  \n",
    "- 해가 깊게 숨어 있을 것으로 예상될 때.  \n",
    "- 그래프가 매우 깊고, 넓지 않을 때 (깊은 트리).  \n",
    "\n",
    "### 결정 요인\n",
    "- 경로의 특성: 최단 경로가 필요하면 BFS, 가능한 모든 경로를 탐색해야 하면 DFS.\n",
    "- 그래프의 크기와 형태: 그래프가 매우 넓다면 DFS가 메모리 측면에서 효율적일 수 있고, 그래프가 매우 깊고 넓지 않다면 BFS를 사용하는 것이 과도한 메모리 소모를 줄일 수 있습니다.\n",
    "- 해결해야 할 문제의 종류: 순환 감지, 정렬, 연결 요소 탐색 등 명확한 목적에 따라 적합한 탐색 방식이 달라집니다."
   ]
  },
  {
   "cell_type": "markdown",
   "metadata": {},
   "source": [
    "## DefaultDict\n",
    "- python 내장 dictionary와의 차이는 아직 존재하지 않는 키 값에 추가할 때, 'dictionary'는 해당 키값을 초기화한 뒤 이후에 값을 추가할 수 있는 반면, defaultdict는 값을 추가할 때 해당 키값이 존재하지 않으면 새로 만들어 진행함"
   ]
  },
  {
   "cell_type": "code",
   "execution_count": 1,
   "metadata": {},
   "outputs": [
    {
     "name": "stdout",
     "output_type": "stream",
     "text": [
      "defaultdict(<class 'list'>, {'a': [1]})\n"
     ]
    }
   ],
   "source": [
    "from collections import defaultdict\n",
    "\n",
    "# 기본 값이 리스트인 defaultdict\n",
    "dd = defaultdict(list)\n",
    "\n",
    "# 'a'라는 키에 접근\n",
    "dd['a'].append(1)  # 'a'가 없지만, 자동으로 빈 리스트가 생성되고 1이 추가됨\n",
    "\n",
    "print(dd)  # defaultdict(<class 'list'>, {'a': [1]})\n"
   ]
  },
  {
   "cell_type": "code",
   "execution_count": 2,
   "metadata": {},
   "outputs": [
    {
     "name": "stdout",
     "output_type": "stream",
     "text": [
      "해당 dictionary에는 해당 키('a')가 존재하지 않습니다\n",
      "{'a': [1]}\n"
     ]
    }
   ],
   "source": [
    "# 일반적인 dictionary\n",
    "d = {}\n",
    "\n",
    "# 'a'라는 키에 접근하려고 하면 에러 발생\n",
    "try:\n",
    "    d['a'].append(1)  # KeyError 발생\n",
    "except KeyError:\n",
    "    print(f\"해당 dictionary에는 해당 키('a')가 존재하지 않습니다\")\n",
    "\n",
    "# 키가 없으면 수동으로 값을 초기화해야 함\n",
    "if 'a' not in d:\n",
    "    d['a'] = []\n",
    "d['a'].append(1)\n",
    "\n",
    "print(d)  # {'a': [1]}\n"
   ]
  },
  {
   "cell_type": "code",
   "execution_count": 5,
   "metadata": {},
   "outputs": [
    {
     "name": "stdout",
     "output_type": "stream",
     "text": [
      "단위 테스트(1,000) 소요시간: 0.56초\n",
      "단위 테스트(100,000) 소요시간: 0.14초\n",
      "단위 테스트(100,000,000) 소요시간: 134.85초\n"
     ]
    }
   ],
   "source": [
    "from collections import defaultdict\n",
    "import string\n",
    "import time\n",
    "import random\n",
    "\n",
    "# 알파벳 소문자 리스트\n",
    "letters = string.ascii_lowercase\n",
    "\n",
    "# 'a'부터 'zz'까지 리스트 생성\n",
    "key_list = [a + b for a in [''] + list(letters) for b in letters]\n",
    "s_time = time.time()\n",
    "\n",
    "test = defaultdict(list)\n",
    "for _ in range(1000):\n",
    "    k, v = random.choice(key_list), random.randint(1, 10000000)\n",
    "    test[k].append(v)\n",
    "print(f'단위 테스트(1,000) 소요시간: {time.time() - s_time:.2f}초')\n",
    "\n",
    "s_time = time.time()\n",
    "test = defaultdict(list)\n",
    "for _ in range(100000):\n",
    "    k, v = random.choice(key_list), random.randint(1, 10000000)\n",
    "    test[k].append(v)\n",
    "print(f'단위 테스트(100,000) 소요시간: {time.time() - s_time:.2f}초')\n",
    "\n",
    "s_time = time.time()\n",
    "test = defaultdict(list)\n",
    "for _ in range(100_000_000):\n",
    "    k, v = random.choice(key_list), random.randint(1, 10000000)\n",
    "    test[k].append(v)\n",
    "print(f'단위 테스트(100,000,000) 소요시간: {time.time() - s_time:.2f}초')"
   ]
  },
  {
   "cell_type": "code",
   "execution_count": 6,
   "metadata": {},
   "outputs": [
    {
     "name": "stdout",
     "output_type": "stream",
     "text": [
      "단위 테스트(1,000) 소요시간: 4.75초\n"
     ]
    },
    {
     "name": "stdout",
     "output_type": "stream",
     "text": [
      "단위 테스트(100,000) 소요시간: 0.14초\n",
      "단위 테스트(100,000,000) 소요시간: 134.66초\n"
     ]
    }
   ],
   "source": [
    "s_time = time.time()\n",
    "test = defaultdict(list)\n",
    "for _ in range(1000):\n",
    "    k, v = random.choice(key_list), random.randint(1, 10000000)\n",
    "    try: \n",
    "        test[k].append(v)\n",
    "    except:\n",
    "        test[k] = v\n",
    "print(f'단위 테스트(1,000) 소요시간: {time.time() - s_time:.2f}초')\n",
    "\n",
    "s_time = time.time()\n",
    "test = defaultdict(list)\n",
    "for _ in range(100000):\n",
    "    k, v = random.choice(key_list), random.randint(1, 10000000)\n",
    "    try: \n",
    "        test[k].append(v)\n",
    "    except:\n",
    "        test[k] = v\n",
    "print(f'단위 테스트(100,000) 소요시간: {time.time() - s_time:.2f}초')\n",
    "\n",
    "s_time = time.time()\n",
    "test = defaultdict(list)\n",
    "for _ in range(100_000_000):\n",
    "    k, v = random.choice(key_list), random.randint(1, 10000000)\n",
    "    try: \n",
    "        test[k].append(v)\n",
    "    except:\n",
    "        test[k] = v\n",
    "print(f'단위 테스트(100,000,000) 소요시간: {time.time() - s_time:.2f}초')"
   ]
  }
 ],
 "metadata": {
  "kernelspec": {
   "display_name": ".venv",
   "language": "python",
   "name": "python3"
  },
  "language_info": {
   "codemirror_mode": {
    "name": "ipython",
    "version": 3
   },
   "file_extension": ".py",
   "mimetype": "text/x-python",
   "name": "python",
   "nbconvert_exporter": "python",
   "pygments_lexer": "ipython3",
   "version": "3.10.12"
  }
 },
 "nbformat": 4,
 "nbformat_minor": 2
}
