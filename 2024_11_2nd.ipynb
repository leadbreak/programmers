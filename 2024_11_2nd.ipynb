{
 "cells": [
  {
   "cell_type": "markdown",
   "metadata": {},
   "source": [
    "### [도넛과 막대그래프](https://school.programmers.co.kr/learn/courses/30/lessons/258711)"
   ]
  },
  {
   "cell_type": "code",
   "execution_count": null,
   "metadata": {},
   "outputs": [],
   "source": [
    "from collections import defaultdict\n",
    "\n",
    "def solution(edges):\n",
    "\n",
    "    degrees = defaultdict(lambda: [0, 0])  # 각 노드의 [진출차수, 진입차수]를 저장\n",
    "\n",
    "    # 모든 간선을 순회하며 각 노드의 진출차수와 진입차수를 계산\n",
    "    for a, b in edges:\n",
    "        degrees[a][0] += 1  \n",
    "        degrees[b][1] += 1  \n",
    "\n",
    "    bar_count = 0         # 막대\n",
    "    eight_count = 0       # 8자 \n",
    "    generated_node = -1   # 도넛 = 생성 노드 - 막대 - 8자\n",
    "\n",
    "    for node, (out_deg, in_deg) in degrees.items():\n",
    "        if out_deg == 0:\n",
    "            bar_count += 1  # 진출차수가 0인 노드는 막대 모양 그래프의 끝점\n",
    "        if out_deg == 2 and in_deg >= 2:\n",
    "            eight_count += 1  # 진출차수가 2이고 진입차수가 2 이상인 노드는 8자 모양 그래프의 중앙 노드\n",
    "        if in_deg == 0 and out_deg >= 2:\n",
    "            generated_node = node  # 진입차수가 0이고 진출차수가 2 이상인 노드는 생성된 노드\n",
    "\n",
    "    # 도넛 모양 그래프의 수는 생성된 노드의 진출차수에서 막대와 8자 그래프의 수를 빼서 계산\n",
    "    donut_count = degrees[generated_node][0] - bar_count - eight_count\n",
    "\n",
    "    return [generated_node, donut_count, bar_count, eight_count]"
   ]
  }
 ],
 "metadata": {
  "kernelspec": {
   "display_name": "agingSwap",
   "language": "python",
   "name": "python3"
  },
  "language_info": {
   "name": "python",
   "version": "3.12.7"
  }
 },
 "nbformat": 4,
 "nbformat_minor": 2
}
