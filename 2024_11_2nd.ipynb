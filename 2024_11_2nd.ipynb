{
 "cells": [
  {
   "cell_type": "markdown",
   "metadata": {},
   "source": [
    "### [도넛과 막대그래프](https://school.programmers.co.kr/learn/courses/30/lessons/258711)"
   ]
  },
  {
   "cell_type": "code",
   "execution_count": null,
   "metadata": {},
   "outputs": [],
   "source": [
    "from collections import defaultdict\n",
    "\n",
    "def solution(edges):\n",
    "\n",
    "    degrees = defaultdict(lambda: [0, 0])  # 각 노드의 [진출차수, 진입차수]를 저장\n",
    "\n",
    "    # 모든 간선을 순회하며 각 노드의 진출차수와 진입차수를 계산\n",
    "    for a, b in edges:\n",
    "        degrees[a][0] += 1  \n",
    "        degrees[b][1] += 1  \n",
    "\n",
    "    bar_count = 0         # 막대\n",
    "    eight_count = 0       # 8자 \n",
    "    generated_node = -1   # 도넛 = 생성 노드 - 막대 - 8자\n",
    "\n",
    "    for node, (out_deg, in_deg) in degrees.items():\n",
    "        if out_deg == 0:\n",
    "            bar_count += 1  # 진출차수가 0인 노드는 막대 모양 그래프의 끝점\n",
    "        if out_deg == 2 and in_deg >= 2:\n",
    "            eight_count += 1  # 진출차수가 2이고 진입차수가 2 이상인 노드는 8자 모양 그래프의 중앙 노드\n",
    "        if in_deg == 0 and out_deg >= 2:\n",
    "            generated_node = node  # 진입차수가 0이고 진출차수가 2 이상인 노드는 생성된 노드\n",
    "\n",
    "    # 도넛 모양 그래프의 수는 생성된 노드의 진출차수에서 막대와 8자 그래프의 수를 빼서 계산\n",
    "    donut_count = degrees[generated_node][0] - bar_count - eight_count\n",
    "\n",
    "    return [generated_node, donut_count, bar_count, eight_count]"
   ]
  },
  {
   "cell_type": "markdown",
   "metadata": {},
   "source": [
    "### [빛의 경로 사이클](https://school.programmers.co.kr/learn/courses/30/lessons/86052?language=python3)"
   ]
  },
  {
   "cell_type": "markdown",
   "metadata": {},
   "source": [
    "- 3차원 array로 좌표와 방향성을 포함한 history를 저장"
   ]
  },
  {
   "cell_type": "code",
   "execution_count": 186,
   "metadata": {},
   "outputs": [],
   "source": [
    "def solution(grid):\n",
    "    def move(y, x, direction):\n",
    "        # 방향에 따라 이동 (0: 위, 1: 오른쪽, 2: 아래, 3: 왼쪽)\n",
    "        if direction == 0: y = (y - 1) % rows\n",
    "        elif direction == 1: x = (x + 1) % cols\n",
    "        elif direction == 2: y = (y + 1) % rows\n",
    "        elif direction == 3: x = (x - 1) % cols\n",
    "        return y, x\n",
    "\n",
    "    def turn(direction, cell):\n",
    "        # 칸에 따라 방향 변경\n",
    "        if cell == \"L\": direction = (direction - 1) % 4\n",
    "        elif cell == \"R\": direction = (direction + 1) % 4\n",
    "        return direction\n",
    "\n",
    "    rows, cols = len(grid), len(grid[0])\n",
    "    visited = [[[False] * 4 for _ in range(cols)] for _ in range(rows)]\n",
    "    cycles = []\n",
    "\n",
    "    for y in range(rows):\n",
    "        for x in range(cols):\n",
    "            for direction in range(4):\n",
    "                if not visited[y][x][direction]:\n",
    "                    length = 0\n",
    "                    ny, nx, nd = y, x, direction\n",
    "\n",
    "                    while not visited[ny][nx][nd]:\n",
    "                        visited[ny][nx][nd] = True\n",
    "                        length += 1\n",
    "                        nd = turn(nd, grid[ny][nx])\n",
    "                        ny, nx = move(ny, nx, nd)\n",
    "\n",
    "                    cycles.append(length)\n",
    "\n",
    "    return sorted(cycles)\n"
   ]
  },
  {
   "cell_type": "code",
   "execution_count": 187,
   "metadata": {},
   "outputs": [
    {
     "data": {
      "text/plain": [
       "[4, 4]"
      ]
     },
     "execution_count": 187,
     "metadata": {},
     "output_type": "execute_result"
    }
   ],
   "source": [
    "grid = [\"R\", \"R\"]\n",
    "solution(grid)"
   ]
  },
  {
   "cell_type": "code",
   "execution_count": 188,
   "metadata": {},
   "outputs": [
    {
     "data": {
      "text/plain": [
       "[1, 1, 1, 1]"
      ]
     },
     "execution_count": 188,
     "metadata": {},
     "output_type": "execute_result"
    }
   ],
   "source": [
    "grid = [\"S\"]\n",
    "solution(grid)"
   ]
  },
  {
   "cell_type": "code",
   "execution_count": 189,
   "metadata": {},
   "outputs": [
    {
     "data": {
      "text/plain": [
       "[16]"
      ]
     },
     "execution_count": 189,
     "metadata": {},
     "output_type": "execute_result"
    }
   ],
   "source": [
    "grid = [\"SL\", \"LR\"]\n",
    "solution(grid)"
   ]
  }
 ],
 "metadata": {
  "kernelspec": {
   "display_name": "Python 3",
   "language": "python",
   "name": "python3"
  },
  "language_info": {
   "codemirror_mode": {
    "name": "ipython",
    "version": 3
   },
   "file_extension": ".py",
   "mimetype": "text/x-python",
   "name": "python",
   "nbconvert_exporter": "python",
   "pygments_lexer": "ipython3",
   "version": "3.10.12"
  }
 },
 "nbformat": 4,
 "nbformat_minor": 2
}
