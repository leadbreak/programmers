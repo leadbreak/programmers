{
 "cells": [
  {
   "cell_type": "markdown",
   "metadata": {},
   "source": [
    "### [도넛과 막대그래프](https://school.programmers.co.kr/learn/courses/30/lessons/258711)"
   ]
  },
  {
   "cell_type": "code",
   "execution_count": null,
   "metadata": {},
   "outputs": [],
   "source": [
    "from collections import defaultdict\n",
    "\n",
    "def solution(edges):\n",
    "\n",
    "    degrees = defaultdict(lambda: [0, 0])  # 각 노드의 [진출차수, 진입차수]를 저장\n",
    "\n",
    "    # 모든 간선을 순회하며 각 노드의 진출차수와 진입차수를 계산\n",
    "    for a, b in edges:\n",
    "        degrees[a][0] += 1  \n",
    "        degrees[b][1] += 1  \n",
    "\n",
    "    bar_count = 0         # 막대\n",
    "    eight_count = 0       # 8자 \n",
    "    generated_node = -1   # 도넛 = 생성 노드 - 막대 - 8자\n",
    "\n",
    "    for node, (out_deg, in_deg) in degrees.items():\n",
    "        if out_deg == 0:\n",
    "            bar_count += 1  # 진출차수가 0인 노드는 막대 모양 그래프의 끝점\n",
    "        if out_deg == 2 and in_deg >= 2:\n",
    "            eight_count += 1  # 진출차수가 2이고 진입차수가 2 이상인 노드는 8자 모양 그래프의 중앙 노드\n",
    "        if in_deg == 0 and out_deg >= 2:\n",
    "            generated_node = node  # 진입차수가 0이고 진출차수가 2 이상인 노드는 생성된 노드\n",
    "\n",
    "    # 도넛 모양 그래프의 수는 생성된 노드의 진출차수에서 막대와 8자 그래프의 수를 빼서 계산\n",
    "    donut_count = degrees[generated_node][0] - bar_count - eight_count\n",
    "\n",
    "    return [generated_node, donut_count, bar_count, eight_count]"
   ]
  },
  {
   "cell_type": "markdown",
   "metadata": {},
   "source": [
    "### [빛의 경로 사이클](https://school.programmers.co.kr/learn/courses/30/lessons/86052?language=python3)"
   ]
  },
  {
   "cell_type": "code",
   "execution_count": 182,
   "metadata": {},
   "outputs": [],
   "source": [
    "def solution(grid):\n",
    "    answer = []\n",
    "    length = len(grid)\n",
    "    matrix = [[0]*(length+2) for _ in range(length+2)]\n",
    "    for y_idx, _ in enumerate(grid):\n",
    "        for x_idx, x in enumerate(grid[y_idx]):\n",
    "            matrix[y_idx+1][x_idx+1] = x\n",
    "    \n",
    "    # 사각 모서리 비활성화\n",
    "    matrix[0][0] = matrix[0][length+1] = matrix[length+1][0] = matrix[length+1][length+1] = \"False\"    \n",
    "    \n",
    "    left_start = [(x,0, 0, 1) for x in range(1, length+1)]\n",
    "    right_start = [(x,length+1, 0, -1) for x in range(1, length+1)]\n",
    "    top_start = [(0,x, 1, 0) for x in range(1, length+1)]\n",
    "    bottom_start = [(length+1,x, -1, 0) for x in range(1, length+1)]\n",
    "    \n",
    "    starts = left_start + right_start + top_start + bottom_start\n",
    "    while starts:\n",
    "        cy, cx , dy, dx = starts.pop()\n",
    "        route = [(cy, cx, dy, dx)]\n",
    "        ny, nx = cy+dy, cx+dx\n",
    "        \n",
    "        route.append((ny, nx, dy, dx))\n",
    "        \n",
    "        # 끝점 치환\n",
    "        if matrix[ny][nx] == 0:\n",
    "            ny = ny if 0 < ny < length+1 else (0 if ny == length+1 else length+1)\n",
    "            nx = nx if 0 < nx < length+1 else (0 if nx == length+1 else length+1)\n",
    "            if (ny, nx, dy, dx) in route:\n",
    "                answer.append(((ny, nx, dy, dx), len(route)-route.index((ny,nx,dy,dx))))\n",
    "            else :\n",
    "                ny += dy\n",
    "                nx += dx\n",
    "                route.append((ny, nx, dy, dx))\n",
    "                \n",
    "        while True:\n",
    "            if matrix[ny][nx] == 'S':\n",
    "                my = ny+dy\n",
    "                mx = nx+dx\n",
    "            elif matrix[ny][nx] == 'R':\n",
    "                my = ny-dx\n",
    "                mx = nx+dy\n",
    "            elif matrix[ny][nx] == 'L':\n",
    "                my = ny+dx\n",
    "                mx = nx-dy          \n",
    "    \n",
    "\n",
    "            cx, cy = nx, ny\n",
    "            nx, ny = mx, my\n",
    "            dx, dy = nx-cx, ny-cy\n",
    "\n",
    "            if (ny, nx, dy, dx) in route and route.index((ny, nx, dy, dx)) != len(route)-1:\n",
    "                print(f'scout 001: {route=}, {(ny, nx, dy, dx)=}')\n",
    "                answer.append(((ny, nx, dy, dx))               , len(route)-route.index((ny,nx,dy,dx))) \n",
    "                break\n",
    "            \n",
    "\n",
    "            print(f'scout 002:{(ny, nx, dy, dx)=}')\n",
    "            route.append((ny, nx, dy, dx))\n",
    "            # 끝점 치환\n",
    "            if matrix[ny][nx] == 0:\n",
    "                ny = ny if 0 < ny < length+1 else (0 if ny == length+1 else length+1)\n",
    "                nx = nx if 0 < nx < length+1 else (0 if nx == length+1 else length+1)\n",
    "                if (ny, nx, dy, dx) in route and route.index((ny, nx, dy, dx)) != len(route)-1:\n",
    "                    answer.append(((ny, nx, dy, dx), len(route)-route.index((ny,nx,dy,dx))))\n",
    "                    print(f'scout 003: {route.index((ny, nx, dy, dx))=}, {(len(route)-route.index((ny, nx, dy, dx)))=}, {route=}, {(ny, nx, dy, dx)=}')\n",
    "                    break\n",
    "                else :\n",
    "                    ny += dy\n",
    "                    nx += dx\n",
    "                    route.append((ny, nx, dy, dx))          \n",
    "\n",
    "    print(answer)\n"
   ]
  },
  {
   "cell_type": "code",
   "execution_count": 185,
   "metadata": {},
   "outputs": [
    {
     "ename": "UnboundLocalError",
     "evalue": "local variable 'mx' referenced before assignment",
     "output_type": "error",
     "traceback": [
      "\u001b[0;31m---------------------------------------------------------------------------\u001b[0m",
      "\u001b[0;31mUnboundLocalError\u001b[0m                         Traceback (most recent call last)",
      "Cell \u001b[0;32mIn[185], line 2\u001b[0m\n\u001b[1;32m      1\u001b[0m grid \u001b[38;5;241m=\u001b[39m [\u001b[38;5;124m\"\u001b[39m\u001b[38;5;124mR\u001b[39m\u001b[38;5;124m\"\u001b[39m, \u001b[38;5;124m\"\u001b[39m\u001b[38;5;124mR\u001b[39m\u001b[38;5;124m\"\u001b[39m]\n\u001b[0;32m----> 2\u001b[0m \u001b[43msolution\u001b[49m\u001b[43m(\u001b[49m\u001b[43mgrid\u001b[49m\u001b[43m)\u001b[49m\n",
      "Cell \u001b[0;32mIn[182], line 49\u001b[0m, in \u001b[0;36msolution\u001b[0;34m(grid)\u001b[0m\n\u001b[1;32m     45\u001b[0m     mx \u001b[38;5;241m=\u001b[39m nx\u001b[38;5;241m-\u001b[39mdy          \n\u001b[1;32m     48\u001b[0m cx, cy \u001b[38;5;241m=\u001b[39m nx, ny\n\u001b[0;32m---> 49\u001b[0m nx, ny \u001b[38;5;241m=\u001b[39m \u001b[43mmx\u001b[49m, my\n\u001b[1;32m     50\u001b[0m dx, dy \u001b[38;5;241m=\u001b[39m nx\u001b[38;5;241m-\u001b[39mcx, ny\u001b[38;5;241m-\u001b[39mcy\n\u001b[1;32m     52\u001b[0m \u001b[38;5;28;01mif\u001b[39;00m (ny, nx, dy, dx) \u001b[38;5;129;01min\u001b[39;00m route \u001b[38;5;129;01mand\u001b[39;00m route\u001b[38;5;241m.\u001b[39mindex((ny, nx, dy, dx)) \u001b[38;5;241m!=\u001b[39m \u001b[38;5;28mlen\u001b[39m(route)\u001b[38;5;241m-\u001b[39m\u001b[38;5;241m1\u001b[39m:\n",
      "\u001b[0;31mUnboundLocalError\u001b[0m: local variable 'mx' referenced before assignment"
     ]
    }
   ],
   "source": [
    "grid = [\"R\", \"R\"]\n",
    "solution(grid)"
   ]
  },
  {
   "cell_type": "code",
   "execution_count": 184,
   "metadata": {},
   "outputs": [
    {
     "name": "stdout",
     "output_type": "stream",
     "text": [
      "scout 002:(ny, nx, dy, dx)=(0, 1, -1, 0)\n",
      "scout 003: route.index((ny, nx, dy, dx))=0, (len(route)-route.index((ny, nx, dy, dx)))=3, route=[(2, 1, -1, 0), (1, 1, -1, 0), (0, 1, -1, 0)], (ny, nx, dy, dx)=(2, 1, -1, 0)\n",
      "scout 002:(ny, nx, dy, dx)=(2, 1, 1, 0)\n",
      "scout 003: route.index((ny, nx, dy, dx))=0, (len(route)-route.index((ny, nx, dy, dx)))=3, route=[(0, 1, 1, 0), (1, 1, 1, 0), (2, 1, 1, 0)], (ny, nx, dy, dx)=(0, 1, 1, 0)\n",
      "scout 002:(ny, nx, dy, dx)=(1, 0, 0, -1)\n",
      "scout 003: route.index((ny, nx, dy, dx))=0, (len(route)-route.index((ny, nx, dy, dx)))=3, route=[(1, 2, 0, -1), (1, 1, 0, -1), (1, 0, 0, -1)], (ny, nx, dy, dx)=(1, 2, 0, -1)\n",
      "scout 002:(ny, nx, dy, dx)=(1, 2, 0, 1)\n",
      "scout 003: route.index((ny, nx, dy, dx))=0, (len(route)-route.index((ny, nx, dy, dx)))=3, route=[(1, 0, 0, 1), (1, 1, 0, 1), (1, 2, 0, 1)], (ny, nx, dy, dx)=(1, 0, 0, 1)\n",
      "[((2, 1, -1, 0), 3), ((0, 1, 1, 0), 3), ((1, 2, 0, -1), 3), ((1, 0, 0, 1), 3)]\n"
     ]
    }
   ],
   "source": [
    "grid = [\"S\"]\n",
    "solution(grid)"
   ]
  },
  {
   "cell_type": "code",
   "execution_count": 183,
   "metadata": {},
   "outputs": [
    {
     "name": "stdout",
     "output_type": "stream",
     "text": [
      "scout 002:(ny, nx, dy, dx)=(2, 1, 0, -1)\n",
      "scout 002:(ny, nx, dy, dx)=(1, 1, -1, 0)\n",
      "scout 002:(ny, nx, dy, dx)=(0, 1, -1, 0)\n",
      "scout 002:(ny, nx, dy, dx)=(2, 2, 0, 1)\n",
      "scout 002:(ny, nx, dy, dx)=(1, 2, -1, 0)\n",
      "scout 002:(ny, nx, dy, dx)=(1, 3, 0, 1)\n",
      "scout 002:(ny, nx, dy, dx)=(1, 2, 0, 1)\n",
      "scout 002:(ny, nx, dy, dx)=(2, 2, 1, 0)\n",
      "scout 002:(ny, nx, dy, dx)=(2, 3, 0, 1)\n",
      "scout 002:(ny, nx, dy, dx)=(3, 1, 1, 0)\n",
      "scout 002:(ny, nx, dy, dx)=(2, 1, 1, 0)\n",
      "scout 002:(ny, nx, dy, dx)=(2, 0, 0, -1)\n",
      "scout 002:(ny, nx, dy, dx)=(3, 2, 1, 0)\n",
      "scout 002:(ny, nx, dy, dx)=(1, 1, 0, -1)\n",
      "scout 002:(ny, nx, dy, dx)=(1, 0, 0, -1)\n",
      "scout 002:(ny, nx, dy, dx)=(0, 2, -1, 0)\n",
      "scout 003: route.index((ny, nx, dy, dx))=0, (len(route)-route.index((ny, nx, dy, dx)))=25, route=[(3, 2, -1, 0), (2, 2, -1, 0), (2, 1, 0, -1), (1, 1, -1, 0), (0, 1, -1, 0), (2, 1, -1, 0), (2, 2, 0, 1), (1, 2, -1, 0), (1, 3, 0, 1), (1, 1, 0, 1), (1, 2, 0, 1), (2, 2, 1, 0), (2, 3, 0, 1), (2, 1, 0, 1), (3, 1, 1, 0), (1, 1, 1, 0), (2, 1, 1, 0), (2, 0, 0, -1), (2, 2, 0, -1), (3, 2, 1, 0), (1, 2, 1, 0), (1, 1, 0, -1), (1, 0, 0, -1), (1, 2, 0, -1), (0, 2, -1, 0)], (ny, nx, dy, dx)=(3, 2, -1, 0)\n",
      "scout 002:(ny, nx, dy, dx)=(2, 2, 0, 1)\n",
      "scout 002:(ny, nx, dy, dx)=(1, 2, -1, 0)\n",
      "scout 002:(ny, nx, dy, dx)=(1, 3, 0, 1)\n",
      "scout 002:(ny, nx, dy, dx)=(1, 2, 0, 1)\n",
      "scout 002:(ny, nx, dy, dx)=(2, 2, 1, 0)\n",
      "scout 002:(ny, nx, dy, dx)=(2, 3, 0, 1)\n",
      "scout 002:(ny, nx, dy, dx)=(3, 1, 1, 0)\n",
      "scout 002:(ny, nx, dy, dx)=(2, 1, 1, 0)\n",
      "scout 002:(ny, nx, dy, dx)=(2, 0, 0, -1)\n",
      "scout 002:(ny, nx, dy, dx)=(3, 2, 1, 0)\n",
      "scout 002:(ny, nx, dy, dx)=(1, 1, 0, -1)\n",
      "scout 002:(ny, nx, dy, dx)=(1, 0, 0, -1)\n",
      "scout 002:(ny, nx, dy, dx)=(0, 2, -1, 0)\n",
      "scout 002:(ny, nx, dy, dx)=(2, 1, 0, -1)\n",
      "scout 002:(ny, nx, dy, dx)=(1, 1, -1, 0)\n",
      "scout 002:(ny, nx, dy, dx)=(0, 1, -1, 0)\n",
      "scout 003: route.index((ny, nx, dy, dx))=0, (len(route)-route.index((ny, nx, dy, dx)))=25, route=[(3, 1, -1, 0), (2, 1, -1, 0), (2, 2, 0, 1), (1, 2, -1, 0), (1, 3, 0, 1), (1, 1, 0, 1), (1, 2, 0, 1), (2, 2, 1, 0), (2, 3, 0, 1), (2, 1, 0, 1), (3, 1, 1, 0), (1, 1, 1, 0), (2, 1, 1, 0), (2, 0, 0, -1), (2, 2, 0, -1), (3, 2, 1, 0), (1, 2, 1, 0), (1, 1, 0, -1), (1, 0, 0, -1), (1, 2, 0, -1), (0, 2, -1, 0), (2, 2, -1, 0), (2, 1, 0, -1), (1, 1, -1, 0), (0, 1, -1, 0)], (ny, nx, dy, dx)=(3, 1, -1, 0)\n",
      "scout 002:(ny, nx, dy, dx)=(1, 1, 0, -1)\n",
      "scout 002:(ny, nx, dy, dx)=(1, 0, 0, -1)\n",
      "scout 002:(ny, nx, dy, dx)=(0, 2, -1, 0)\n",
      "scout 002:(ny, nx, dy, dx)=(2, 1, 0, -1)\n",
      "scout 002:(ny, nx, dy, dx)=(1, 1, -1, 0)\n",
      "scout 002:(ny, nx, dy, dx)=(0, 1, -1, 0)\n",
      "scout 002:(ny, nx, dy, dx)=(2, 2, 0, 1)\n",
      "scout 002:(ny, nx, dy, dx)=(1, 2, -1, 0)\n",
      "scout 002:(ny, nx, dy, dx)=(1, 3, 0, 1)\n",
      "scout 002:(ny, nx, dy, dx)=(1, 2, 0, 1)\n",
      "scout 002:(ny, nx, dy, dx)=(2, 2, 1, 0)\n",
      "scout 002:(ny, nx, dy, dx)=(2, 3, 0, 1)\n",
      "scout 002:(ny, nx, dy, dx)=(3, 1, 1, 0)\n",
      "scout 002:(ny, nx, dy, dx)=(2, 1, 1, 0)\n",
      "scout 002:(ny, nx, dy, dx)=(2, 0, 0, -1)\n",
      "scout 002:(ny, nx, dy, dx)=(3, 2, 1, 0)\n",
      "scout 003: route.index((ny, nx, dy, dx))=0, (len(route)-route.index((ny, nx, dy, dx)))=25, route=[(0, 2, 1, 0), (1, 2, 1, 0), (1, 1, 0, -1), (1, 0, 0, -1), (1, 2, 0, -1), (0, 2, -1, 0), (2, 2, -1, 0), (2, 1, 0, -1), (1, 1, -1, 0), (0, 1, -1, 0), (2, 1, -1, 0), (2, 2, 0, 1), (1, 2, -1, 0), (1, 3, 0, 1), (1, 1, 0, 1), (1, 2, 0, 1), (2, 2, 1, 0), (2, 3, 0, 1), (2, 1, 0, 1), (3, 1, 1, 0), (1, 1, 1, 0), (2, 1, 1, 0), (2, 0, 0, -1), (2, 2, 0, -1), (3, 2, 1, 0)], (ny, nx, dy, dx)=(0, 2, 1, 0)\n",
      "scout 002:(ny, nx, dy, dx)=(2, 1, 1, 0)\n",
      "scout 002:(ny, nx, dy, dx)=(2, 0, 0, -1)\n",
      "scout 002:(ny, nx, dy, dx)=(3, 2, 1, 0)\n",
      "scout 002:(ny, nx, dy, dx)=(1, 1, 0, -1)\n",
      "scout 002:(ny, nx, dy, dx)=(1, 0, 0, -1)\n",
      "scout 002:(ny, nx, dy, dx)=(0, 2, -1, 0)\n",
      "scout 002:(ny, nx, dy, dx)=(2, 1, 0, -1)\n",
      "scout 002:(ny, nx, dy, dx)=(1, 1, -1, 0)\n",
      "scout 002:(ny, nx, dy, dx)=(0, 1, -1, 0)\n",
      "scout 002:(ny, nx, dy, dx)=(2, 2, 0, 1)\n",
      "scout 002:(ny, nx, dy, dx)=(1, 2, -1, 0)\n",
      "scout 002:(ny, nx, dy, dx)=(1, 3, 0, 1)\n",
      "scout 002:(ny, nx, dy, dx)=(1, 2, 0, 1)\n",
      "scout 002:(ny, nx, dy, dx)=(2, 2, 1, 0)\n",
      "scout 002:(ny, nx, dy, dx)=(2, 3, 0, 1)\n",
      "scout 002:(ny, nx, dy, dx)=(3, 1, 1, 0)\n",
      "scout 003: route.index((ny, nx, dy, dx))=0, (len(route)-route.index((ny, nx, dy, dx)))=25, route=[(0, 1, 1, 0), (1, 1, 1, 0), (2, 1, 1, 0), (2, 0, 0, -1), (2, 2, 0, -1), (3, 2, 1, 0), (1, 2, 1, 0), (1, 1, 0, -1), (1, 0, 0, -1), (1, 2, 0, -1), (0, 2, -1, 0), (2, 2, -1, 0), (2, 1, 0, -1), (1, 1, -1, 0), (0, 1, -1, 0), (2, 1, -1, 0), (2, 2, 0, 1), (1, 2, -1, 0), (1, 3, 0, 1), (1, 1, 0, 1), (1, 2, 0, 1), (2, 2, 1, 0), (2, 3, 0, 1), (2, 1, 0, 1), (3, 1, 1, 0)], (ny, nx, dy, dx)=(0, 1, 1, 0)\n",
      "scout 002:(ny, nx, dy, dx)=(3, 2, 1, 0)\n",
      "scout 002:(ny, nx, dy, dx)=(1, 1, 0, -1)\n",
      "scout 002:(ny, nx, dy, dx)=(1, 0, 0, -1)\n",
      "scout 002:(ny, nx, dy, dx)=(0, 2, -1, 0)\n",
      "scout 002:(ny, nx, dy, dx)=(2, 1, 0, -1)\n",
      "scout 002:(ny, nx, dy, dx)=(1, 1, -1, 0)\n",
      "scout 002:(ny, nx, dy, dx)=(0, 1, -1, 0)\n",
      "scout 002:(ny, nx, dy, dx)=(2, 2, 0, 1)\n",
      "scout 002:(ny, nx, dy, dx)=(1, 2, -1, 0)\n",
      "scout 002:(ny, nx, dy, dx)=(1, 3, 0, 1)\n",
      "scout 002:(ny, nx, dy, dx)=(1, 2, 0, 1)\n",
      "scout 002:(ny, nx, dy, dx)=(2, 2, 1, 0)\n",
      "scout 002:(ny, nx, dy, dx)=(2, 3, 0, 1)\n",
      "scout 002:(ny, nx, dy, dx)=(3, 1, 1, 0)\n",
      "scout 002:(ny, nx, dy, dx)=(2, 1, 1, 0)\n",
      "scout 002:(ny, nx, dy, dx)=(2, 0, 0, -1)\n",
      "scout 003: route.index((ny, nx, dy, dx))=0, (len(route)-route.index((ny, nx, dy, dx)))=25, route=[(2, 3, 0, -1), (2, 2, 0, -1), (3, 2, 1, 0), (1, 2, 1, 0), (1, 1, 0, -1), (1, 0, 0, -1), (1, 2, 0, -1), (0, 2, -1, 0), (2, 2, -1, 0), (2, 1, 0, -1), (1, 1, -1, 0), (0, 1, -1, 0), (2, 1, -1, 0), (2, 2, 0, 1), (1, 2, -1, 0), (1, 3, 0, 1), (1, 1, 0, 1), (1, 2, 0, 1), (2, 2, 1, 0), (2, 3, 0, 1), (2, 1, 0, 1), (3, 1, 1, 0), (1, 1, 1, 0), (2, 1, 1, 0), (2, 0, 0, -1)], (ny, nx, dy, dx)=(2, 3, 0, -1)\n",
      "scout 002:(ny, nx, dy, dx)=(0, 2, -1, 0)\n",
      "scout 002:(ny, nx, dy, dx)=(2, 1, 0, -1)\n",
      "scout 002:(ny, nx, dy, dx)=(1, 1, -1, 0)\n",
      "scout 002:(ny, nx, dy, dx)=(0, 1, -1, 0)\n",
      "scout 002:(ny, nx, dy, dx)=(2, 2, 0, 1)\n",
      "scout 002:(ny, nx, dy, dx)=(1, 2, -1, 0)\n",
      "scout 002:(ny, nx, dy, dx)=(1, 3, 0, 1)\n",
      "scout 002:(ny, nx, dy, dx)=(1, 2, 0, 1)\n",
      "scout 002:(ny, nx, dy, dx)=(2, 2, 1, 0)\n",
      "scout 002:(ny, nx, dy, dx)=(2, 3, 0, 1)\n",
      "scout 002:(ny, nx, dy, dx)=(3, 1, 1, 0)\n",
      "scout 002:(ny, nx, dy, dx)=(2, 1, 1, 0)\n",
      "scout 002:(ny, nx, dy, dx)=(2, 0, 0, -1)\n",
      "scout 002:(ny, nx, dy, dx)=(3, 2, 1, 0)\n",
      "scout 002:(ny, nx, dy, dx)=(1, 1, 0, -1)\n",
      "scout 002:(ny, nx, dy, dx)=(1, 0, 0, -1)\n",
      "scout 003: route.index((ny, nx, dy, dx))=0, (len(route)-route.index((ny, nx, dy, dx)))=25, route=[(1, 3, 0, -1), (1, 2, 0, -1), (0, 2, -1, 0), (2, 2, -1, 0), (2, 1, 0, -1), (1, 1, -1, 0), (0, 1, -1, 0), (2, 1, -1, 0), (2, 2, 0, 1), (1, 2, -1, 0), (1, 3, 0, 1), (1, 1, 0, 1), (1, 2, 0, 1), (2, 2, 1, 0), (2, 3, 0, 1), (2, 1, 0, 1), (3, 1, 1, 0), (1, 1, 1, 0), (2, 1, 1, 0), (2, 0, 0, -1), (2, 2, 0, -1), (3, 2, 1, 0), (1, 2, 1, 0), (1, 1, 0, -1), (1, 0, 0, -1)], (ny, nx, dy, dx)=(1, 3, 0, -1)\n",
      "scout 002:(ny, nx, dy, dx)=(3, 1, 1, 0)\n",
      "scout 002:(ny, nx, dy, dx)=(2, 1, 1, 0)\n",
      "scout 002:(ny, nx, dy, dx)=(2, 0, 0, -1)\n",
      "scout 002:(ny, nx, dy, dx)=(3, 2, 1, 0)\n",
      "scout 002:(ny, nx, dy, dx)=(1, 1, 0, -1)\n",
      "scout 002:(ny, nx, dy, dx)=(1, 0, 0, -1)\n",
      "scout 002:(ny, nx, dy, dx)=(0, 2, -1, 0)\n",
      "scout 002:(ny, nx, dy, dx)=(2, 1, 0, -1)\n",
      "scout 002:(ny, nx, dy, dx)=(1, 1, -1, 0)\n",
      "scout 002:(ny, nx, dy, dx)=(0, 1, -1, 0)\n",
      "scout 002:(ny, nx, dy, dx)=(2, 2, 0, 1)\n",
      "scout 002:(ny, nx, dy, dx)=(1, 2, -1, 0)\n",
      "scout 002:(ny, nx, dy, dx)=(1, 3, 0, 1)\n",
      "scout 002:(ny, nx, dy, dx)=(1, 2, 0, 1)\n",
      "scout 002:(ny, nx, dy, dx)=(2, 2, 1, 0)\n",
      "scout 002:(ny, nx, dy, dx)=(2, 3, 0, 1)\n",
      "scout 003: route.index((ny, nx, dy, dx))=0, (len(route)-route.index((ny, nx, dy, dx)))=25, route=[(2, 0, 0, 1), (2, 1, 0, 1), (3, 1, 1, 0), (1, 1, 1, 0), (2, 1, 1, 0), (2, 0, 0, -1), (2, 2, 0, -1), (3, 2, 1, 0), (1, 2, 1, 0), (1, 1, 0, -1), (1, 0, 0, -1), (1, 2, 0, -1), (0, 2, -1, 0), (2, 2, -1, 0), (2, 1, 0, -1), (1, 1, -1, 0), (0, 1, -1, 0), (2, 1, -1, 0), (2, 2, 0, 1), (1, 2, -1, 0), (1, 3, 0, 1), (1, 1, 0, 1), (1, 2, 0, 1), (2, 2, 1, 0), (2, 3, 0, 1)], (ny, nx, dy, dx)=(2, 0, 0, 1)\n",
      "scout 002:(ny, nx, dy, dx)=(1, 2, 0, 1)\n",
      "scout 002:(ny, nx, dy, dx)=(2, 2, 1, 0)\n",
      "scout 002:(ny, nx, dy, dx)=(2, 3, 0, 1)\n",
      "scout 002:(ny, nx, dy, dx)=(3, 1, 1, 0)\n",
      "scout 002:(ny, nx, dy, dx)=(2, 1, 1, 0)\n",
      "scout 002:(ny, nx, dy, dx)=(2, 0, 0, -1)\n",
      "scout 002:(ny, nx, dy, dx)=(3, 2, 1, 0)\n",
      "scout 002:(ny, nx, dy, dx)=(1, 1, 0, -1)\n",
      "scout 002:(ny, nx, dy, dx)=(1, 0, 0, -1)\n",
      "scout 002:(ny, nx, dy, dx)=(0, 2, -1, 0)\n",
      "scout 002:(ny, nx, dy, dx)=(2, 1, 0, -1)\n",
      "scout 002:(ny, nx, dy, dx)=(1, 1, -1, 0)\n",
      "scout 002:(ny, nx, dy, dx)=(0, 1, -1, 0)\n",
      "scout 002:(ny, nx, dy, dx)=(2, 2, 0, 1)\n",
      "scout 002:(ny, nx, dy, dx)=(1, 2, -1, 0)\n",
      "scout 002:(ny, nx, dy, dx)=(1, 3, 0, 1)\n",
      "scout 003: route.index((ny, nx, dy, dx))=0, (len(route)-route.index((ny, nx, dy, dx)))=25, route=[(1, 0, 0, 1), (1, 1, 0, 1), (1, 2, 0, 1), (2, 2, 1, 0), (2, 3, 0, 1), (2, 1, 0, 1), (3, 1, 1, 0), (1, 1, 1, 0), (2, 1, 1, 0), (2, 0, 0, -1), (2, 2, 0, -1), (3, 2, 1, 0), (1, 2, 1, 0), (1, 1, 0, -1), (1, 0, 0, -1), (1, 2, 0, -1), (0, 2, -1, 0), (2, 2, -1, 0), (2, 1, 0, -1), (1, 1, -1, 0), (0, 1, -1, 0), (2, 1, -1, 0), (2, 2, 0, 1), (1, 2, -1, 0), (1, 3, 0, 1)], (ny, nx, dy, dx)=(1, 0, 0, 1)\n",
      "[((3, 2, -1, 0), 25), ((3, 1, -1, 0), 25), ((0, 2, 1, 0), 25), ((0, 1, 1, 0), 25), ((2, 3, 0, -1), 25), ((1, 3, 0, -1), 25), ((2, 0, 0, 1), 25), ((1, 0, 0, 1), 25)]\n"
     ]
    }
   ],
   "source": [
    "grid = [\"SL\", \"LR\"]\n",
    "solution(grid)"
   ]
  },
  {
   "cell_type": "code",
   "execution_count": 147,
   "metadata": {},
   "outputs": [
    {
     "data": {
      "text/plain": [
       "True"
      ]
     },
     "execution_count": 147,
     "metadata": {},
     "output_type": "execute_result"
    }
   ],
   "source": [
    "sorted([(1,2), (3,4)]) == sorted([(3,4), (1,2)])"
   ]
  },
  {
   "cell_type": "code",
   "execution_count": 19,
   "metadata": {},
   "outputs": [
    {
     "data": {
      "text/plain": [
       "(1, 2, 3, 4)"
      ]
     },
     "execution_count": 19,
     "metadata": {},
     "output_type": "execute_result"
    }
   ],
   "source": [
    "a = [(1,2), (3,4)]\n",
    "[(b, c), (d,e)] = a\n",
    "b,c,d,e"
   ]
  }
 ],
 "metadata": {
  "kernelspec": {
   "display_name": "Python 3",
   "language": "python",
   "name": "python3"
  },
  "language_info": {
   "codemirror_mode": {
    "name": "ipython",
    "version": 3
   },
   "file_extension": ".py",
   "mimetype": "text/x-python",
   "name": "python",
   "nbconvert_exporter": "python",
   "pygments_lexer": "ipython3",
   "version": "3.10.12"
  }
 },
 "nbformat": 4,
 "nbformat_minor": 2
}
