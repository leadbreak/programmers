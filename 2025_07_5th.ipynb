{
 "cells": [
  {
   "cell_type": "markdown",
   "id": "4a621b37",
   "metadata": {},
   "source": [
    "### [교점에 별 만들기](https://school.programmers.co.kr/learn/courses/30/lessons/87377)"
   ]
  },
  {
   "cell_type": "markdown",
   "id": "3f8ed88f",
   "metadata": {},
   "source": [
    "- numpy 의 선형대수 방정식을 이용해 풀어보기"
   ]
  },
  {
   "cell_type": "code",
   "execution_count": null,
   "id": "9d62504a",
   "metadata": {},
   "outputs": [],
   "source": [
    "import numpy as np\n",
    "from itertools import combinations\n",
    "\n",
    "# 선형대수를 이용한 교점 찾는 방정식\n",
    "def find_inter(A, B):\n",
    "    a1, b1, c1 = A\n",
    "    a2, b2, c2 = B\n",
    "    \n",
    "    A = np.array([[a1, b1], [a2, b2]])\n",
    "    B = np.array([-c1, -c2])\n",
    "    \n",
    "    # 두 직선이 평행\n",
    "    if np.linalg.det(A) == 0: \n",
    "        return False, []\n",
    "\n",
    "    inter_point = np.linalg.solve(A, B)\n",
    "    return True, inter_point\n",
    "\n",
    "def solution(line):\n",
    "    points = []\n",
    "    for (A, B) in combinations(line, 2):\n",
    "        check, point = find_inter(A, B)\n",
    "        if check and point[0].is_integer() and point[1].is_integer():\n",
    "            points.append(point)\n",
    "    \n",
    "    if not points:\n",
    "        return []\n",
    "    elif len(points) == 1:\n",
    "        return ['*']\n",
    "    \n",
    "    # scaling\n",
    "    points.sort(key=lambda x: (-x[1], x[0]))\n",
    "    min_y, max_y = points[-1][1], points[0][1]\n",
    "    \n",
    "    Xs = [x[0] for x in points]\n",
    "    min_x, max_x = min(Xs), max(Xs)\n",
    "    \n",
    "    y_len = int(max_y - min_y) + 1\n",
    "    x_len = int(max_x - min_x) + 1    \n",
    "    scaled_points = [[int(x[0]-min_x), int(max_y-x[1])] for x in points]\n",
    "    \n",
    "    # scaling된 좌표를 기준으로 교점에 표시하기\n",
    "    answer = [['.']*x_len for _ in range(y_len)]\n",
    "    for (x, y) in scaled_points:\n",
    "        answer[y][x] = '*'\n",
    "    return [\"\".join(x) for x in answer]"
   ]
  },
  {
   "cell_type": "markdown",
   "id": "d971ae70",
   "metadata": {},
   "source": [
    "-> numpy를 이용한 위 코드로 해결이 안되는데, 이유를 모르겠음"
   ]
  },
  {
   "cell_type": "markdown",
   "id": "439ea09b",
   "metadata": {},
   "source": [
    "-> 조사 결과 numpy의 linalg를 사용할 경우, 해당 연산이 부동소수점으로 연산되면서 미세한 오차가 발생해 실제로는 정수값이어도, 4.000000001과 같은 값으로 반환되는 경우가 존재하기 때문이며, 따라서 아래 코드와 같이 미세한 차이는 인정하도록 처리해야함"
   ]
  },
  {
   "cell_type": "code",
   "execution_count": null,
   "id": "7b6f05fb",
   "metadata": {},
   "outputs": [],
   "source": [
    "import numpy as np\n",
    "from itertools import combinations\n",
    "\n",
    "# 선형대수를 이용한 교점 찾는 방정식\n",
    "def find_inter(A, B):\n",
    "    a1, b1, c1 = A\n",
    "    a2, b2, c2 = B\n",
    "    \n",
    "    A_matrix = np.array([[a1, b1], [a2, b2]])\n",
    "    B_vector = np.array([-c1, -c2])\n",
    "    \n",
    "    # 두 직선이 평행\n",
    "    if np.linalg.det(A_matrix) == 0:\n",
    "        return False, []\n",
    "\n",
    "    inter_point = np.linalg.solve(A_matrix, B_vector)\n",
    "    return True, inter_point\n",
    "\n",
    "def solution(line):\n",
    "    points = []\n",
    "    \n",
    "    # 부동 소수점 오차를 허용하는 작은 값\n",
    "    epsilon = 1e-6 # 1e-9와 같이 아주 작은 값으로 비교할 경우, 18번이 틀리며 96.6점이 됨\n",
    "\n",
    "    for (A, B) in combinations(line, 2):\n",
    "        check, point = find_inter(A, B)\n",
    "\n",
    "        # 교점 좌표가 정수와 아주 가까운 값인지 확인\n",
    "        if check:\n",
    "            x_int = round(point[0])\n",
    "            y_int = round(point[1])\n",
    "            \n",
    "            # 교점 좌표와 가장 가까운 정수 간의 차이가 허용 오차 이내인지 확인\n",
    "            if abs(point[0] - x_int) < epsilon and abs(point[1] - y_int) < epsilon:\n",
    "                points.append((x_int, y_int))\n",
    "\n",
    "    if not points:\n",
    "        return []\n",
    "        \n",
    "    # 중복 교점 제거 (e.g., 세 직선이 한 점에서 만나는 경우)\n",
    "    points = sorted(list(set(points)))\n",
    "\n",
    "    # 최소/최대 좌표 찾기\n",
    "    min_x = min(p[0] for p in points)\n",
    "    max_x = max(p[0] for p in points)\n",
    "    min_y = min(p[1] for p in points)\n",
    "    max_y = max(p[1] for p in points)\n",
    "    \n",
    "    width = max_x - min_x + 1\n",
    "    height = max_y - min_y + 1\n",
    "    \n",
    "    # 그리드 생성 (얕은 복사 문제 해결)\n",
    "    grid = [['.'] * width for _ in range(height)]\n",
    "    \n",
    "    # 좌표 변환 후 그리드에 별 표시\n",
    "    for x, y in points:\n",
    "        scaled_x = x - min_x\n",
    "        scaled_y = max_y - y\n",
    "        grid[scaled_y][scaled_x] = '*'\n",
    "        \n",
    "    return [''.join(row) for row in grid]"
   ]
  },
  {
   "cell_type": "markdown",
   "id": "cb779dea",
   "metadata": {},
   "source": [
    "- 그냥 numpy 안쓰고 하는게 낫겠다..."
   ]
  },
  {
   "cell_type": "code",
   "execution_count": 7,
   "id": "a5880a73",
   "metadata": {},
   "outputs": [],
   "source": [
    "from itertools import combinations\n",
    "\n",
    "def solution(line):    \n",
    "    def intersect(l1, l2):\n",
    "        A1, B1, C1 = l1\n",
    "        A2, B2, C2 = l2\n",
    "        det = A1 * B2 - A2 * B1\n",
    "        if det == 0:\n",
    "            return None  # 두 선이 평행\n",
    "        x = (B1 * C2 - B2 * C1) / det\n",
    "        y = (A2 * C1 - A1 * C2) / det\n",
    "        if x.is_integer() and y.is_integer():\n",
    "            return (int(x), int(y))\n",
    "        return None\n",
    "    \n",
    "    points = set()\n",
    "    for (l1, l2) in combinations(line, 2):\n",
    "        point = intersect(l1, l2)\n",
    "        if point:\n",
    "            points.add(point)\n",
    "    \n",
    "    if not points:\n",
    "        return []\n",
    "\n",
    "    xs, ys = zip(*points)\n",
    "    min_x, max_x = min(xs), max(xs)\n",
    "    min_y, max_y = min(ys), max(ys)\n",
    "    \n",
    "    width = max_x - min_x + 1\n",
    "    height = max_y - min_y + 1\n",
    "    \n",
    "    grid = [['.'] * width for _ in range(height)]\n",
    "    \n",
    "    for (x, y) in points:\n",
    "        grid[max_y - y][x - min_x] = '*'\n",
    "    \n",
    "    return [''.join(row) for row in grid]\n"
   ]
  },
  {
   "cell_type": "code",
   "execution_count": 8,
   "id": "647d3763",
   "metadata": {},
   "outputs": [
    {
     "data": {
      "text/plain": [
       "['*']"
      ]
     },
     "execution_count": 8,
     "metadata": {},
     "output_type": "execute_result"
    }
   ],
   "source": [
    "line = [[1, -1, 0], [2, -1, 0], [4, -1, 0]]\n",
    "solution(line)"
   ]
  },
  {
   "cell_type": "markdown",
   "id": "1cffb342",
   "metadata": {},
   "source": [
    "### [불량 사용자](https://school.programmers.co.kr/learn/courses/30/lessons/64064)"
   ]
  },
  {
   "cell_type": "code",
   "execution_count": null,
   "id": "e02eab75",
   "metadata": {},
   "outputs": [],
   "source": [
    "from itertools import product\n",
    "from collections import defaultdict\n",
    "\n",
    "def solution(user_id, banned_id):\n",
    "    \n",
    "    def is_match(user, banned):\n",
    "        if len(user) != len(banned):\n",
    "            return False\n",
    "        for u, b in zip(user, banned):\n",
    "            if b in ['*', u]:\n",
    "                continue\n",
    "            else:\n",
    "                return False\n",
    "        return True\n",
    "\n",
    "    matches = []\n",
    "    for ban in banned_id:\n",
    "        targets = []\n",
    "        for user in user_id:\n",
    "            if is_match(user, ban):\n",
    "                targets.append(user)\n",
    "        matches.append(targets)\n",
    "\n",
    "    answer = set()    \n",
    "    for p in product(*matches):\n",
    "        if len(set(p)) == len(banned_id):\n",
    "            answer.add(tuple(sorted(p)))\n",
    "\n",
    "    return len(answer)"
   ]
  }
 ],
 "metadata": {
  "kernelspec": {
   "display_name": "Python 3",
   "language": "python",
   "name": "python3"
  },
  "language_info": {
   "codemirror_mode": {
    "name": "ipython",
    "version": 3
   },
   "file_extension": ".py",
   "mimetype": "text/x-python",
   "name": "python",
   "nbconvert_exporter": "python",
   "pygments_lexer": "ipython3",
   "version": "3.10.12"
  }
 },
 "nbformat": 4,
 "nbformat_minor": 5
}
