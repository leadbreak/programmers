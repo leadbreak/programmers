{
 "cells": [
  {
   "cell_type": "markdown",
   "metadata": {},
   "source": [
    "## 깊이/너비 우선 탐색(DFS/BFS) > [퍼즐 조각 채우기](https://school.programmers.co.kr/learn/courses/30/lessons/84021)\n",
    "(2024-04-01)"
   ]
  },
  {
   "cell_type": "markdown",
   "metadata": {},
   "source": [
    "- 도형을 찾고, 이를 회전시키고, 게임보드에 존재하는 빈 공간에 넣는 과정을 모두 포함해야 함\n",
    "- 이때 정확하게 일치하는 것뿐 아니라 포함될 수 있는 경우를 고려  \n",
    "  - 상대적 위치를 고려해서 조정?"
   ]
  },
  {
   "cell_type": "markdown",
   "metadata": {},
   "source": [
    "- 도형을 놓을 수 있는 자리보다 작은 도형을 놓는 경우를 고려해야 하는 식으로 서술됐으나, 실제로는 그렇지 않았음\n",
    "- 괜히 헛고생..."
   ]
  },
  {
   "cell_type": "code",
   "execution_count": 84,
   "metadata": {},
   "outputs": [
    {
     "data": {
      "text/plain": [
       "[[1, 1, 1], [1, 0, 0], [0, 0, 0]]"
      ]
     },
     "execution_count": 84,
     "metadata": {},
     "output_type": "execute_result"
    }
   ],
   "source": [
    "piece = [[1,1,1],[1,0,0],[0,0,0]]\n",
    "piece"
   ]
  },
  {
   "cell_type": "code",
   "execution_count": 85,
   "metadata": {},
   "outputs": [
    {
     "data": {
      "text/plain": [
       "[[0, 0, 0], [1, 0, 0], [1, 1, 1]]"
      ]
     },
     "execution_count": 85,
     "metadata": {},
     "output_type": "execute_result"
    }
   ],
   "source": [
    "# 위아래로 뒤집은 결과\n",
    "piece[::-1]"
   ]
  },
  {
   "cell_type": "code",
   "execution_count": 89,
   "metadata": {},
   "outputs": [
    {
     "data": {
      "text/plain": [
       "[(0, 1, 1), (0, 0, 1), (0, 0, 1)]"
      ]
     },
     "execution_count": 89,
     "metadata": {},
     "output_type": "execute_result"
    }
   ],
   "source": [
    "# 위아래로 뒤집은 결과 -> 열 idx를 기준으로 정렬 \n",
    "# : 오른쪽으로 90도 회전한 결과\n",
    "list(zip(*piece[::-1]))"
   ]
  },
  {
   "cell_type": "code",
   "execution_count": 87,
   "metadata": {},
   "outputs": [
    {
     "data": {
      "text/plain": [
       "[[0, 1, 1], [0, 0, 1], [0, 0, 1]]"
      ]
     },
     "execution_count": 87,
     "metadata": {},
     "output_type": "execute_result"
    }
   ],
   "source": [
    "[list(row) for row in zip(*piece[::-1])]"
   ]
  },
  {
   "cell_type": "code",
   "execution_count": 35,
   "metadata": {},
   "outputs": [
    {
     "data": {
      "text/plain": [
       "False"
      ]
     },
     "execution_count": 35,
     "metadata": {},
     "output_type": "execute_result"
    }
   ],
   "source": [
    "[(0,1), (1,0)] in [(1,0), (0,1)]"
   ]
  },
  {
   "cell_type": "code",
   "execution_count": 1,
   "metadata": {},
   "outputs": [],
   "source": [
    "from collections import deque\n",
    "\n",
    "def get_piece(table, target):\n",
    "    \"\"\"\n",
    "    게임 보드에서 빈 공간(0) 또는 테이블에서 조각(1)을 찾아 리스트로 반환합니다.\n",
    "    - BFS(너비 우선 탐색)를 사용하여 연결된 모든 부분을 찾습니다.\n",
    "    - table: 게임 보드 또는 테이블의 2차원 배열\n",
    "    - target: 찾고자 하는 대상(0 또는 1)\n",
    "    \"\"\"\n",
    "    piece_map = []  # 찾은 조각들을 저장할 리스트\n",
    "    n = len(table)  # 테이블의 길이(가로 또는 세로, 정사각형 가정)\n",
    "    for y in range(n):\n",
    "        for x in range(n):\n",
    "            if table[y][x] == target:  # 조각 또는 빈 공간의 시작점 발견\n",
    "                table[y][x] = 1 - target  # 방문한 곳은 상태를 반전시켜 중복 방문 방지\n",
    "                piece = [[y, x]]  # 현재 조각의 좌표를 저장하는 리스트\n",
    "                queue = deque([[y, x]])  # BFS를 위한 큐\n",
    "                while queue:\n",
    "                    py, px = queue.popleft()  # 큐에서 하나의 원소를 꺼냄\n",
    "                    for dy, dx in [[0, 1], [0, -1], [1, 0], [-1, 0]]:  # 상하좌우 탐색\n",
    "                        ny, nx = py + dy, px + dx  # 새로운 위치\n",
    "                        if 0 <= ny < n and 0 <= nx < n and table[ny][nx] == target:\n",
    "                            table[ny][nx] = 1 - target  # 방문 처리\n",
    "                            queue.append([ny, nx])  # 큐에 추가\n",
    "                            piece.append([ny, nx])  # 현재 조각에 좌표 추가\n",
    "                piece_map.append(piece)  # 완성된 조각을 조각 목록에 추가\n",
    "    return piece_map\n",
    "\n",
    "def regularization(piece):\n",
    "    \"\"\"\n",
    "    조각을 정규화하여, 회전하거나 뒤집어도 항상 동일한 형태로 비교할 수 있게 합니다.\n",
    "    - 조각의 최소 x, y 좌표를 기준으로 재배치하여 모든 조각을 원점에 맞춥니다.\n",
    "    \"\"\"\n",
    "    min_y, min_x = map(min, zip(*piece))  # 조각의 최소 y, x 좌표\n",
    "    max_y, max_x = map(max, zip(*piece))  # 조각의 최대 y, x 좌표\n",
    "    r_piece = [[0] * (max_x - min_x + 1) for _ in range(max_y - min_y + 1)]  # 정규화된 조각의 크기에 맞는 빈 리스트 생성\n",
    "    for y, x in piece:\n",
    "        r_piece[y - min_y][x - min_x] = 1  # 원점에 맞춰 조각 재배치\n",
    "    return r_piece\n",
    "\n",
    "def rotate(piece):\n",
    "    \"\"\"\n",
    "    조각을 시계 방향으로 90도 회전합니다.\n",
    "    - zip 함수와 리스트 컴프리헨션을 사용해 구현합니다.\n",
    "    \"\"\"\n",
    "    return [list(row) for row in zip(*piece[::-1])]\n",
    "\n",
    "def match(blank_dict, piece_dict):\n",
    "    \"\"\"\n",
    "    게임 보드의 빈 공간과 테이블의 조각들을 매칭시켜, 매칭된 조각의 크기의 합을 반환합니다.\n",
    "    - 각 빈 공간과 조각을 회전시키며 매칭을 시도합니다.\n",
    "    \"\"\"\n",
    "    cnt = 0  # 매칭된 조각의 크기의 합\n",
    "    for b_idx, blanks in list(blank_dict.items()):\n",
    "        pieces = piece_dict.get(b_idx, [])  # 같은 크기의 조각 목록 가져오기\n",
    "        for blank in blanks:\n",
    "            matched = False  # 매칭 여부\n",
    "            for i, piece in enumerate(pieces):\n",
    "                for _ in range(4):  # 조각을 4번 회전시키며 매칭 시도\n",
    "                    if blank == piece:  # 매칭되면\n",
    "                        cnt += b_idx  # 매칭된 조각의 크기를 합산\n",
    "                        pieces.pop(i)  # 매칭된 조각을 목록에서 제거\n",
    "                        matched = True  # 매칭됨을 표시\n",
    "                        break  # 더 이상의 회전 시도 중지\n",
    "                    piece = rotate(piece)  # 조각 회전\n",
    "                if matched:\n",
    "                    break  # 다음 빈 공간으로 넘어감\n",
    "    return cnt\n",
    "\n",
    "def solution(game_board, table):\n",
    "    \"\"\"\n",
    "    주어진 게임 보드와 테이블을 바탕으로 빈 공간을 채울 수 있는 조각들을 매칭하고,\n",
    "    총 매칭된 조각의 크기를 계산하여 반환합니다.\n",
    "    \"\"\"\n",
    "    piece_dict = {}  # 테이블의 조각을 크기별로 분류하여 저장\n",
    "    for p in get_piece(table, 1):  # 테이블에서 조각 찾기\n",
    "        r_piece = regularization(p)  # 조각 정규화\n",
    "        piece_dict.setdefault(len(p), []).append(r_piece)  # 조각을 크기별로 분류하여 저장\n",
    "    \n",
    "    blank_dict = {}  # 게임 보드의 빈 공간을 크기별로 분류하여 저장\n",
    "    for b in get_piece(game_board, 0):  # 게임 보드에서 빈 공간 찾기\n",
    "        b_piece = regularization(b)  # 빈 공간 정규화\n",
    "        blank_dict.setdefault(len(b), []).append(b_piece)  # 빈 공간을 크기별로 분류하여 저장\n",
    "    \n",
    "    return match(blank_dict, piece_dict)  # 매칭된 조각의 크기의 합 반환\n"
   ]
  },
  {
   "cell_type": "code",
   "execution_count": 2,
   "metadata": {},
   "outputs": [
    {
     "data": {
      "text/plain": [
       "0"
      ]
     },
     "execution_count": 2,
     "metadata": {},
     "output_type": "execute_result"
    }
   ],
   "source": [
    "game_board = [[0,1],[0,0]]\n",
    "table = [[1,0],[1,0]]\n",
    "solution(game_board, table)"
   ]
  },
  {
   "cell_type": "code",
   "execution_count": 3,
   "metadata": {},
   "outputs": [
    {
     "data": {
      "text/plain": [
       "0"
      ]
     },
     "execution_count": 3,
     "metadata": {},
     "output_type": "execute_result"
    }
   ],
   "source": [
    "game_board = [[1,0],[1,1]]\n",
    "table = [[1,0],[1,0]]\n",
    "solution(game_board, table)"
   ]
  },
  {
   "cell_type": "code",
   "execution_count": 95,
   "metadata": {},
   "outputs": [
    {
     "data": {
      "text/plain": [
       "14"
      ]
     },
     "execution_count": 95,
     "metadata": {},
     "output_type": "execute_result"
    }
   ],
   "source": [
    "game_board = [[1,1,0,0,1,0],[0,0,1,0,1,0],[0,1,1,0,0,1],[1,1,0,1,1,1],[1,0,0,0,1,0],[0,1,1,1,0,0]]\n",
    "table = [[1,0,0,1,1,0],[1,0,1,0,1,0],[0,1,1,0,1,1],[0,0,1,0,0,0],[1,1,0,1,1,0],[0,1,0,0,0,0]]\n",
    "solution(game_board, table)"
   ]
  },
  {
   "cell_type": "code",
   "execution_count": 96,
   "metadata": {},
   "outputs": [
    {
     "data": {
      "text/plain": [
       "0"
      ]
     },
     "execution_count": 96,
     "metadata": {},
     "output_type": "execute_result"
    }
   ],
   "source": [
    "game_board = [[0,0,0],[1,1,0],[1,1,1]]\n",
    "table = [[1,1,1],[1,0,0],[0,0,0]]\n",
    "solution(game_board, table)"
   ]
  },
  {
   "cell_type": "markdown",
   "metadata": {},
   "source": [
    "## 2024 KAKAO WINTER INTERNSHIP > [가장 많이 받은 선물](https://school.programmers.co.kr/learn/courses/30/lessons/258712)\n",
    "(2024-04-02)"
   ]
  },
  {
   "cell_type": "code",
   "execution_count": 4,
   "metadata": {},
   "outputs": [
    {
     "data": {
      "text/plain": [
       "[(1, 4, 7), (2, 5, 8), (3, 6, 9)]"
      ]
     },
     "execution_count": 4,
     "metadata": {},
     "output_type": "execute_result"
    }
   ],
   "source": [
    "matrix = [[1,2,3],[4,5,6],[7,8,9]]\n",
    "[column for column in zip(*matrix)]"
   ]
  },
  {
   "cell_type": "code",
   "execution_count": 19,
   "metadata": {},
   "outputs": [],
   "source": [
    "def solution(friends, gifts):\n",
    "    friend_keys = {}\n",
    "    for idx, friend in enumerate(friends):\n",
    "        friend_keys[friend] = idx\n",
    "    \n",
    "    n = len(friends)\n",
    "    fromto = [[0] * n for _ in range(n)]\n",
    "    for gift in gifts :\n",
    "        from_f, to_f = gift.split()\n",
    "        fromto[friend_keys[from_f]][friend_keys[to_f]] += 1\n",
    "        \n",
    "    nextMonth = [0] * n\n",
    "    plus_factors = [sum(column) for column in fromto]\n",
    "    minus_factors = [sum(column) for column in zip(*fromto)]\n",
    "    scores = [x-y for x, y in zip(plus_factors, minus_factors)]\n",
    "    for i in range(n):\n",
    "        for j in range(n):            \n",
    "            if i == j:\n",
    "                continue\n",
    "            if fromto[i][j] > fromto[j][i]:\n",
    "                nextMonth[i] += 1\n",
    "            elif fromto[i][j] < fromto[j][i]:\n",
    "                nextMonth[j] += 1\n",
    "            else :\n",
    "                i_score = scores[i]\n",
    "                j_score = scores[j]\n",
    "                if i_score == j_score:\n",
    "                    continue\n",
    "                elif i_score > j_score:\n",
    "                    nextMonth[i] += 1\n",
    "                else :\n",
    "                    nextMonth[j] += 1\n",
    "    \n",
    "    answer = max(nextMonth) // 2\n",
    "\n",
    "    return answer"
   ]
  },
  {
   "cell_type": "code",
   "execution_count": 20,
   "metadata": {},
   "outputs": [
    {
     "data": {
      "text/plain": [
       "4"
      ]
     },
     "execution_count": 20,
     "metadata": {},
     "output_type": "execute_result"
    }
   ],
   "source": [
    "friends = [\"joy\", \"brad\", \"alessandro\", \"conan\", \"david\"]\n",
    "gifts = [\"alessandro brad\", \"alessandro joy\", \"alessandro conan\", \"david alessandro\", \"alessandro david\"]\n",
    "solution(friends, gifts)"
   ]
  },
  {
   "cell_type": "markdown",
   "metadata": {},
   "source": [
    "## PCCP 기출문제 > [PCCP 기출문제] 1번 / 붕대 감기\n",
    "(2024-04-02)"
   ]
  },
  {
   "cell_type": "code",
   "execution_count": 27,
   "metadata": {},
   "outputs": [],
   "source": [
    "def solution(bandage, health, attacks):\n",
    "    t, x, y = bandage\n",
    "    hp = health\n",
    "    before = 0\n",
    "    for attack in attacks:\n",
    "        timing, damage = attack        \n",
    "        if hp < health:\n",
    "            duration = timing-before-1 # 피격받은 순간 제외\n",
    "            heal_amount = duration*x if duration < t else duration*x + (duration//t)*y            \n",
    "            hp = min(health, hp+heal_amount)\n",
    "        hp -= damage\n",
    "        before = timing\n",
    "        if hp <= 0:\n",
    "            return -1\n",
    "    return hp"
   ]
  },
  {
   "cell_type": "code",
   "execution_count": 28,
   "metadata": {},
   "outputs": [
    {
     "name": "stdout",
     "output_type": "stream",
     "text": [
      "Time:1, HP:5\n",
      "Time:5, HP:2\n",
      "Time:8, HP:0\n"
     ]
    },
    {
     "data": {
      "text/plain": [
       "-1"
      ]
     },
     "execution_count": 28,
     "metadata": {},
     "output_type": "execute_result"
    }
   ],
   "source": [
    "bandage = [3, 2, 7]\n",
    "health = 20\t\n",
    "attacks = [[1, 15], [5, 16], [8, 6]]\n",
    "solution(bandage, health, attacks)"
   ]
  },
  {
   "cell_type": "markdown",
   "metadata": {},
   "source": [
    "## PCCE 기출문제 > [PCCE 기출문제] 9번 / 이웃한 칸\n",
    "()"
   ]
  }
 ],
 "metadata": {
  "kernelspec": {
   "display_name": "Python 3",
   "language": "python",
   "name": "python3"
  },
  "language_info": {
   "codemirror_mode": {
    "name": "ipython",
    "version": 3
   },
   "file_extension": ".py",
   "mimetype": "text/x-python",
   "name": "python",
   "nbconvert_exporter": "python",
   "pygments_lexer": "ipython3",
   "version": "3.10.12"
  }
 },
 "nbformat": 4,
 "nbformat_minor": 2
}
