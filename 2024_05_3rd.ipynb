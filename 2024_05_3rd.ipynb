{
 "cells": [
  {
   "cell_type": "markdown",
   "metadata": {},
   "source": [
    "### [소수 찾기](https://school.programmers.co.kr/learn/courses/30/lessons/42839)"
   ]
  },
  {
   "cell_type": "markdown",
   "metadata": {},
   "source": [
    "- 예전에 공부한 에라토스테네스의 체를 적용해서 풂"
   ]
  },
  {
   "cell_type": "code",
   "execution_count": 23,
   "metadata": {},
   "outputs": [],
   "source": [
    "from itertools import permutations\n",
    "\n",
    "def solution(numbers):\n",
    "    numbers = [x for x in numbers]\n",
    "    targets = []\n",
    "    for i in range(1, len(numbers)+1):\n",
    "        targets += list(set([int(\"\".join(y)) for y in permutations(numbers, i)]))\n",
    "    targets = list(set(targets))\n",
    "    # targets = [x for x in targets if x % 2 == 0 and x != 2]\n",
    "    max_num = max(targets)\n",
    "    \n",
    "    is_prime = [True] * (max_num+1)\n",
    "    is_prime[0] = is_prime[1] = False\n",
    "    for start in range(2, int(max_num**0.5)+1):\n",
    "        if is_prime[start]:\n",
    "            for multiple in range(start*start, max_num+1, start):\n",
    "                is_prime[multiple] = False\n",
    "    \n",
    "    print(f'before {targets}, {is_prime}')\n",
    "    targets = [x for x in targets if is_prime[x]]\n",
    "    print(f'after {targets}, {is_prime}')\n",
    "    return len(targets)"
   ]
  },
  {
   "cell_type": "code",
   "execution_count": 24,
   "metadata": {},
   "outputs": [
    {
     "name": "stdout",
     "output_type": "stream",
     "text": [
      "before [1, 71, 17, 7], [False, False, True, True, False, True, False, True, False, False, False, True, False, True, False, False, False, True, False, True, False, False, False, True, False, False, False, False, False, True, False, True, False, False, False, False, False, True, False, False, False, True, False, True, False, False, False, True, False, False, False, False, False, True, False, False, False, False, False, True, False, True, False, False, False, False, False, True, False, False, False, True]\n",
      "after [71, 17, 7], [False, False, True, True, False, True, False, True, False, False, False, True, False, True, False, False, False, True, False, True, False, False, False, True, False, False, False, False, False, True, False, True, False, False, False, False, False, True, False, False, False, True, False, True, False, False, False, True, False, False, False, False, False, True, False, False, False, False, False, True, False, True, False, False, False, False, False, True, False, False, False, True]\n"
     ]
    },
    {
     "data": {
      "text/plain": [
       "3"
      ]
     },
     "execution_count": 24,
     "metadata": {},
     "output_type": "execute_result"
    }
   ],
   "source": [
    "numbers = \"17\"\n",
    "solution(numbers)"
   ]
  }
 ],
 "metadata": {
  "kernelspec": {
   "display_name": "Python 3",
   "language": "python",
   "name": "python3"
  },
  "language_info": {
   "codemirror_mode": {
    "name": "ipython",
    "version": 3
   },
   "file_extension": ".py",
   "mimetype": "text/x-python",
   "name": "python",
   "nbconvert_exporter": "python",
   "pygments_lexer": "ipython3",
   "version": "3.11.8"
  }
 },
 "nbformat": 4,
 "nbformat_minor": 2
}
