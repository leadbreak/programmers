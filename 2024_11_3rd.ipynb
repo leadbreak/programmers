{
 "cells": [
  {
   "cell_type": "markdown",
   "metadata": {},
   "source": [
    "### [전화번호 목록](https://school.programmers.co.kr/learn/courses/30/lessons/42577?language=python3)"
   ]
  },
  {
   "cell_type": "code",
   "execution_count": null,
   "metadata": {
    "vscode": {
     "languageId": "plaintext"
    }
   },
   "outputs": [],
   "source": [
    "def solution(phone_book):\n",
    "    \n",
    "    phone_book = sorted(phone_book, key=lambda x: len(x))\n",
    "    while len(phone_book) > 1:\n",
    "        target = phone_book.pop(0)\n",
    "        length = len(target)\n",
    "        if any([x for x in phone_book if x[:length]==target]):\n",
    "            return False\n",
    "    \n",
    "    return True"
   ]
  }
 ],
 "metadata": {
  "language_info": {
   "name": "python"
  }
 },
 "nbformat": 4,
 "nbformat_minor": 2
}
