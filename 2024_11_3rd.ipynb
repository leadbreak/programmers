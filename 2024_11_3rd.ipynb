{
 "cells": [
  {
   "cell_type": "markdown",
   "metadata": {},
   "source": [
    "### [전화번호 목록](https://school.programmers.co.kr/learn/courses/30/lessons/42577?language=python3)"
   ]
  },
  {
   "cell_type": "code",
   "execution_count": 1,
   "metadata": {},
   "outputs": [],
   "source": [
    "def solution(phone_book):\n",
    "    \n",
    "    phone_book = sorted(phone_book, key=lambda x: len(x))\n",
    "    while len(phone_book) > 1:\n",
    "        target = phone_book.pop(0)\n",
    "        length = len(target)\n",
    "        if any([x for x in phone_book if x[:length]==target]):\n",
    "            return False\n",
    "    \n",
    "    return True"
   ]
  },
  {
   "cell_type": "code",
   "execution_count": 2,
   "metadata": {},
   "outputs": [],
   "source": [
    "def solution(phone_book):\n",
    "    phone_book.sort()\n",
    "\n",
    "    for i in range(len(phone_book) - 1):\n",
    "        if phone_book[i+1].find(phone_book[i]) == 0:\n",
    "            return False\n",
    "    return True"
   ]
  },
  {
   "cell_type": "code",
   "execution_count": 3,
   "metadata": {},
   "outputs": [],
   "source": [
    "def solution(phone_book):\n",
    "    phone_book.sort()\n",
    "\n",
    "    for i in range(len(phone_book) - 1):\n",
    "        if phone_book[i+1].startswith(phone_book[i]):\n",
    "            return False\n",
    "    return True"
   ]
  },
  {
   "cell_type": "markdown",
   "metadata": {},
   "source": [
    "### [의상](https://school.programmers.co.kr/learn/courses/30/lessons/42578)"
   ]
  },
  {
   "cell_type": "code",
   "execution_count": 4,
   "metadata": {},
   "outputs": [],
   "source": [
    "from collections import defaultdict\n",
    "\n",
    "def solution(clothes):\n",
    "    cases = defaultdict(list)\n",
    "    for x, y in clothes:\n",
    "        cases[y].append(x)\n",
    "    answer = 1\n",
    "    for case in cases:\n",
    "        answer *= len(cases[case])+1 # 착용하지 않는 경우를 고려\n",
    "    return answer-1 # 착용하지 않는 경우를 고려하는 경우, 중복되는 경우를 제거"
   ]
  }
 ],
 "metadata": {
  "kernelspec": {
   "display_name": "Python 3",
   "language": "python",
   "name": "python3"
  },
  "language_info": {
   "codemirror_mode": {
    "name": "ipython",
    "version": 3
   },
   "file_extension": ".py",
   "mimetype": "text/x-python",
   "name": "python",
   "nbconvert_exporter": "python",
   "pygments_lexer": "ipython3",
   "version": "3.10.12"
  }
 },
 "nbformat": 4,
 "nbformat_minor": 2
}
