{
 "cells": [
  {
   "cell_type": "markdown",
   "metadata": {},
   "source": [
    "### 2023 KAKAO BLIND RECRUITMENT > [개인정보 수집 유효기간](https://school.programmers.co.kr/learn/courses/30/lessons/150370)"
   ]
  },
  {
   "cell_type": "code",
   "execution_count": 4,
   "metadata": {},
   "outputs": [],
   "source": [
    "def solution(today, terms, privacies):\n",
    "    terms = {x.split()[0]:x.split()[1] for x in terms}\n",
    "    today = 12*int(today.split('.')[0]) + int(today.split('.')[1]) + int(today.split('.')[2]) / 28\n",
    "    \n",
    "    answer = []\n",
    "    for i, privacy in enumerate(privacies):\n",
    "        period, contract = privacy.split()\n",
    "        period = 12*int(period.split('.')[0]) + int(period.split('.')[1]) + int(period.split('.')[2]) / 28\n",
    "        \n",
    "        duration = today - period\n",
    "        if duration >= int(terms[contract]):\n",
    "            answer.append(i+1)\n",
    "        \n",
    "    return answer"
   ]
  },
  {
   "cell_type": "code",
   "execution_count": 5,
   "metadata": {},
   "outputs": [
    {
     "data": {
      "text/plain": [
       "[1, 3]"
      ]
     },
     "execution_count": 5,
     "metadata": {},
     "output_type": "execute_result"
    }
   ],
   "source": [
    "today = \"2022.05.19\"\n",
    "terms = [\"A 6\", \"B 12\", \"C 3\"]\n",
    "privacies = [\"2021.05.02 A\", \"2021.07.01 B\", \"2022.02.19 C\", \"2022.02.20 C\"]\n",
    "solution(today, terms, privacies)"
   ]
  }
 ],
 "metadata": {
  "kernelspec": {
   "display_name": "Python 3",
   "language": "python",
   "name": "python3"
  },
  "language_info": {
   "codemirror_mode": {
    "name": "ipython",
    "version": 3
   },
   "file_extension": ".py",
   "mimetype": "text/x-python",
   "name": "python",
   "nbconvert_exporter": "python",
   "pygments_lexer": "ipython3",
   "version": "3.10.12"
  }
 },
 "nbformat": 4,
 "nbformat_minor": 2
}
