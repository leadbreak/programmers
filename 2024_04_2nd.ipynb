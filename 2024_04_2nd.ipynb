{
 "cells": [
  {
   "cell_type": "markdown",
   "metadata": {},
   "source": [
    "### 2023 KAKAO BLIND RECRUITMENT > [개인정보 수집 유효기간](https://school.programmers.co.kr/learn/courses/30/lessons/150370)"
   ]
  },
  {
   "cell_type": "code",
   "execution_count": 4,
   "metadata": {},
   "outputs": [],
   "source": [
    "def solution(today, terms, privacies):\n",
    "    terms = {x.split()[0]:x.split()[1] for x in terms}\n",
    "    today = 12*int(today.split('.')[0]) + int(today.split('.')[1]) + int(today.split('.')[2]) / 28\n",
    "    \n",
    "    answer = []\n",
    "    for i, privacy in enumerate(privacies):\n",
    "        period, contract = privacy.split()\n",
    "        period = 12*int(period.split('.')[0]) + int(period.split('.')[1]) + int(period.split('.')[2]) / 28\n",
    "        \n",
    "        duration = today - period\n",
    "        if duration >= int(terms[contract]):\n",
    "            answer.append(i+1)\n",
    "        \n",
    "    return answer"
   ]
  },
  {
   "cell_type": "code",
   "execution_count": 5,
   "metadata": {},
   "outputs": [
    {
     "data": {
      "text/plain": [
       "[1, 3]"
      ]
     },
     "execution_count": 5,
     "metadata": {},
     "output_type": "execute_result"
    }
   ],
   "source": [
    "today = \"2022.05.19\"\n",
    "terms = [\"A 6\", \"B 12\", \"C 3\"]\n",
    "privacies = [\"2021.05.02 A\", \"2021.07.01 B\", \"2022.02.19 C\", \"2022.02.20 C\"]\n",
    "solution(today, terms, privacies)"
   ]
  },
  {
   "cell_type": "markdown",
   "metadata": {},
   "source": [
    "### 2022 KAKAO BLIND RECRUITMENT > [신고 결과 받기](https://school.programmers.co.kr/learn/courses/30/lessons/92334)"
   ]
  },
  {
   "cell_type": "code",
   "execution_count": 1,
   "metadata": {},
   "outputs": [
    {
     "data": {
      "text/plain": [
       "dict_values([0])"
      ]
     },
     "execution_count": 1,
     "metadata": {},
     "output_type": "execute_result"
    }
   ],
   "source": [
    "def solution(id_list, report, k):\n",
    "    report_list = {x:[0, []] for x in id_list} # user name : cnt, [user를 신고한 사람들]\n",
    "    for r in report :\n",
    "        a, b = r.split() # 신고한 사람, 신고당한 사람\n",
    "        if a not in report_list[b][1]:\n",
    "            report_list[b][0] += 1\n",
    "            report_list[b][1].append(a)\n",
    "    \n",
    "    answer = {x:0 for x in id_list}\n",
    "    for ids in id_list:\n",
    "        if report_list[ids][0] >= k:\n",
    "            report_names = report_list[ids][1]\n",
    "            for name in report_names:\n",
    "                answer[name] += 1\n",
    "\n",
    "    return list(answer.values())"
   ]
  },
  {
   "cell_type": "markdown",
   "metadata": {},
   "source": [
    "### [공원 산책](https://school.programmers.co.kr/learn/courses/30/lessons/172928)"
   ]
  },
  {
   "cell_type": "code",
   "execution_count": 82,
   "metadata": {},
   "outputs": [],
   "source": [
    "def solution(park, routes):    \n",
    "    cur_x, cur_y = [(idx, x.index('S')) for idx, x in enumerate(park) if 'S' in x][0] # 현재 위치\n",
    "    height, width = len(park), len(park[0])\n",
    "    \n",
    "    directions = {'E':(0,1), 'W':(0,-1), 'S':(1,0), 'N':(-1,0)}\n",
    "    for route in routes:\n",
    "        op, n = route.split()\n",
    "        dx, dy = directions[op]\n",
    "        nexts = [(cur_x+i*dx, cur_y+i*dy) for i in range(1, int(n)+1)]\n",
    "        filtered = [x for x in nexts if 0 <= x[0] < height and 0 <= x[1] < width and park[x[0]][x[1]] != 'X']\n",
    "        if len(nexts) == len(filtered):\n",
    "            cur_x, cur_y = nexts[-1][0], nexts[-1][1]\n",
    "                \n",
    "    return [cur_x, cur_y]"
   ]
  },
  {
   "cell_type": "markdown",
   "metadata": {},
   "source": [
    "### [바탕화면 정리](https://school.programmers.co.kr/learn/courses/30/lessons/161990)"
   ]
  }
 ],
 "metadata": {
  "kernelspec": {
   "display_name": "Python 3",
   "language": "python",
   "name": "python3"
  },
  "language_info": {
   "codemirror_mode": {
    "name": "ipython",
    "version": 3
   },
   "file_extension": ".py",
   "mimetype": "text/x-python",
   "name": "python",
   "nbconvert_exporter": "python",
   "pygments_lexer": "ipython3",
   "version": "3.10.12"
  }
 },
 "nbformat": 4,
 "nbformat_minor": 2
}
