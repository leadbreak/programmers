{
 "cells": [
  {
   "cell_type": "markdown",
   "metadata": {},
   "source": [
    "### [숫자게임](https://school.programmers.co.kr/learn/courses/30/lessons/12987)"
   ]
  },
  {
   "cell_type": "code",
   "execution_count": null,
   "metadata": {},
   "outputs": [],
   "source": [
    "def solution(A, B):\n",
    "    A.sort()\n",
    "    B.sort()\n",
    "    \n",
    "    N = len(A)\n",
    "    a, b = 0, 0 # 비교 대상 인덱스\n",
    "    \n",
    "    answer = 0\n",
    "    while b < N:\n",
    "        if B[b] > A[a]:\n",
    "            answer += 1\n",
    "            a += 1\n",
    "        b += 1\n",
    "    return answer"
   ]
  }
 ],
 "metadata": {
  "kernelspec": {
   "display_name": "Python 3",
   "language": "python",
   "name": "python3"
  },
  "language_info": {
   "name": "python",
   "version": "3.10.12"
  }
 },
 "nbformat": 4,
 "nbformat_minor": 2
}
