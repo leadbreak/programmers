{
 "cells": [
  {
   "cell_type": "markdown",
   "metadata": {},
   "source": [
    "### [숫자게임](https://school.programmers.co.kr/learn/courses/30/lessons/12987)"
   ]
  },
  {
   "cell_type": "code",
   "execution_count": null,
   "metadata": {},
   "outputs": [],
   "source": [
    "def solution(A, B):\n",
    "    A.sort()\n",
    "    B.sort()\n",
    "    \n",
    "    N = len(A)\n",
    "    a, b = 0, 0 # 비교 대상 인덱스\n",
    "    \n",
    "    answer = 0\n",
    "    while b < N:\n",
    "        if B[b] > A[a]:\n",
    "            answer += 1\n",
    "            a += 1\n",
    "        b += 1\n",
    "    return answer"
   ]
  },
  {
   "cell_type": "markdown",
   "metadata": {},
   "source": [
    "### [연속부분 수열 합의 개수](https://school.programmers.co.kr/learn/courses/30/lessons/131701?language=python3)"
   ]
  },
  {
   "cell_type": "code",
   "execution_count": 5,
   "metadata": {},
   "outputs": [
    {
     "data": {
      "text/plain": [
       "{1}"
      ]
     },
     "execution_count": 5,
     "metadata": {},
     "output_type": "execute_result"
    }
   ],
   "source": [
    "def solution(elements):\n",
    "    target = elements + elements\n",
    "    answer = set()\n",
    "    \n",
    "    answer.add(sum(elements))\n",
    "    N = len(elements)\n",
    "    for i in range(N):\n",
    "        cur = 0\n",
    "        for j in range(i, i+N-1):\n",
    "            cur += target[j]\n",
    "            answer.add(cur)\n",
    "    return len(answer)"
   ]
  }
 ],
 "metadata": {
  "kernelspec": {
   "display_name": "Python 3",
   "language": "python",
   "name": "python3"
  },
  "language_info": {
   "codemirror_mode": {
    "name": "ipython",
    "version": 3
   },
   "file_extension": ".py",
   "mimetype": "text/x-python",
   "name": "python",
   "nbconvert_exporter": "python",
   "pygments_lexer": "ipython3",
   "version": "3.10.12"
  }
 },
 "nbformat": 4,
 "nbformat_minor": 2
}
