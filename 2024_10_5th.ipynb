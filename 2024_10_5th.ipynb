{
 "cells": [
  {
   "cell_type": "markdown",
   "metadata": {},
   "source": [
    "### [카드 뭉치](https://school.programmers.co.kr/learn/courses/30/lessons/159994)"
   ]
  },
  {
   "cell_type": "code",
   "execution_count": null,
   "metadata": {},
   "outputs": [],
   "source": [
    "def solution(cards1, cards2, goal):\n",
    "    c1, c2 = cards1.pop(0), cards2.pop(0)\n",
    "    for g in goal:\n",
    "        if g in c1:\n",
    "            if cards1:\n",
    "                c1 = cards1.pop(0)\n",
    "            else:\n",
    "                c1 = ''\n",
    "        elif g in c2:\n",
    "            if cards2:\n",
    "                c2 = cards2.pop(0)\n",
    "            else :\n",
    "                c2 = ''\n",
    "        else:\n",
    "            return \"No\"\n",
    "    \n",
    "    return \"Yes\""
   ]
  }
 ],
 "metadata": {
  "kernelspec": {
   "display_name": "agingSwap",
   "language": "python",
   "name": "python3"
  },
  "language_info": {
   "name": "python",
   "version": "3.12.7"
  }
 },
 "nbformat": 4,
 "nbformat_minor": 2
}
