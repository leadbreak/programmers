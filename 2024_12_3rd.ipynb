{
 "cells": [
  {
   "cell_type": "markdown",
   "metadata": {},
   "source": [
    "### [실패율](https://school.programmers.co.kr/learn/courses/30/lessons/42889)"
   ]
  },
  {
   "cell_type": "code",
   "execution_count": 6,
   "metadata": {},
   "outputs": [],
   "source": [
    "def solution(N, stages):\n",
    "    fail_pass = [0] * (N+2)\n",
    "    for stage in stages:\n",
    "        for i in range(1, stage+1):\n",
    "            fail_pass[i] += 1\n",
    "    scores = [[x, 0] for x in range(N+1)]\n",
    "    for i in range(1, N+1):\n",
    "        scores[i][1] = fail_pass[i+1] / fail_pass[i] if fail_pass[i] > 0 else 1\n",
    "    return [idx for idx, _ in sorted(scores[1:], key=lambda x: (x[1], x[0]))]"
   ]
  },
  {
   "cell_type": "code",
   "execution_count": 7,
   "metadata": {},
   "outputs": [
    {
     "data": {
      "text/plain": [
       "[4, 2, 1, 3, 5]"
      ]
     },
     "execution_count": 7,
     "metadata": {},
     "output_type": "execute_result"
    }
   ],
   "source": [
    "N, stages = 5, [4, 2, 1]\n",
    "solution(N, stages)"
   ]
  },
  {
   "cell_type": "markdown",
   "metadata": {},
   "source": [
    "- 위 코드는 매번 각 스테이지를 중복으로 탐색하기에 비효율적이므로, 이를 한 번만 순회할 수 있도록 업데이트"
   ]
  },
  {
   "cell_type": "code",
   "execution_count": null,
   "metadata": {},
   "outputs": [],
   "source": [
    "def solution(N, stages):\n",
    "    stage_count = [0] * (N + 2)\n",
    "    for s in stages:\n",
    "        stage_count[s] += 1\n",
    "    \n",
    "    total_players = len(stages)\n",
    "    result = []\n",
    "    for i in range(1, N+1):\n",
    "        if total_players == 0:\n",
    "            fail_rate = 0\n",
    "        else:\n",
    "            fail_rate = stage_count[i] / total_players\n",
    "        result.append((i, fail_rate))\n",
    "        total_players -= stage_count[i]\n",
    "        \n",
    "    result.sort(key=lambda x: (-x[1], x[0]))\n",
    "    return [r[0] for r in result]\n"
   ]
  }
 ],
 "metadata": {
  "kernelspec": {
   "display_name": "Python 3",
   "language": "python",
   "name": "python3"
  },
  "language_info": {
   "codemirror_mode": {
    "name": "ipython",
    "version": 3
   },
   "file_extension": ".py",
   "mimetype": "text/x-python",
   "name": "python",
   "nbconvert_exporter": "python",
   "pygments_lexer": "ipython3",
   "version": "3.10.12"
  }
 },
 "nbformat": 4,
 "nbformat_minor": 2
}
