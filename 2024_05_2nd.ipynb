{
 "cells": [
  {
   "cell_type": "markdown",
   "metadata": {},
   "source": [
    "### 월간 코드 챌린지 시즌2 > [2개 이하로 다른 비트](https://school.programmers.co.kr/learn/courses/30/lessons/77885)"
   ]
  },
  {
   "cell_type": "markdown",
   "metadata": {},
   "source": [
    "1. 숫자를 입력받으면 bit 형식으로 변환  \n",
    "2. 끝에서부터 0이 있다면 1을 추가하고, 그 숫자를 반환  \n",
    "3. 0이 하나도 없다면 다음 비트의 숫자를 반환  "
   ]
  },
  {
   "cell_type": "code",
   "execution_count": 3,
   "metadata": {},
   "outputs": [
    {
     "name": "stdout",
     "output_type": "stream",
     "text": [
      "111\n",
      "7\n"
     ]
    }
   ],
   "source": [
    "num = 7\n",
    "\n",
    "# 2비트 변환\n",
    "binary = bin(num)[2:].zfill(2)\n",
    "print(binary)\n",
    "\n",
    "# 10진수 숫자로 변환\n",
    "decimal = int(binary, 2)\n",
    "print(decimal)"
   ]
  },
  {
   "cell_type": "code",
   "execution_count": 103,
   "metadata": {},
   "outputs": [],
   "source": [
    "def solution(numbers):\n",
    "    answers = []\n",
    "    for number in numbers :\n",
    "        binary = bin(number)[2:]\n",
    "        answer = str(binary)\n",
    "        for i in range(len(binary), 0, -1):\n",
    "            if binary[i-1] == '0':\n",
    "                prefix = answer[:i-1] + '1'\n",
    "                target = answer[i:]\n",
    "                if '1' in target:\n",
    "                    zero_idx = target.index('1')\n",
    "                    target = target[:zero_idx] + '0' + target[zero_idx+1:]\n",
    "                answer = prefix + target\n",
    "                \n",
    "                answers.append(int(answer, 2))\n",
    "                break\n",
    "        if answer == binary:\n",
    "            answers.append(2 ** len(binary) - 2 ** (len(binary)-1) + int(answer,2))\n",
    "    return answers        "
   ]
  },
  {
   "cell_type": "code",
   "execution_count": 105,
   "metadata": {},
   "outputs": [
    {
     "name": "stdout",
     "output_type": "stream",
     "text": [
      "2 \n"
     ]
    },
    {
     "data": {
      "text/plain": [
       "[3, 11]"
      ]
     },
     "execution_count": 105,
     "metadata": {},
     "output_type": "execute_result"
    }
   ],
   "source": [
    "solution([2,7])"
   ]
  },
  {
   "cell_type": "code",
   "execution_count": 104,
   "metadata": {},
   "outputs": [
    {
     "name": "stdout",
     "output_type": "stream",
     "text": [
      "4321 1\n",
      "0\n",
      "5324 \n",
      "1111 111\n",
      "0\n",
      "444 \n",
      "666 \n"
     ]
    },
    {
     "data": {
      "text/plain": [
       "[4322, 5325, 1115, 445, 667]"
      ]
     },
     "execution_count": 104,
     "metadata": {},
     "output_type": "execute_result"
    }
   ],
   "source": [
    "solution([4321, 5324, 1111, 444, 666])"
   ]
  },
  {
   "cell_type": "code",
   "execution_count": 100,
   "metadata": {},
   "outputs": [
    {
     "data": {
      "text/plain": [
       "'10001011000'"
      ]
     },
     "execution_count": 100,
     "metadata": {},
     "output_type": "execute_result"
    }
   ],
   "source": [
    "bin(1112)[2:]"
   ]
  },
  {
   "cell_type": "code",
   "execution_count": 101,
   "metadata": {},
   "outputs": [
    {
     "data": {
      "text/plain": [
       "'10001010111'"
      ]
     },
     "execution_count": 101,
     "metadata": {},
     "output_type": "execute_result"
    }
   ],
   "source": [
    "bin(1111)[2:]"
   ]
  },
  {
   "cell_type": "code",
   "execution_count": 102,
   "metadata": {},
   "outputs": [
    {
     "data": {
      "text/plain": [
       "'10001011011'"
      ]
     },
     "execution_count": 102,
     "metadata": {},
     "output_type": "execute_result"
    }
   ],
   "source": [
    "bin(1115)[2:]"
   ]
  }
 ],
 "metadata": {
  "kernelspec": {
   "display_name": "Python 3",
   "language": "python",
   "name": "python3"
  },
  "language_info": {
   "codemirror_mode": {
    "name": "ipython",
    "version": 3
   },
   "file_extension": ".py",
   "mimetype": "text/x-python",
   "name": "python",
   "nbconvert_exporter": "python",
   "pygments_lexer": "ipython3",
   "version": "3.10.12"
  }
 },
 "nbformat": 4,
 "nbformat_minor": 2
}
