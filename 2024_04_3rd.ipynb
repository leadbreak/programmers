{
 "cells": [
  {
   "cell_type": "markdown",
   "metadata": {},
   "source": [
    "### 2022 KAKAO TECH INTERNSHIP > [성격 유형 검사하기](https://school.programmers.co.kr/learn/courses/30/lessons/118666)\n"
   ]
  },
  {
   "cell_type": "markdown",
   "metadata": {},
   "source": [
    "- 문제 자체의 난이도는 어렵지 않으며, 실행속도와 가독성을 위해 하드코딩을 이용"
   ]
  },
  {
   "cell_type": "code",
   "execution_count": null,
   "metadata": {},
   "outputs": [],
   "source": [
    "def solution(survey, choices):\n",
    "    personalities = ['R', 'T', 'C', 'F', 'J', 'M', 'A', 'N']\n",
    "    results = {p:0 for p in personalities}\n",
    "    for s, c in zip(survey, choices):\n",
    "        if c == 4:\n",
    "            continue\n",
    "        elif c < 4:\n",
    "            results[s[0]] += 4-c\n",
    "        else :\n",
    "            results[s[1]] += c-4\n",
    "    \n",
    "    answer = ''\n",
    "    for i in range(4):\n",
    "        p1, p2 = personalities[i*2], personalities[i*2+1]\n",
    "        r1, r2 = results[p1], results[p2]\n",
    "        if r1 >= r2:\n",
    "            answer += p1\n",
    "        else :\n",
    "            answer += p2\n",
    "    \n",
    "    return answer"
   ]
  },
  {
   "cell_type": "markdown",
   "metadata": {},
   "source": [
    "### 2019 카카오 개발자 겨울 인턴십 > [크레인 인형뽑기 게임](https://school.programmers.co.kr/learn/courses/30/lessons/64061)"
   ]
  },
  {
   "cell_type": "code",
   "execution_count": 49,
   "metadata": {},
   "outputs": [],
   "source": [
    "def solution(board, moves):\n",
    "    board = [list(row) for row in zip(*board[::-1])]\n",
    "    pocket = []\n",
    "    answer = 0\n",
    "    for move in moves:\n",
    "        target = 0        \n",
    "        while not target:\n",
    "            if not board[move-1]:\n",
    "                break\n",
    "            target = board[move-1].pop()\n",
    "        if target == 0:\n",
    "            continue\n",
    "        \n",
    "        print(pocket, target)\n",
    "        if not pocket :\n",
    "            pocket.append(target)\n",
    "            before = target\n",
    "        elif before == target:\n",
    "            pocket.pop()\n",
    "            answer += 2\n",
    "            before = pocket[-1] if pocket else 0\n",
    "        else :\n",
    "            pocket.append(target)\n",
    "            before = target\n",
    "    return answer"
   ]
  },
  {
   "cell_type": "code",
   "execution_count": 50,
   "metadata": {},
   "outputs": [
    {
     "name": "stdout",
     "output_type": "stream",
     "text": [
      "[] 4\n",
      "[4] 3\n",
      "[4, 3] 1\n",
      "[4, 3, 1] 1\n",
      "[4, 3] 3\n",
      "[4] 2\n",
      "[4, 2] 4\n"
     ]
    },
    {
     "data": {
      "text/plain": [
       "4"
      ]
     },
     "execution_count": 50,
     "metadata": {},
     "output_type": "execute_result"
    }
   ],
   "source": [
    "board = [[0,0,0,0,0],[0,0,1,0,3],[0,2,5,0,1],[4,2,4,4,2],[3,5,1,3,1]]\n",
    "moves = [1,5,3,5,1,2,1,4]\n",
    "solution(board, moves)"
   ]
  },
  {
   "cell_type": "code",
   "execution_count": 51,
   "metadata": {},
   "outputs": [
    {
     "name": "stdout",
     "output_type": "stream",
     "text": [
      "[] 2\n",
      "[2] 5\n",
      "[2, 5] 5\n",
      "[2] 5\n",
      "[2, 5] 5\n",
      "[2] 2\n"
     ]
    },
    {
     "data": {
      "text/plain": [
       "6"
      ]
     },
     "execution_count": 51,
     "metadata": {},
     "output_type": "execute_result"
    }
   ],
   "source": [
    "board = [[0, 0, 0, 0, 0], [0, 0, 0, 0, 0], [0, 0, 0, 0, 2], [5, 5, 5, 5, 5], [2, 2, 2, 2, 2]]\n",
    "moves = [5, 1, 2, 3, 4, 1]\n",
    "solution(board, moves)"
   ]
  },
  {
   "cell_type": "code",
   "execution_count": null,
   "metadata": {},
   "outputs": [],
   "source": []
  }
 ],
 "metadata": {
  "kernelspec": {
   "display_name": "Python 3",
   "language": "python",
   "name": "python3"
  },
  "language_info": {
   "codemirror_mode": {
    "name": "ipython",
    "version": 3
   },
   "file_extension": ".py",
   "mimetype": "text/x-python",
   "name": "python",
   "nbconvert_exporter": "python",
   "pygments_lexer": "ipython3",
   "version": "3.10.12"
  }
 },
 "nbformat": 4,
 "nbformat_minor": 2
}
