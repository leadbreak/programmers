{
 "cells": [
  {
   "cell_type": "markdown",
   "id": "545e225a",
   "metadata": {},
   "source": [
    "### [지게차와 크레인](https://school.programmers.co.kr/learn/courses/30/lessons/388353)"
   ]
  },
  {
   "cell_type": "code",
   "execution_count": null,
   "id": "ed860195",
   "metadata": {},
   "outputs": [],
   "source": [
    "from collections import deque\n",
    "\n",
    "def solution(storage, requests):\n",
    "    rows, cols = len(storage), len(storage[0])\n",
    "    storage = [list(row) for row in storage]\n",
    "    reach = [list('O'*cols) if i in [0, rows-1] else list('O'+'X'*(cols-2)+'O') for i in range(rows)]\n",
    "    cur = [list('O'*cols) if i in [0, rows-1] else list('O'+'X'*(cols-2)+'O') for i in range(rows)]\n",
    "\n",
    "    def is_reach(target, y, x, is_possible = 'O'):\n",
    "        storage[y][x] = 'ㅋ'\n",
    "        dirs = [(0,1), (1,0), (-1,0), (0,-1)] \n",
    "        befores = deque([])\n",
    "        visited = set()\n",
    "\n",
    "        if is_possible == 'O':            \n",
    "            for (dx, dy) in dirs:\n",
    "                nx, ny = x+dx, y+dy\n",
    "                if 0 <= ny < rows and 0 <= nx < cols:\n",
    "                    reach[ny][nx] = 'O'\n",
    "                    \n",
    "                    if storage[ny][nx] == 'ㅋ' and cur[ny][nx] == 'X' and (ny, nx) not in visited:\n",
    "                        befores.append((ny, nx))\n",
    "                        visited.add((ny, nx))\n",
    "                        \n",
    "        while befores:\n",
    "            cy, cx = befores.popleft()\n",
    "            \n",
    "            for (dx, dy) in dirs:\n",
    "                nx, ny = cx+dx, cy+dy\n",
    "                if 0 <= ny < rows and 0 <= nx < cols:\n",
    "                    reach[ny][nx] = 'O'\n",
    "                    \n",
    "                    if storage[ny][nx] == 'ㅋ' and cur[ny][nx] == 'X' and (ny, nx) not in visited:\n",
    "                        befores.append((ny, nx))\n",
    "                        visited.add((ny, nx))\n",
    "\n",
    "    for req in requests:\n",
    "        target = req[0]\n",
    "        if len(req) == 2:\n",
    "            tmp = [(y, x) for y, row in enumerate(storage) for x, item in enumerate(row) if item == target]\n",
    "            for (y, x) in tmp:\n",
    "                is_reach(target, y, x, reach[y][x])\n",
    "        else:\n",
    "            tmp = [(y, x) for y, row in enumerate(storage) for x, item in enumerate(row) if item == target and cur[y][x] == 'O']\n",
    "            for (y, x) in tmp:\n",
    "                is_reach(target, y, x)\n",
    "        \n",
    "        cur = [row for row in reach]\n",
    "\n",
    "    return sum(1 for row in storage for item in row if item != 'ㅋ')"
   ]
  },
  {
   "cell_type": "markdown",
   "id": "a83b8f37",
   "metadata": {},
   "source": [
    "### [후보키](https://school.programmers.co.kr/learn/courses/30/lessons/42890)"
   ]
  },
  {
   "cell_type": "code",
   "execution_count": null,
   "id": "9d19d6c2",
   "metadata": {},
   "outputs": [],
   "source": [
    "from itertools import combinations\n",
    "\n",
    "def solution(a):\n",
    "    b, y = [], len(a[0])\n",
    "    for i in range(y):\n",
    "        for c in filter(\n",
    "            lambda x: not any(all(e in x for e in g) for g in b) \n",
    "            and len({tuple(d[f]for f in x) for d in a}) == len(a), \n",
    "            combinations(range(y),i+1)\n",
    "        ):\n",
    "            b.append(c)\n",
    "\n",
    "    return len(b)"
   ]
  },
  {
   "cell_type": "markdown",
   "id": "943965b0",
   "metadata": {},
   "source": [
    "### [점 찍기](https://school.programmers.co.kr/learn/courses/30/lessons/140107)"
   ]
  },
  {
   "cell_type": "code",
   "execution_count": null,
   "id": "5258716e",
   "metadata": {},
   "outputs": [],
   "source": [
    "solution = lambda k, d: sum([(d**2 - (i * k)**2)**0.5 // k + 1 for i in range(d // k + 1)])"
   ]
  }
 ],
 "metadata": {
  "language_info": {
   "name": "python"
  }
 },
 "nbformat": 4,
 "nbformat_minor": 5
}
