{
 "cells": [
  {
   "cell_type": "markdown",
   "metadata": {},
   "source": [
    "### [유사 칸토어 비트열](https://school.programmers.co.kr/learn/courses/30/lessons/148652)"
   ]
  },
  {
   "cell_type": "code",
   "execution_count": 1,
   "metadata": {},
   "outputs": [],
   "source": [
    "def solution(n, l, r):\n",
    "    answer = 0\n",
    "    for i in range(l-1,r):\n",
    "        while i > 0:\n",
    "            i, mod = divmod(i, 5)\n",
    "            if mod == 2:\n",
    "                break\n",
    "        else:\n",
    "            answer += 1\n",
    "    return answer"
   ]
  },
  {
   "cell_type": "markdown",
   "metadata": {},
   "source": [
    "### [[1차]비밀지도](https://school.programmers.co.kr/learn/courses/30/lessons/17681)"
   ]
  },
  {
   "cell_type": "markdown",
   "metadata": {},
   "source": [
    "- or bin문으로 x1과 x2 중 하나라도 1이면 1로 만들어주고, n자리까지 빈칸을 rjust로 채워준 다음, 0은 빈칸으로 1은 #으로 대체"
   ]
  },
  {
   "cell_type": "code",
   "execution_count": 5,
   "metadata": {},
   "outputs": [
    {
     "data": {
      "text/plain": [
       "'#####'"
      ]
     },
     "execution_count": 5,
     "metadata": {},
     "output_type": "execute_result"
    }
   ],
   "source": [
    "def solution(n, arr1, arr2):\n",
    "\n",
    "    return [bin(x1|x2)[2:].rjust(n, \"0\").replace(\"0\", \" \").replace(\"1\", \"#\") for x1, x2 in zip(arr1, arr2)]"
   ]
  },
  {
   "cell_type": "markdown",
   "metadata": {},
   "source": [
    "- 조건문을 이용한 list comprehension으로 타겟 배열을 만들고,  \n",
    "  만약 이렇게 만든 배열이 n보다 작다면 그만큼 앞부분을 채워줌"
   ]
  },
  {
   "cell_type": "code",
   "execution_count": null,
   "metadata": {},
   "outputs": [],
   "source": [
    "def solution(n, arr1, arr2):\n",
    "    answer = []\n",
    "    \n",
    "    for x1, x2 in zip(arr1, arr2):\n",
    "        value = \"\".join([\"#\" if int(x) > 0 else \" \" for x in str(int(bin(x1)[2:]) + int(bin(x2)[2:]))])\n",
    "        length = len(value)\n",
    "        if length < n:\n",
    "            value = \" \" * (n-length) +value\n",
    "        answer.append(value)    \n",
    "    \n",
    "    return answer"
   ]
  },
  {
   "cell_type": "code",
   "execution_count": null,
   "metadata": {},
   "outputs": [],
   "source": []
  }
 ],
 "metadata": {
  "kernelspec": {
   "display_name": "Python 3",
   "language": "python",
   "name": "python3"
  },
  "language_info": {
   "codemirror_mode": {
    "name": "ipython",
    "version": 3
   },
   "file_extension": ".py",
   "mimetype": "text/x-python",
   "name": "python",
   "nbconvert_exporter": "python",
   "pygments_lexer": "ipython3",
   "version": "3.10.12"
  }
 },
 "nbformat": 4,
 "nbformat_minor": 2
}
