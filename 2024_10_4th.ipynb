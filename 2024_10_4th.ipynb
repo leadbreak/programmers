{
 "cells": [
  {
   "cell_type": "markdown",
   "metadata": {},
   "source": [
    "### [유사 칸토어 비트열](https://school.programmers.co.kr/learn/courses/30/lessons/148652)"
   ]
  },
  {
   "cell_type": "code",
   "execution_count": 1,
   "metadata": {},
   "outputs": [],
   "source": [
    "def solution(n, l, r):\n",
    "    answer = 0\n",
    "    for i in range(l-1,r):\n",
    "        while i > 0:\n",
    "            i, mod = divmod(i, 5)\n",
    "            if mod == 2:\n",
    "                break\n",
    "        else:\n",
    "            answer += 1\n",
    "    return answer"
   ]
  }
 ],
 "metadata": {
  "kernelspec": {
   "display_name": "Python 3",
   "language": "python",
   "name": "python3"
  },
  "language_info": {
   "codemirror_mode": {
    "name": "ipython",
    "version": 3
   },
   "file_extension": ".py",
   "mimetype": "text/x-python",
   "name": "python",
   "nbconvert_exporter": "python",
   "pygments_lexer": "ipython3",
   "version": "3.10.12"
  }
 },
 "nbformat": 4,
 "nbformat_minor": 2
}
