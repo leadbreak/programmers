{
 "cells": [
  {
   "cell_type": "markdown",
   "id": "6e2bfed0",
   "metadata": {},
   "source": [
    "### [서버 증설 횟수](https://school.programmers.co.kr/learn/courses/30/lessons/389479?language=python3)"
   ]
  },
  {
   "cell_type": "code",
   "execution_count": null,
   "id": "e6755125",
   "metadata": {},
   "outputs": [],
   "source": [
    "def solution(players, m, k):\n",
    "    answer = 0\n",
    "    server = [0] * 24\n",
    "    for idx, player in enumerate(players):\n",
    "        needed = player // m - server[idx]\n",
    "        if needed > 0:\n",
    "            for target in range(idx, min(24, idx+k)):\n",
    "                server[target] += needed\n",
    "            answer += needed\n",
    "    return answer\n",
    "            "
   ]
  }
 ],
 "metadata": {
  "kernelspec": {
   "display_name": "Python 3",
   "language": "python",
   "name": "python3"
  },
  "language_info": {
   "codemirror_mode": {
    "name": "ipython",
    "version": 3
   },
   "file_extension": ".py",
   "mimetype": "text/x-python",
   "name": "python",
   "nbconvert_exporter": "python",
   "pygments_lexer": "ipython3",
   "version": "3.10.12"
  }
 },
 "nbformat": 4,
 "nbformat_minor": 5
}
