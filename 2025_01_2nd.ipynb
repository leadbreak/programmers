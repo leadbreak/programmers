{
 "cells": [
  {
   "cell_type": "markdown",
   "metadata": {},
   "source": [
    "### [멀리뛰기](https://school.programmers.co.kr/learn/courses/30/lessons/12914)"
   ]
  },
  {
   "cell_type": "markdown",
   "metadata": {},
   "source": [
    "- 수식 세워 풀이"
   ]
  },
  {
   "cell_type": "code",
   "execution_count": null,
   "metadata": {},
   "outputs": [],
   "source": [
    "def solution(n):\n",
    "    answer = 1\n",
    "    a = 0\n",
    "    for i in range(1, n//2+1):\n",
    "        v1 = 1\n",
    "        v2 = 1\n",
    "        for j in range(1, i+1):\n",
    "            v1 *= n-j-a\n",
    "            v2 *= j\n",
    "        answer += v1 // v2\n",
    "        a += 1\n",
    "    return answer % 1234567"
   ]
  },
  {
   "cell_type": "markdown",
   "metadata": {},
   "source": [
    "### [영어 끝말잇기](https://school.programmers.co.kr/learn/courses/30/lessons/12981)"
   ]
  },
  {
   "cell_type": "code",
   "execution_count": null,
   "metadata": {},
   "outputs": [],
   "source": [
    "def solution(n, words):\n",
    "    history = [words[0]]\n",
    "    last = words[0][-1]\n",
    "    for idx, word in enumerate(words[1:], start=2):\n",
    "        first = word[0]\n",
    "        if first == last and word not in history:\n",
    "            history.append(word)\n",
    "            last = word[-1]\n",
    "        else:\n",
    "            return [idx%n if idx%n else n, (idx+n-1)//n]\n",
    "        \n",
    "    return [0,0]"
   ]
  },
  {
   "cell_type": "markdown",
   "metadata": {},
   "source": [
    "### [입국심사](https://school.programmers.co.kr/learn/courses/30/lessons/43238)"
   ]
  },
  {
   "cell_type": "code",
   "execution_count": null,
   "metadata": {},
   "outputs": [],
   "source": [
    "def solution(n, times):\n",
    "    # 가능한 최소 시간(min_time)은 1분, \n",
    "    # 가능한 최대 시간(max_time)은 가장 느린 심사관이 n명을 모두 심사한다고 가정했을 때 걸리는 시간\n",
    "    left, right = 1, max(times) * n\n",
    "    answer = right\n",
    "    \n",
    "    while left <= right:\n",
    "        mid = (left + right) // 2  # 후보가 될 수 있는 중앙값(시간)\n",
    "        \n",
    "        # mid 시간 동안 심사할 수 있는 사람 수를 계산\n",
    "        total = 0\n",
    "        for t in times:\n",
    "            total += mid // t\n",
    "            if total >= n:  # 이미 모든 사람을 심사할 수 있으면 더 볼 필요 없음\n",
    "                break\n",
    "        \n",
    "        # 만약 mid 시간 내에 n명을 모두 처리할 수 있다면, \n",
    "        # 시간을 더 줄여도 되는 가능성이 있으므로 right 조정\n",
    "        if total >= n:\n",
    "            answer = mid\n",
    "            right = mid - 1\n",
    "        # mid 시간 내에 n명을 모두 처리하지 못한다면, 시간을 늘려야 하므로 left 조정\n",
    "        else:\n",
    "            left = mid + 1\n",
    "    \n",
    "    return answer\n"
   ]
  }
 ],
 "metadata": {
  "kernelspec": {
   "display_name": "Python 3",
   "language": "python",
   "name": "python3"
  },
  "language_info": {
   "name": "python",
   "version": "3.10.12"
  }
 },
 "nbformat": 4,
 "nbformat_minor": 2
}
