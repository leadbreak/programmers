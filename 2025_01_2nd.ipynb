{
 "cells": [
  {
   "cell_type": "markdown",
   "metadata": {},
   "source": [
    "### [멀리뛰기](https://school.programmers.co.kr/learn/courses/30/lessons/12914)"
   ]
  },
  {
   "cell_type": "markdown",
   "metadata": {},
   "source": [
    "- 수식 세워 풀이"
   ]
  },
  {
   "cell_type": "code",
   "execution_count": null,
   "metadata": {},
   "outputs": [],
   "source": [
    "def solution(n):\n",
    "    answer = 1\n",
    "    a = 0\n",
    "    for i in range(1, n//2+1):\n",
    "        v1 = 1\n",
    "        v2 = 1\n",
    "        for j in range(1, i+1):\n",
    "            v1 *= n-j-a\n",
    "            v2 *= j\n",
    "        answer += v1 // v2\n",
    "        a += 1\n",
    "    return answer % 1234567"
   ]
  },
  {
   "cell_type": "markdown",
   "metadata": {},
   "source": [
    "### [영어 끝말잇기](https://school.programmers.co.kr/learn/courses/30/lessons/12981)"
   ]
  },
  {
   "cell_type": "code",
   "execution_count": null,
   "metadata": {},
   "outputs": [],
   "source": [
    "def solution(n, words):\n",
    "    history = [words[0]]\n",
    "    last = words[0][-1]\n",
    "    for idx, word in enumerate(words[1:], start=2):\n",
    "        first = word[0]\n",
    "        if first == last and word not in history:\n",
    "            history.append(word)\n",
    "            last = word[-1]\n",
    "        else:\n",
    "            return [idx%n if idx%n else n, (idx+n-1)//n]\n",
    "        \n",
    "    return [0,0]"
   ]
  }
 ],
 "metadata": {
  "kernelspec": {
   "display_name": "Python 3",
   "language": "python",
   "name": "python3"
  },
  "language_info": {
   "name": "python",
   "version": "3.10.12"
  }
 },
 "nbformat": 4,
 "nbformat_minor": 2
}
