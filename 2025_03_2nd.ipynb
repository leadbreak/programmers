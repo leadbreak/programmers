{
 "cells": [
  {
   "cell_type": "markdown",
   "metadata": {},
   "source": [
    "### [택배 상자](https://school.programmers.co.kr/learn/courses/30/lessons/131704)"
   ]
  },
  {
   "cell_type": "code",
   "execution_count": null,
   "metadata": {},
   "outputs": [],
   "source": [
    "def solution(order):\n",
    "    stack = [] # 보조 벨트\n",
    "    answer = 0\n",
    "    idx = 1\n",
    "    N = len(order)\n",
    "    for o in order:\n",
    "        # 보조 벨트에서 처리 가능한 경우\n",
    "        if stack and stack[-1] == o:\n",
    "            stack.pop()\n",
    "            answer += 1\n",
    "        else:\n",
    "            # 보조 벨트로 옮겨야 하는 경우\n",
    "            while idx != o and idx <= N:\n",
    "                stack.append(idx)\n",
    "                idx += 1\n",
    "                \n",
    "            # 메인 벨트에서 정해진 박스 발견\n",
    "            if idx == o and idx <= N:\n",
    "                answer += 1\n",
    "                idx += 1\n",
    "            else:\n",
    "                break\n",
    "    return answer"
   ]
  }
 ],
 "metadata": {
  "kernelspec": {
   "display_name": "Python 3",
   "language": "python",
   "name": "python3"
  },
  "language_info": {
   "name": "python",
   "version": "3.10.12"
  }
 },
 "nbformat": 4,
 "nbformat_minor": 2
}
