{
 "cells": [
  {
   "cell_type": "markdown",
   "metadata": {},
   "source": [
    "### [택배 상자](https://school.programmers.co.kr/learn/courses/30/lessons/131704)"
   ]
  },
  {
   "cell_type": "code",
   "execution_count": null,
   "metadata": {},
   "outputs": [],
   "source": [
    "def solution(order):\n",
    "    stack = [] # 보조 벨트\n",
    "    answer = 0\n",
    "    idx = 1\n",
    "    N = len(order)\n",
    "    for o in order:\n",
    "        # 보조 벨트에서 처리 가능한 경우\n",
    "        if stack and stack[-1] == o:\n",
    "            stack.pop()\n",
    "            answer += 1\n",
    "        else:\n",
    "            # 보조 벨트로 옮겨야 하는 경우\n",
    "            while idx != o and idx <= N:\n",
    "                stack.append(idx)\n",
    "                idx += 1\n",
    "                \n",
    "            # 메인 벨트에서 정해진 박스 발견\n",
    "            if idx == o and idx <= N:\n",
    "                answer += 1\n",
    "                idx += 1\n",
    "            else:\n",
    "                break\n",
    "    return answer"
   ]
  },
  {
   "cell_type": "markdown",
   "metadata": {},
   "source": [
    "### [주차 요금 계산](https://school.programmers.co.kr/learn/courses/30/lessons/92341)"
   ]
  },
  {
   "cell_type": "code",
   "execution_count": null,
   "metadata": {},
   "outputs": [],
   "source": [
    "from collections import defaultdict\n",
    "import math\n",
    "\n",
    "def solution(fees, records):\n",
    "    answer = defaultdict(int)\n",
    "    inout = defaultdict(list)\n",
    "\n",
    "    for time, num, record in list(map(lambda x: x.split(), records)):\n",
    "\n",
    "        if record == 'IN':\n",
    "            inout[num] = list(map(int, time.split(':')))\n",
    "        else:\n",
    "            [in_hour, in_min] = inout[num]\n",
    "            del inout[num] # 처리했으니 제거 -> 추후 출차 기록 없는 경우 고려\n",
    "            out_hour, out_min = list(map(int, time.split(':')))\n",
    "            total = 60*(out_hour - in_hour) + out_min - in_min\n",
    "            answer[num] += total\n",
    "    \n",
    "    # 출차기록 없는 경우 처리\n",
    "    for num in inout.keys():\n",
    "        [in_hour, in_min] = inout[num]\n",
    "        out_hour, out_min = 23, 59\n",
    "        total = 60*(out_hour - in_hour) + out_min - in_min\n",
    "        answer[num] += total\n",
    "        \n",
    "    default_time, default_fee, unit_time, unit_fee = fees\n",
    "    answer = [(num, default_fee+math.ceil(max(0, time-default_time)/unit_time)*unit_fee) for num, time in answer.items()]\n",
    "    answer.sort(key=lambda x: x[0])\n",
    "    return [x[1] for x in answer]"
   ]
  }
 ],
 "metadata": {
  "kernelspec": {
   "display_name": "Python 3",
   "language": "python",
   "name": "python3"
  },
  "language_info": {
   "name": "python",
   "version": "3.10.12"
  }
 },
 "nbformat": 4,
 "nbformat_minor": 2
}
