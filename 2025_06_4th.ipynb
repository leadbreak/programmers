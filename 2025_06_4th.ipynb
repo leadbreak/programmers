{
 "cells": [
  {
   "cell_type": "markdown",
   "id": "42d3a160",
   "metadata": {},
   "source": [
    "### [숫자의 표현](https://school.programmers.co.kr/learn/courses/30/lessons/12924)"
   ]
  },
  {
   "cell_type": "code",
   "execution_count": null,
   "id": "53d6711e",
   "metadata": {},
   "outputs": [],
   "source": [
    "def solution(n):\n",
    "    '''\n",
    "    연속된 x개의 숫자들로 n을 나눌 때,\n",
    "    x가 홀수라면 나누어 떨어져야 하고,\n",
    "    x가 짝수라면 x / 2의 값으로 나머지가 나와야 함\n",
    "    '''\n",
    "    \n",
    "    answer = 1 # 자기 자신\n",
    "    for i in range(2, n):\n",
    "        # 1부터 x까지의 연속된 자연수 합이 n보다 크면 종료\n",
    "        if i**2+i > 2*n:\n",
    "            break\n",
    "            \n",
    "        if i % 2 == 1 and n % i == 0:\n",
    "            answer += 1\n",
    "        elif i % 2 == 0 and n % i == i / 2:\n",
    "            answer += 1\n",
    "    \n",
    "    return answer\n",
    "        "
   ]
  },
  {
   "cell_type": "markdown",
   "id": "405bca80",
   "metadata": {},
   "source": [
    "### [짝지어 제거하기](https://school.programmers.co.kr/learn/courses/30/lessons/12973)"
   ]
  },
  {
   "cell_type": "code",
   "execution_count": 17,
   "id": "542e2b1f",
   "metadata": {},
   "outputs": [],
   "source": [
    "def solution(s):\n",
    "    s = [x for x in s]\n",
    "    before = s[0]\n",
    "    idx = 1\n",
    "    while s:\n",
    "        if before == s[idx]:\n",
    "            if len(s) == 2:\n",
    "                return 1\n",
    "            elif len(s) == 3:\n",
    "                return 0\n",
    "            s = s[:idx-1]+s[idx+1:]\n",
    "            print(idx, s)\n",
    "            idx -= 2\n",
    "            before = s[idx-1]\n",
    "            continue\n",
    "        idx += 1\n",
    "        before = s[idx-1]\n",
    "        if idx >= len(s):\n",
    "            return 0\n",
    "    return 1"
   ]
  },
  {
   "cell_type": "code",
   "execution_count": 18,
   "id": "0396976a",
   "metadata": {},
   "outputs": [
    {
     "name": "stdout",
     "output_type": "stream",
     "text": [
      "2 ['b', 'b', 'a', 'a']\n",
      "1 ['a', 'a']\n"
     ]
    },
    {
     "data": {
      "text/plain": [
       "1"
      ]
     },
     "execution_count": 18,
     "metadata": {},
     "output_type": "execute_result"
    }
   ],
   "source": [
    "s = 'baabaa'\n",
    "solution(s)"
   ]
  }
 ],
 "metadata": {
  "kernelspec": {
   "display_name": "Python 3",
   "language": "python",
   "name": "python3"
  },
  "language_info": {
   "codemirror_mode": {
    "name": "ipython",
    "version": 3
   },
   "file_extension": ".py",
   "mimetype": "text/x-python",
   "name": "python",
   "nbconvert_exporter": "python",
   "pygments_lexer": "ipython3",
   "version": "3.10.12"
  }
 },
 "nbformat": 4,
 "nbformat_minor": 5
}
