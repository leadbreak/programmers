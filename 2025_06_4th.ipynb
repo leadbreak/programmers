{
 "cells": [
  {
   "cell_type": "markdown",
   "id": "42d3a160",
   "metadata": {},
   "source": [
    "### [숫자의 표현](https://school.programmers.co.kr/learn/courses/30/lessons/12924)"
   ]
  },
  {
   "cell_type": "code",
   "execution_count": null,
   "id": "53d6711e",
   "metadata": {},
   "outputs": [],
   "source": [
    "def solution(n):\n",
    "    '''\n",
    "    연속된 x개의 숫자들로 n을 나눌 때,\n",
    "    x가 홀수라면 나누어 떨어져야 하고,\n",
    "    x가 짝수라면 x / 2의 값으로 나머지가 나와야 함\n",
    "    '''\n",
    "    \n",
    "    answer = 1 # 자기 자신\n",
    "    for i in range(2, n):\n",
    "        # 1부터 x까지의 연속된 자연수 합이 n보다 크면 종료\n",
    "        if i**2+i > 2*n:\n",
    "            break\n",
    "            \n",
    "        if i % 2 == 1 and n % i == 0:\n",
    "            answer += 1\n",
    "        elif i % 2 == 0 and n % i == i / 2:\n",
    "            answer += 1\n",
    "    \n",
    "    return answer\n",
    "        "
   ]
  },
  {
   "cell_type": "markdown",
   "id": "405bca80",
   "metadata": {},
   "source": [
    "### [짝지어 제거하기](https://school.programmers.co.kr/learn/courses/30/lessons/12973)"
   ]
  },
  {
   "cell_type": "code",
   "execution_count": 3,
   "id": "542e2b1f",
   "metadata": {},
   "outputs": [],
   "source": [
    "def solution(s):\n",
    "    s = [x for x in s]\n",
    "    while s:\n",
    "        cur = 0\n",
    "        while len(s) > 1:\n",
    "            while s[cur] == s[cur+1]:\n",
    "                print('\\nbefore:', s, cur)\n",
    "                if cur == 0:\n",
    "                    s = s[2:]\n",
    "                else:\n",
    "                    s = s[:cur] + s[cur+2:]\n",
    "                cur = max(0, cur-1)\n",
    "                print('after:', s, cur)\n",
    "\n",
    "            cur += 1\n",
    "            print(s, cur)\n",
    "            if cur >= len(s)-2:\n",
    "                    return 0\n",
    "        print('scout:', s, cur)\n",
    "    return 1\n",
    "            \n",
    "    "
   ]
  },
  {
   "cell_type": "code",
   "execution_count": 5,
   "id": "0396976a",
   "metadata": {},
   "outputs": [
    {
     "name": "stdout",
     "output_type": "stream",
     "text": [
      "['b', 'a', 'a', 'b', 'a', 'a'] 1\n",
      "\n",
      "before: ['b', 'a', 'a', 'b', 'a', 'a'] 1\n",
      "after: ['b', 'b', 'a', 'a'] 0\n",
      "\n",
      "before: ['b', 'b', 'a', 'a'] 0\n",
      "after: ['a', 'a'] 0\n",
      "\n",
      "before: ['a', 'a'] 0\n",
      "after: [] 0\n"
     ]
    },
    {
     "ename": "IndexError",
     "evalue": "list index out of range",
     "output_type": "error",
     "traceback": [
      "\u001b[0;31m---------------------------------------------------------------------------\u001b[0m",
      "\u001b[0;31mIndexError\u001b[0m                                Traceback (most recent call last)",
      "Cell \u001b[0;32mIn[5], line 2\u001b[0m\n\u001b[1;32m      1\u001b[0m s \u001b[38;5;241m=\u001b[39m \u001b[38;5;124m'\u001b[39m\u001b[38;5;124mbaabaa\u001b[39m\u001b[38;5;124m'\u001b[39m\n\u001b[0;32m----> 2\u001b[0m \u001b[43msolution\u001b[49m\u001b[43m(\u001b[49m\u001b[43ms\u001b[49m\u001b[43m)\u001b[49m\n",
      "Cell \u001b[0;32mIn[3], line 6\u001b[0m, in \u001b[0;36msolution\u001b[0;34m(s)\u001b[0m\n\u001b[1;32m      4\u001b[0m cur \u001b[38;5;241m=\u001b[39m \u001b[38;5;241m0\u001b[39m\n\u001b[1;32m      5\u001b[0m \u001b[38;5;28;01mwhile\u001b[39;00m \u001b[38;5;28mlen\u001b[39m(s) \u001b[38;5;241m>\u001b[39m \u001b[38;5;241m1\u001b[39m:\n\u001b[0;32m----> 6\u001b[0m     \u001b[38;5;28;01mwhile\u001b[39;00m \u001b[43ms\u001b[49m\u001b[43m[\u001b[49m\u001b[43mcur\u001b[49m\u001b[43m]\u001b[49m \u001b[38;5;241m==\u001b[39m s[cur\u001b[38;5;241m+\u001b[39m\u001b[38;5;241m1\u001b[39m]:\n\u001b[1;32m      7\u001b[0m         \u001b[38;5;28mprint\u001b[39m(\u001b[38;5;124m'\u001b[39m\u001b[38;5;130;01m\\n\u001b[39;00m\u001b[38;5;124mbefore:\u001b[39m\u001b[38;5;124m'\u001b[39m, s, cur)\n\u001b[1;32m      8\u001b[0m         \u001b[38;5;28;01mif\u001b[39;00m cur \u001b[38;5;241m==\u001b[39m \u001b[38;5;241m0\u001b[39m:\n",
      "\u001b[0;31mIndexError\u001b[0m: list index out of range"
     ]
    }
   ],
   "source": [
    "s = 'baabaa'\n",
    "solution(s)"
   ]
  }
 ],
 "metadata": {
  "kernelspec": {
   "display_name": "Python 3",
   "language": "python",
   "name": "python3"
  },
  "language_info": {
   "codemirror_mode": {
    "name": "ipython",
    "version": 3
   },
   "file_extension": ".py",
   "mimetype": "text/x-python",
   "name": "python",
   "nbconvert_exporter": "python",
   "pygments_lexer": "ipython3",
   "version": "3.10.12"
  }
 },
 "nbformat": 4,
 "nbformat_minor": 5
}
