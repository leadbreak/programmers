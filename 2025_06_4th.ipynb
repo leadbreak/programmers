{
 "cells": [
  {
   "cell_type": "markdown",
   "id": "42d3a160",
   "metadata": {},
   "source": [
    "### [숫자의 표현](https://school.programmers.co.kr/learn/courses/30/lessons/12924)"
   ]
  },
  {
   "cell_type": "code",
   "execution_count": null,
   "id": "53d6711e",
   "metadata": {},
   "outputs": [],
   "source": [
    "def solution(n):\n",
    "    '''\n",
    "    연속된 x개의 숫자들로 n을 나눌 때,\n",
    "    x가 홀수라면 나누어 떨어져야 하고,\n",
    "    x가 짝수라면 x / 2의 값으로 나머지가 나와야 함\n",
    "    '''\n",
    "    \n",
    "    answer = 1 # 자기 자신\n",
    "    for i in range(2, n):\n",
    "        # 1부터 x까지의 연속된 자연수 합이 n보다 크면 종료\n",
    "        if i**2+i > 2*n:\n",
    "            break\n",
    "            \n",
    "        if i % 2 == 1 and n % i == 0:\n",
    "            answer += 1\n",
    "        elif i % 2 == 0 and n % i == i / 2:\n",
    "            answer += 1\n",
    "    \n",
    "    return answer\n",
    "        "
   ]
  }
 ],
 "metadata": {
  "kernelspec": {
   "display_name": "Python 3",
   "language": "python",
   "name": "python3"
  },
  "language_info": {
   "name": "python",
   "version": "3.10.12"
  }
 },
 "nbformat": 4,
 "nbformat_minor": 5
}
