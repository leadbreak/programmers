{
 "cells": [
  {
   "cell_type": "markdown",
   "metadata": {},
   "source": [
    "### [충돌위험 찾기](https://school.programmers.co.kr/learn/courses/30/lessons/340211?language=python3)"
   ]
  },
  {
   "cell_type": "code",
   "execution_count": 1,
   "metadata": {},
   "outputs": [],
   "source": [
    "from collections import defaultdict\n",
    "\n",
    "def solution(points, routes):\n",
    "    answer = 0\n",
    "\n",
    "    startings = {e+1:x for e, x in enumerate(points)}\n",
    "    history = defaultdict(list)\n",
    "\n",
    "    for route in routes:\n",
    "        start, ends = route[0], route[1:]\n",
    "        t = 0\n",
    "        cx, cy = startings[start]\n",
    "        history[(t, cx, cy)].append(1)\n",
    "        for end in ends:\n",
    "            ex, ey = startings[end]\n",
    "            while (cx, cy) != (ex, ey):\n",
    "                t += 1\n",
    "                if cx != ex:\n",
    "                    if cx > ex:\n",
    "                        cx -= 1\n",
    "                    else:\n",
    "                        cx += 1\n",
    "                elif cy != ey:\n",
    "                    if cy > ey:\n",
    "                        cy -= 1\n",
    "                    else:\n",
    "                        cy += 1\n",
    "                history[(t, cx, cy)].append(1)\n",
    "                \n",
    "    for x in history.values():\n",
    "        if len(x) > 1:\n",
    "            answer += 1\n",
    "\n",
    "    return answer\n"
   ]
  },
  {
   "cell_type": "code",
   "execution_count": 2,
   "metadata": {},
   "outputs": [
    {
     "data": {
      "text/plain": [
       "1"
      ]
     },
     "execution_count": 2,
     "metadata": {},
     "output_type": "execute_result"
    }
   ],
   "source": [
    "points, routes = \t[[3, 2], [6, 4], [4, 7], [1, 4]], [[4, 2], [1, 3], [2, 4]]\n",
    "solution(points, routes)"
   ]
  },
  {
   "cell_type": "code",
   "execution_count": 3,
   "metadata": {},
   "outputs": [
    {
     "data": {
      "text/plain": [
       "9"
      ]
     },
     "execution_count": 3,
     "metadata": {},
     "output_type": "execute_result"
    }
   ],
   "source": [
    "points, routes = [[3, 2], [6, 4], [4, 7], [1, 4]], [[4, 2], [1, 3], [4, 2], [4, 3]]\n",
    "solution(points, routes)"
   ]
  },
  {
   "cell_type": "code",
   "execution_count": 4,
   "metadata": {},
   "outputs": [
    {
     "data": {
      "text/plain": [
       "0"
      ]
     },
     "execution_count": 4,
     "metadata": {},
     "output_type": "execute_result"
    }
   ],
   "source": [
    "points, routes = \t[[2, 2], [2, 3], [2, 7], [6, 6], [5, 2]], [[2, 3, 4, 5], [1, 3, 4, 5]]\n",
    "solution(points, routes)"
   ]
  },
  {
   "cell_type": "markdown",
   "metadata": {},
   "source": [
    "### [안전지대](https://school.programmers.co.kr/learn/courses/30/lessons/120866)"
   ]
  },
  {
   "cell_type": "code",
   "execution_count": 5,
   "metadata": {},
   "outputs": [],
   "source": [
    "def solution(board):\n",
    "    n = len(board)\n",
    "    answer = n*n\n",
    "    \n",
    "    bombs = [(x, y) for x, row in enumerate(board) for y, v in enumerate(row) if v == 1]\n",
    "    answer -= len(bombs)\n",
    "    \n",
    "    # 폭발 범위\n",
    "    explosion = [ (-1, -1), (-1,  0), (-1, +1),\n",
    "                  ( 0, -1),           ( 0, +1),\n",
    "                  (+1, -1), (+1,  0), (+1, +1),\n",
    "                   ]\n",
    "    \n",
    "    for x, y in bombs:\n",
    "        for dx, dy in explosion:\n",
    "            nx = min(max(0, x+dx), n-1)\n",
    "            ny = min(max(0, y+dy), n-1)\n",
    "            if board[nx][ny] == 0:\n",
    "                board[nx][ny] = 1\n",
    "                answer -= 1    \n",
    "    \n",
    "    return answer"
   ]
  },
  {
   "cell_type": "code",
   "execution_count": null,
   "metadata": {},
   "outputs": [],
   "source": []
  }
 ],
 "metadata": {
  "kernelspec": {
   "display_name": "Python 3",
   "language": "python",
   "name": "python3"
  },
  "language_info": {
   "codemirror_mode": {
    "name": "ipython",
    "version": 3
   },
   "file_extension": ".py",
   "mimetype": "text/x-python",
   "name": "python",
   "nbconvert_exporter": "python",
   "pygments_lexer": "ipython3",
   "version": "3.10.12"
  }
 },
 "nbformat": 4,
 "nbformat_minor": 2
}
