{
 "cells": [
  {
   "cell_type": "markdown",
   "metadata": {},
   "source": [
    "### [충돌위험 찾기](https://school.programmers.co.kr/learn/courses/30/lessons/340211?language=python3)"
   ]
  },
  {
   "cell_type": "code",
   "execution_count": 72,
   "metadata": {},
   "outputs": [],
   "source": [
    "from collections import defaultdict\n",
    "\n",
    "def solution(points, routes):\n",
    "    answer = 0\n",
    "    \n",
    "    startings = {e+1:x for e, x in enumerate(points)}\n",
    "    history = defaultdict(list)\n",
    "    \n",
    "    for route in routes:\n",
    "        start, ends = route[0], route[1:]\n",
    "        t = 0\n",
    "        cx, cy = startings[start]\n",
    "        history[(t, cx, cy)].append(1)\n",
    "        for end in ends:            \n",
    "            ex, ey = startings[end]            \n",
    "            \n",
    "            while True:\n",
    "                t += 1\n",
    "                \n",
    "                if cx > ex:\n",
    "                    cx -= 1\n",
    "                elif cx < ex :\n",
    "                    cx += 1\n",
    "                elif cy > ey:\n",
    "                    cy -= 1\n",
    "                elif cy < ey:\n",
    "                    cy += 1\n",
    "\n",
    "                history[(t, cx, cy)].append(1)\n",
    "\n",
    "                if (cx, cy) == (ex, ey):\n",
    "                    t += 1\n",
    "                    break\n",
    "    \n",
    "    for x in history.values():\n",
    "        answer += 1 if len(x) > 1 else 0\n",
    "    \n",
    "    return answer"
   ]
  },
  {
   "cell_type": "code",
   "execution_count": 75,
   "metadata": {},
   "outputs": [
    {
     "name": "stdout",
     "output_type": "stream",
     "text": [
      "check\n",
      "check\n",
      "check\n",
      "defaultdict(<class 'list'>, {(0, 1, 4): [1], (1, 2, 4): [1], (2, 3, 4): [1], (3, 4, 4): [1, 1], (4, 5, 4): [1], (5, 6, 4): [1], (0, 3, 2): [1], (1, 4, 2): [1], (2, 4, 3): [1], (4, 4, 5): [1], (5, 4, 6): [1], (6, 4, 7): [1], (0, 6, 4): [1], (1, 5, 4): [1], (2, 4, 4): [1], (3, 3, 4): [1], (4, 2, 4): [1], (5, 1, 4): [1]})\n"
     ]
    },
    {
     "data": {
      "text/plain": [
       "1"
      ]
     },
     "execution_count": 75,
     "metadata": {},
     "output_type": "execute_result"
    }
   ],
   "source": [
    "points, routes = \t[[3, 2], [6, 4], [4, 7], [1, 4]], [[4, 2], [1, 3], [2, 4]]\n",
    "solution(points, routes)"
   ]
  },
  {
   "cell_type": "code",
   "execution_count": 74,
   "metadata": {},
   "outputs": [
    {
     "name": "stdout",
     "output_type": "stream",
     "text": [
      "check\n",
      "check\n",
      "check\n",
      "check\n",
      "defaultdict(<class 'list'>, {(0, 1, 4): [1, 1, 1], (1, 2, 4): [1, 1, 1], (2, 3, 4): [1, 1, 1], (3, 4, 4): [1, 1, 1, 1], (4, 5, 4): [1, 1], (5, 6, 4): [1, 1], (0, 3, 2): [1], (1, 4, 2): [1], (2, 4, 3): [1], (4, 4, 5): [1, 1], (5, 4, 6): [1, 1], (6, 4, 7): [1, 1]})\n"
     ]
    },
    {
     "data": {
      "text/plain": [
       "9"
      ]
     },
     "execution_count": 74,
     "metadata": {},
     "output_type": "execute_result"
    }
   ],
   "source": [
    "points, routes = [[3, 2], [6, 4], [4, 7], [1, 4]], [[4, 2], [1, 3], [4, 2], [4, 3]]\n",
    "solution(points, routes)"
   ]
  },
  {
   "cell_type": "code",
   "execution_count": 73,
   "metadata": {},
   "outputs": [
    {
     "name": "stdout",
     "output_type": "stream",
     "text": [
      "check\n",
      "check\n",
      "check\n",
      "check\n",
      "check\n",
      "check\n",
      "defaultdict(<class 'list'>, {(0, 2, 3): [1], (1, 2, 4): [1], (2, 2, 5): [1], (3, 2, 6): [1], (4, 2, 7): [1], (6, 3, 7): [1], (7, 4, 7): [1], (8, 5, 7): [1], (9, 6, 7): [1], (10, 6, 6): [1], (12, 5, 6): [1], (13, 5, 5): [1], (14, 5, 4): [1], (15, 5, 3): [1], (16, 5, 2): [1], (0, 2, 2): [1], (1, 2, 3): [1], (2, 2, 4): [1], (3, 2, 5): [1], (4, 2, 6): [1], (5, 2, 7): [1], (7, 3, 7): [1], (8, 4, 7): [1], (9, 5, 7): [1], (10, 6, 7): [1], (11, 6, 6): [1], (13, 5, 6): [1], (14, 5, 5): [1], (15, 5, 4): [1], (16, 5, 3): [1], (17, 5, 2): [1]})\n"
     ]
    },
    {
     "data": {
      "text/plain": [
       "0"
      ]
     },
     "execution_count": 73,
     "metadata": {},
     "output_type": "execute_result"
    }
   ],
   "source": [
    "points, routes = \t[[2, 2], [2, 3], [2, 7], [6, 6], [5, 2]], [[2, 3, 4, 5], [1, 3, 4, 5]]\n",
    "solution(points, routes)"
   ]
  },
  {
   "cell_type": "code",
   "execution_count": null,
   "metadata": {},
   "outputs": [],
   "source": []
  }
 ],
 "metadata": {
  "kernelspec": {
   "display_name": "Python 3",
   "language": "python",
   "name": "python3"
  },
  "language_info": {
   "codemirror_mode": {
    "name": "ipython",
    "version": 3
   },
   "file_extension": ".py",
   "mimetype": "text/x-python",
   "name": "python",
   "nbconvert_exporter": "python",
   "pygments_lexer": "ipython3",
   "version": "3.10.12"
  }
 },
 "nbformat": 4,
 "nbformat_minor": 2
}
