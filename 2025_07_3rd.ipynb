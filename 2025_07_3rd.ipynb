{
 "cells": [
  {
   "cell_type": "markdown",
   "id": "dfb0740b",
   "metadata": {},
   "source": [
    "### [스티커모으기(2)](https://school.programmers.co.kr/learn/courses/30/lessons/12971)"
   ]
  },
  {
   "cell_type": "code",
   "execution_count": 10,
   "id": "af94b403",
   "metadata": {},
   "outputs": [],
   "source": [
    "def solution(sticker):\n",
    "    answer = 0\n",
    "    n = len(sticker)\n",
    "    if n <= 3:\n",
    "        return max(sticker)\n",
    "        \n",
    "    def backtrack(idx, score, last):\n",
    "        nonlocal answer\n",
    "        \n",
    "        if idx >= last :\n",
    "            answer = max(score + sticker[idx] if idx == last else score, answer)\n",
    "            return\n",
    "            \n",
    "        # 현재 idx를 선택하는 경우\n",
    "        backtrack(idx+2, score+sticker[idx], last)\n",
    "        # 선택하지 않는 경우\n",
    "        backtrack(idx+1, score, last)\n",
    "        \n",
    "    \n",
    "    backtrack(2, sticker[0], n-2) # 처음 걸 선택하는 경우(마지막 것도 선택 못함)\n",
    "    backtrack(1, 0, n-1)          # 처음 걸 선택하지 않는 경우(마지막 것 선택 가능)\n",
    "    \n",
    "    return answer"
   ]
  },
  {
   "cell_type": "code",
   "execution_count": 11,
   "id": "95aa04ac",
   "metadata": {},
   "outputs": [
    {
     "name": "stdout",
     "output_type": "stream",
     "text": [
      "36\n"
     ]
    }
   ],
   "source": [
    "sticker = [14, 6, 5, 11, 3, 9, 2, 10]\n",
    "print(solution(sticker))"
   ]
  },
  {
   "cell_type": "code",
   "execution_count": null,
   "id": "b33cd137",
   "metadata": {},
   "outputs": [],
   "source": []
  }
 ],
 "metadata": {
  "kernelspec": {
   "display_name": "Python 3",
   "language": "python",
   "name": "python3"
  },
  "language_info": {
   "codemirror_mode": {
    "name": "ipython",
    "version": 3
   },
   "file_extension": ".py",
   "mimetype": "text/x-python",
   "name": "python",
   "nbconvert_exporter": "python",
   "pygments_lexer": "ipython3",
   "version": "3.10.12"
  }
 },
 "nbformat": 4,
 "nbformat_minor": 5
}
