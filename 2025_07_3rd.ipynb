{
 "cells": [
  {
   "cell_type": "markdown",
   "id": "dfb0740b",
   "metadata": {},
   "source": [
    "### [스티커모으기(2)](https://school.programmers.co.kr/learn/courses/30/lessons/12971)"
   ]
  },
  {
   "cell_type": "code",
   "execution_count": 10,
   "id": "af94b403",
   "metadata": {},
   "outputs": [],
   "source": [
    "def solution(sticker):\n",
    "    answer = 0\n",
    "    n = len(sticker)\n",
    "    if n <= 3:\n",
    "        return max(sticker)\n",
    "        \n",
    "    def backtrack(idx, score, last):\n",
    "        nonlocal answer\n",
    "        \n",
    "        if idx >= last :\n",
    "            answer = max(score + sticker[idx] if idx == last else score, answer)\n",
    "            return\n",
    "            \n",
    "        # 현재 idx를 선택하는 경우\n",
    "        backtrack(idx+2, score+sticker[idx], last)\n",
    "        # 선택하지 않는 경우\n",
    "        backtrack(idx+1, score, last)\n",
    "        \n",
    "    \n",
    "    backtrack(2, sticker[0], n-2) # 처음 걸 선택하는 경우(마지막 것도 선택 못함)\n",
    "    backtrack(1, 0, n-1)          # 처음 걸 선택하지 않는 경우(마지막 것 선택 가능)\n",
    "    \n",
    "    return answer"
   ]
  },
  {
   "cell_type": "code",
   "execution_count": 11,
   "id": "95aa04ac",
   "metadata": {},
   "outputs": [
    {
     "name": "stdout",
     "output_type": "stream",
     "text": [
      "36\n"
     ]
    }
   ],
   "source": [
    "sticker = [14, 6, 5, 11, 3, 9, 2, 10]\n",
    "print(solution(sticker))"
   ]
  },
  {
   "cell_type": "markdown",
   "id": "4f6944ce",
   "metadata": {},
   "source": [
    "- 속도가 너무 느림 -> dp로 풀어야할듯?"
   ]
  },
  {
   "cell_type": "code",
   "execution_count": null,
   "id": "b33cd137",
   "metadata": {},
   "outputs": [],
   "source": [
    "def solution(sticker):\n",
    "    n = len(sticker)\n",
    "    if n <= 3:\n",
    "        return max(sticker)\n",
    "\n",
    "    def linear_max(v):\n",
    "        m = len(v)\n",
    "        dp = [0]*m\n",
    "        dp[0] = v[0]\n",
    "        dp[1] = max(v[0], v[1])\n",
    "        for i in range(2, m):\n",
    "            dp[i] = max(dp[i-1], dp[i-2] + v[i])\n",
    "        return dp[-1]\n",
    "\n",
    "    # 첫장 포함 → 마지막 미포함\n",
    "    caseA = linear_max(sticker[:-1])\n",
    "    # 첫장 미포함 → 마지막 포함 가능\n",
    "    caseB = linear_max(sticker[1:])\n",
    "    return max(caseA, caseB)\n"
   ]
  },
  {
   "cell_type": "markdown",
   "id": "90ea7286",
   "metadata": {},
   "source": [
    "### [순위검색](https://school.programmers.co.kr/learn/courses/30/lessons/72412)\n",
    "- 다시 풀기"
   ]
  },
  {
   "cell_type": "code",
   "execution_count": null,
   "id": "fbf46a0c",
   "metadata": {},
   "outputs": [],
   "source": [
    "from collections import defaultdict\n",
    "from itertools import combinations\n",
    "\n",
    "def solution(info, query):\n",
    "    encoded = defaultdict(list)\n",
    "    \n",
    "    # 지원자 정보를 기준으로 모든 패스 가능한 경우의 수 적용\n",
    "    for string in info:\n",
    "        target = string.split(' ')\n",
    "        score = int(target[-1])\n",
    "        origin = target[:-1]\n",
    "        \n",
    "        encoded[\"\".join(origin)].append(score)\n",
    "        for i in range(1, 4+1):\n",
    "            for combo in combinations(range(4), i):\n",
    "                temp = \"\".join(['-' if e in combo else x for e, x in enumerate(origin)])\n",
    "                encoded[temp].append(score)\n",
    "    \n",
    "    # query 파싱해서 key 찾고, 해당 key의 value(socre) 중 기준 이상인 값을 찾기\n",
    "    answer = []    \n",
    "    for q in query:\n",
    "        required = q.replace('and', '').split()\n",
    "        k = ''.join(required[:-1])\n",
    "        v = int(required[-1])\n",
    "        \n",
    "        answer.append(len([x for x in encoded[k] if x >= v]))\n",
    "        \n",
    "    return answer"
   ]
  },
  {
   "cell_type": "markdown",
   "id": "8544a9c1",
   "metadata": {},
   "source": [
    "- 효율성 기준을 달성못해, 이를 해결하기 위해 이분탐색 도입"
   ]
  },
  {
   "cell_type": "code",
   "execution_count": null,
   "id": "97a1f270",
   "metadata": {},
   "outputs": [],
   "source": [
    "from collections import defaultdict\n",
    "from itertools import combinations\n",
    "\n",
    "def solution(info, query):\n",
    "    encoded = defaultdict(list)\n",
    "    \n",
    "    # 지원자 정보를 기준으로 모든 패스 가능한 경우의 수 적용\n",
    "    for string in info:\n",
    "        target = string.split(' ')\n",
    "        score = int(target[-1])\n",
    "        origin = target[:-1]\n",
    "        \n",
    "        encoded[\"\".join(origin)].append(score)\n",
    "        for i in range(1, 4+1):\n",
    "            for combo in combinations(range(4), i):\n",
    "                temp = \"\".join(['-' if e in combo else x for e, x in enumerate(origin)])\n",
    "                encoded[temp].append(score)\n",
    "    \n",
    "    # 이분탐색 위한 정렬\n",
    "    for key in encoded.keys():\n",
    "        encoded[key].sort()\n",
    "    \n",
    "    # query 파싱해서 key 찾고, 해당 key의 value(socre) 중 기준 이상인 값을 이분탐색으로 찾기\n",
    "    answer = []    \n",
    "    for q in query:\n",
    "        required = q.replace('and', '').split()\n",
    "        k = ''.join(required[:-1])\n",
    "        v = int(required[-1])\n",
    "        \n",
    "        scores = encoded[k]\n",
    "        if not scores:\n",
    "            answer.append(0)\n",
    "            continue\n",
    "            \n",
    "        # 이분 탐색\n",
    "        left, right = 0, len(scores)\n",
    "        while left < right:\n",
    "            mid = (left + right) // 2\n",
    "            if scores[mid] >= v: # 중간 지점이 기준보다 큼 -> 왼쪽으로 이동\n",
    "                right = mid\n",
    "            else:                # 중간 지점이 기준보다 작거나 같음 -> 오른쪽으로 이동\n",
    "                left = mid + 1 \n",
    "        answer.append(len(scores) - left)\n",
    "        \n",
    "    return answer"
   ]
  }
 ],
 "metadata": {
  "kernelspec": {
   "display_name": "Python 3",
   "language": "python",
   "name": "python3"
  },
  "language_info": {
   "codemirror_mode": {
    "name": "ipython",
    "version": 3
   },
   "file_extension": ".py",
   "mimetype": "text/x-python",
   "name": "python",
   "nbconvert_exporter": "python",
   "pygments_lexer": "ipython3",
   "version": "3.10.12"
  }
 },
 "nbformat": 4,
 "nbformat_minor": 5
}
