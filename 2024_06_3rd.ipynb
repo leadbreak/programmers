{
 "cells": [
  {
   "cell_type": "markdown",
   "metadata": {},
   "source": [
    "### [가장 큰 정사각형 찾기](https://school.programmers.co.kr/learn/courses/30/lessons/12905)"
   ]
  },
  {
   "cell_type": "code",
   "execution_count": 1,
   "metadata": {},
   "outputs": [],
   "source": [
    "def solution(board):\n",
    "    rows = len(board)\n",
    "    cols = len(board[0])\n",
    "    max_side = 0\n",
    "\n",
    "    # DP 테이블 초기화\n",
    "    dp = [[0] * cols for _ in range(rows)]\n",
    "\n",
    "    # DP 테이블 채우기\n",
    "    for i in range(rows):\n",
    "        for j in range(cols):\n",
    "            if board[i][j] == 1:\n",
    "                if i == 0 or j == 0:\n",
    "                    dp[i][j] = 1\n",
    "                else:\n",
    "                    dp[i][j] = min(dp[i-1][j], dp[i][j-1], dp[i-1][j-1]) + 1\n",
    "                max_side = max(max_side, dp[i][j])\n",
    "                \n",
    "    print(dp)\n",
    "\n",
    "    return max_side ** 2"
   ]
  },
  {
   "cell_type": "code",
   "execution_count": 2,
   "metadata": {},
   "outputs": [
    {
     "name": "stdout",
     "output_type": "stream",
     "text": [
      "[[0, 1, 1, 1], [1, 1, 2, 2], [1, 2, 2, 3], [0, 0, 1, 0]]\n"
     ]
    },
    {
     "data": {
      "text/plain": [
       "9"
      ]
     },
     "execution_count": 2,
     "metadata": {},
     "output_type": "execute_result"
    }
   ],
   "source": [
    "board = [[0,1,1,1],[1,1,1,1],[1,1,1,1],[0,0,1,0]]\n",
    "solution(board)"
   ]
  }
 ],
 "metadata": {
  "kernelspec": {
   "display_name": "Python 3",
   "language": "python",
   "name": "python3"
  },
  "language_info": {
   "codemirror_mode": {
    "name": "ipython",
    "version": 3
   },
   "file_extension": ".py",
   "mimetype": "text/x-python",
   "name": "python",
   "nbconvert_exporter": "python",
   "pygments_lexer": "ipython3",
   "version": "3.10.12"
  }
 },
 "nbformat": 4,
 "nbformat_minor": 2
}
