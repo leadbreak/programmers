{
 "cells": [
  {
   "cell_type": "markdown",
   "metadata": {},
   "source": [
    "### [이모티콘 할인행사](https://school.programmers.co.kr/learn/courses/30/lessons/150368)"
   ]
  },
  {
   "cell_type": "code",
   "execution_count": 20,
   "metadata": {},
   "outputs": [],
   "source": [
    "from itertools import product\n",
    "\n",
    "def solution(users, emoticons):\n",
    "    discounts = [10, 20, 30, 40] # 모든 할인율의 경우의 수\n",
    "    discount_cases = list(product(discounts, repeat=len(emoticons)))\n",
    "    \n",
    "    max_subscriber = 0\n",
    "    max_sales = 0\n",
    "    \n",
    "    emoticons = [int(x*0.01) for x in emoticons] # 이후에 할인율을 곱하는 과정에서 100으로 나누는 것을 사전에 처리\n",
    "    \n",
    "    for case in discount_cases:\n",
    "        subscriber = 0\n",
    "        sales = 0\n",
    "        \n",
    "        for user in users:\n",
    "            user_discount_threshold, user_price_threshold = user\n",
    "            \n",
    "            # 할인율 조합에 대한 소비금액 - 원하는 할인율 이상인 것들만\n",
    "            spend = sum([(100-x)*y for x, y in zip(case, emoticons) if x >= user_discount_threshold])\n",
    "            \n",
    "            # 소비금액이 기준 이상이면 구독\n",
    "            if spend >= user_price_threshold:\n",
    "                subscriber += 1\n",
    "            else :\n",
    "                sales += spend\n",
    "\n",
    "        # 최대값 업데이트\n",
    "        if subscriber > max_subscriber:\n",
    "            max_subscriber = subscriber\n",
    "            max_sales = sales\n",
    "        elif subscriber == max_subscriber and sales > max_sales:\n",
    "            max_sales = sales\n",
    "        \n",
    "    return [max_subscriber, max_sales]"
   ]
  },
  {
   "cell_type": "code",
   "execution_count": 4,
   "metadata": {},
   "outputs": [
    {
     "data": {
      "text/plain": [
       "[5, 12, 21, 32]"
      ]
     },
     "execution_count": 4,
     "metadata": {},
     "output_type": "execute_result"
    }
   ],
   "source": [
    "discount = (1,2,3,4)\n",
    "price = [5,6,7,8]\n",
    "\n",
    "[x*y for x, y in zip(discount, price)]"
   ]
  },
  {
   "cell_type": "code",
   "execution_count": 21,
   "metadata": {},
   "outputs": [
    {
     "name": "stdout",
     "output_type": "stream",
     "text": [
      "\n",
      "case=(10, 10)\n",
      "[]\n",
      "spend=0\n",
      "[]\n",
      "spend=0\n",
      "\n",
      "case=(10, 20)\n",
      "[]\n",
      "spend=0\n",
      "[]\n",
      "spend=0\n",
      "\n",
      "case=(10, 30)\n",
      "[]\n",
      "spend=0\n",
      "[[70, 90]]\n",
      "spend=6300\n",
      "\n",
      "case=(10, 40)\n",
      "[[60, 90]]\n",
      "spend=5400\n",
      "[[60, 90]]\n",
      "spend=5400\n",
      "\n",
      "case=(20, 10)\n",
      "[]\n",
      "spend=0\n",
      "[]\n",
      "spend=0\n",
      "\n",
      "case=(20, 20)\n",
      "[]\n",
      "spend=0\n",
      "[]\n",
      "spend=0\n",
      "\n",
      "case=(20, 30)\n",
      "[]\n",
      "spend=0\n",
      "[[70, 90]]\n",
      "spend=6300\n",
      "\n",
      "case=(20, 40)\n",
      "[[60, 90]]\n",
      "spend=5400\n",
      "[[60, 90]]\n",
      "spend=5400\n",
      "\n",
      "case=(30, 10)\n",
      "[]\n",
      "spend=0\n",
      "[[70, 70]]\n",
      "spend=4900\n",
      "\n",
      "case=(30, 20)\n",
      "[]\n",
      "spend=0\n",
      "[[70, 70]]\n",
      "spend=4900\n",
      "\n",
      "case=(30, 30)\n",
      "[]\n",
      "spend=0\n",
      "[[70, 70], [70, 90]]\n",
      "spend=11200\n",
      "\n",
      "case=(30, 40)\n",
      "[[60, 90]]\n",
      "spend=5400\n",
      "[[70, 70], [60, 90]]\n",
      "spend=10300\n",
      "\n",
      "case=(40, 10)\n",
      "[[60, 70]]\n",
      "spend=4200\n",
      "[[60, 70]]\n",
      "spend=4200\n",
      "\n",
      "case=(40, 20)\n",
      "[[60, 70]]\n",
      "spend=4200\n",
      "[[60, 70]]\n",
      "spend=4200\n",
      "\n",
      "case=(40, 30)\n",
      "[[60, 70]]\n",
      "spend=4200\n",
      "[[60, 70], [70, 90]]\n",
      "spend=10500\n",
      "\n",
      "case=(40, 40)\n",
      "[[60, 70], [60, 90]]\n",
      "spend=9600\n",
      "[[60, 70], [60, 90]]\n",
      "spend=9600\n"
     ]
    },
    {
     "data": {
      "text/plain": [
       "[1, 5400]"
      ]
     },
     "execution_count": 21,
     "metadata": {},
     "output_type": "execute_result"
    }
   ],
   "source": [
    "users = [[40, 10000], [25, 10000]]\n",
    "emoticons = [7000, 9000]\n",
    "solution(users, emoticons)"
   ]
  }
 ],
 "metadata": {
  "kernelspec": {
   "display_name": "Python 3",
   "language": "python",
   "name": "python3"
  },
  "language_info": {
   "codemirror_mode": {
    "name": "ipython",
    "version": 3
   },
   "file_extension": ".py",
   "mimetype": "text/x-python",
   "name": "python",
   "nbconvert_exporter": "python",
   "pygments_lexer": "ipython3",
   "version": "3.10.12"
  }
 },
 "nbformat": 4,
 "nbformat_minor": 2
}
