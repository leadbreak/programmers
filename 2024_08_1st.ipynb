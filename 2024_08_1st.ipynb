{
 "cells": [
  {
   "cell_type": "markdown",
   "metadata": {},
   "source": [
    "### [문자열 압축](https://school.programmers.co.kr/learn/courses/30/lessons/60057)"
   ]
  },
  {
   "cell_type": "code",
   "execution_count": 15,
   "metadata": {},
   "outputs": [],
   "source": [
    "def solution(s):\n",
    "    LEN = len(s)\n",
    "    answer = LEN\n",
    "    for i in range(1, LEN+1):\n",
    "        n_s = ''\n",
    "        string, cnt = s[:i], 1\n",
    "        share = LEN//i\n",
    "        for j in range(1, share+1):\n",
    "            next_string = s[j*i:j*i+i]\n",
    "            if string == next_string:\n",
    "                cnt += 1\n",
    "            else :\n",
    "                n_s += f'{cnt}{string}' if cnt > 1 else f'{string}'\n",
    "                string = next_string\n",
    "                cnt = 1\n",
    "                if j == share:\n",
    "                    n_s += next_string\n",
    "        \n",
    "        n_s += s[j*i+i:]\n",
    "        n_len = len(n_s)\n",
    "        print(f'{i=}, {n_s=}, {n_len=}')\n",
    "        if n_len < answer:\n",
    "            answer = n_len\n",
    "            \n",
    "    return answer"
   ]
  },
  {
   "cell_type": "code",
   "execution_count": 16,
   "metadata": {},
   "outputs": [
    {
     "name": "stdout",
     "output_type": "stream",
     "text": [
      "i=1, n_s='abcabcdede', n_len=10\n",
      "i=2, n_s='abcabc2de', n_len=9\n",
      "i=3, n_s='2abcdede', n_len=8\n",
      "i=4, n_s='abcabcdede', n_len=10\n",
      "i=5, n_s='abcabcdede', n_len=10\n",
      "i=6, n_s='abcabcdede', n_len=10\n",
      "i=7, n_s='abcabcdede', n_len=10\n",
      "i=8, n_s='abcabcdede', n_len=10\n",
      "i=9, n_s='abcabcdede', n_len=10\n",
      "i=10, n_s='abcabcdede', n_len=10\n"
     ]
    },
    {
     "data": {
      "text/plain": [
       "8"
      ]
     },
     "execution_count": 16,
     "metadata": {},
     "output_type": "execute_result"
    }
   ],
   "source": [
    "s = 'abcabcdede'\n",
    "solution(s)"
   ]
  },
  {
   "cell_type": "code",
   "execution_count": null,
   "metadata": {},
   "outputs": [],
   "source": []
  }
 ],
 "metadata": {
  "kernelspec": {
   "display_name": ".venv",
   "language": "python",
   "name": "python3"
  },
  "language_info": {
   "codemirror_mode": {
    "name": "ipython",
    "version": 3
   },
   "file_extension": ".py",
   "mimetype": "text/x-python",
   "name": "python",
   "nbconvert_exporter": "python",
   "pygments_lexer": "ipython3",
   "version": "3.10.12"
  }
 },
 "nbformat": 4,
 "nbformat_minor": 2
}
