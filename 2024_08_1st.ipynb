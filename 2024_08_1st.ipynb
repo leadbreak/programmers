{
 "cells": [
  {
   "cell_type": "markdown",
   "metadata": {},
   "source": [
    "### [이모티콘 할인행사](https://school.programmers.co.kr/learn/courses/30/lessons/150368)"
   ]
  },
  {
   "cell_type": "markdown",
   "metadata": {},
   "source": [
    "- discount 경우의 수(10, 20, 30, 40)가 적기 때문에, 모든 경우의 수를 따져볼만함   \n",
    "  (4^m 정도의 복잡도밖에 되지 않기 때문에)"
   ]
  },
  {
   "cell_type": "code",
   "execution_count": 1,
   "metadata": {},
   "outputs": [],
   "source": [
    "from itertools import product\n",
    "\n",
    "def solution(users, emoticons):\n",
    "    discounts = [10, 20, 30, 40] # 모든 할인율의 경우의 수\n",
    "    discount_cases = list(product(discounts, repeat=len(emoticons)))\n",
    "    \n",
    "    max_subscriber = 0\n",
    "    max_sales = 0\n",
    "    \n",
    "    emoticons = [int(x*0.01) for x in emoticons] # 이후에 할인율을 곱하는 과정에서 100으로 나누는 것을 사전에 처리\n",
    "    \n",
    "    for case in discount_cases:\n",
    "        subscriber = 0\n",
    "        sales = 0\n",
    "        \n",
    "        for user in users:\n",
    "            user_discount_threshold, user_price_threshold = user\n",
    "            \n",
    "            # 할인율 조합에 대한 소비금액 - 원하는 할인율 이상인 것들만\n",
    "            spend = sum([(100-x)*y for x, y in zip(case, emoticons) if x >= user_discount_threshold])\n",
    "            \n",
    "            # 소비금액이 기준 이상이면 구독\n",
    "            if spend >= user_price_threshold:\n",
    "                subscriber += 1\n",
    "            else :\n",
    "                sales += spend\n",
    "\n",
    "        # 최대값 업데이트\n",
    "        if subscriber > max_subscriber:\n",
    "            max_subscriber = subscriber\n",
    "            max_sales = sales\n",
    "        elif subscriber == max_subscriber and sales > max_sales:\n",
    "            max_sales = sales\n",
    "        \n",
    "    return [max_subscriber, max_sales]"
   ]
  },
  {
   "cell_type": "code",
   "execution_count": 2,
   "metadata": {},
   "outputs": [
    {
     "data": {
      "text/plain": [
       "[5, 12, 21, 32]"
      ]
     },
     "execution_count": 2,
     "metadata": {},
     "output_type": "execute_result"
    }
   ],
   "source": [
    "discount = (1,2,3,4)\n",
    "price = [5,6,7,8]\n",
    "\n",
    "[x*y for x, y in zip(discount, price)]"
   ]
  },
  {
   "cell_type": "code",
   "execution_count": 3,
   "metadata": {},
   "outputs": [
    {
     "data": {
      "text/plain": [
       "[1, 5400]"
      ]
     },
     "execution_count": 3,
     "metadata": {},
     "output_type": "execute_result"
    }
   ],
   "source": [
    "users = [[40, 10000], [25, 10000]]\n",
    "emoticons = [7000, 9000]\n",
    "solution(users, emoticons)"
   ]
  },
  {
   "cell_type": "markdown",
   "metadata": {},
   "source": [
    "### [혼자서 하는 틱택토](https://school.programmers.co.kr/learn/courses/30/lessons/160585)"
   ]
  },
  {
   "cell_type": "markdown",
   "metadata": {},
   "source": [
    "- 오류가 발생하는 경우의 수를 사전에 정리해두고, 이에 부합하는 코드를 작성\n",
    "- 아래 코드를 적용했을 경우, 약 다섯 개의 케이스에서 정답이 틀림 -> 빼먹은 케이스 확인"
   ]
  },
  {
   "cell_type": "code",
   "execution_count": 10,
   "metadata": {},
   "outputs": [],
   "source": [
    "def solution(board):\n",
    "    # case 1 : X가 O보다 많은 경우\n",
    "    o_count = sum([x.count('O') for x in board])\n",
    "    x_count = sum([x.count('X') for x in board])\n",
    "    if x_count > o_count:\n",
    "        return 0\n",
    "    \n",
    "    # case 2 : 이미 한쪽이 승리한 상황에서, 게임이 지속된 경우\n",
    "    def is_win(board, target):\n",
    "        all_idx = [(x, y) for x, row in enumerate(board) for y, char in enumerate(row) if char == target]\n",
    "        if len(all_idx) < 3:\n",
    "            return False\n",
    "        \n",
    "        win_patterns = [[(0,0), (0,1), (0,2)],\n",
    "                        [(1,0), (1,1), (1,2)],\n",
    "                        [(2,0), (2,1), (2,2)],\n",
    "                        [(0,0), (1,0), (2,0)],\n",
    "                        [(0,1), (1,1), (2,1)],\n",
    "                        [(0,2), (1,2), (2,2)],\n",
    "                        [(0,0), (1,1), (2,2)],\n",
    "                        [(2,0), (1,1), (0,2)]]\n",
    "        \n",
    "        if any([True for pattern in win_patterns if all([p in all_idx for p in pattern])]):\n",
    "            return True\n",
    "        \n",
    "        return False\n",
    "        \n",
    "    ## X가 승리했는데, O가 X보다 많음\n",
    "    x_win = is_win(board, target='X')\n",
    "    if x_win and o_count > x_count:\n",
    "        return 0\n",
    "    \n",
    "    ## O가 승리했는데, X가 O와 숫자가 같음\n",
    "    o_win = is_win(board, target='O')\n",
    "    if o_win and x_count == o_count:\n",
    "        return 0\n",
    "    \n",
    "    return 1"
   ]
  },
  {
   "cell_type": "code",
   "execution_count": 23,
   "metadata": {},
   "outputs": [],
   "source": [
    "all_idx=[(0, 2), (2, 2), (1,2)]\n",
    "win_patterns = [[(0,0), (0,1), (0,2)],\n",
    "                [(1,0), (1,1), (1,2)],\n",
    "                [(2,0), (2,1), (2,2)],\n",
    "                [(0,0), (1,0), (2,0)],\n",
    "                [(0,1), (1,1), (2,1)],\n",
    "                [(0,2), (1,2), (2,2)],\n",
    "                [(0,0), (1,1), (2,2)],\n",
    "                [(2,0), (1,1), (0,2)]]"
   ]
  },
  {
   "cell_type": "code",
   "execution_count": 25,
   "metadata": {},
   "outputs": [
    {
     "data": {
      "text/plain": [
       "True"
      ]
     },
     "execution_count": 25,
     "metadata": {},
     "output_type": "execute_result"
    }
   ],
   "source": [
    "any([True for pattern in win_patterns if all([p in all_idx for p in pattern])])"
   ]
  },
  {
   "cell_type": "code",
   "execution_count": null,
   "metadata": {},
   "outputs": [],
   "source": [
    "a = [(1,0), (1,1), (0,1)]\n",
    "b = [(1,0), (0,1)]\n",
    "all([x for x in b if x in a])"
   ]
  },
  {
   "cell_type": "code",
   "execution_count": 11,
   "metadata": {},
   "outputs": [
    {
     "name": "stdout",
     "output_type": "stream",
     "text": [
      "all_idx=[(0, 2), (2, 2)]\n"
     ]
    },
    {
     "ename": "TypeError",
     "evalue": "'bool' object is not iterable",
     "output_type": "error",
     "traceback": [
      "\u001b[0;31m---------------------------------------------------------------------------\u001b[0m",
      "\u001b[0;31mTypeError\u001b[0m                                 Traceback (most recent call last)",
      "Cell \u001b[0;32mIn[11], line 2\u001b[0m\n\u001b[1;32m      1\u001b[0m board \u001b[38;5;241m=\u001b[39m [\u001b[38;5;124m\"\u001b[39m\u001b[38;5;124mO.X\u001b[39m\u001b[38;5;124m\"\u001b[39m, \u001b[38;5;124m\"\u001b[39m\u001b[38;5;124m.O.\u001b[39m\u001b[38;5;124m\"\u001b[39m, \u001b[38;5;124m\"\u001b[39m\u001b[38;5;124m..X\u001b[39m\u001b[38;5;124m\"\u001b[39m]\n\u001b[0;32m----> 2\u001b[0m \u001b[43msolution\u001b[49m\u001b[43m(\u001b[49m\u001b[43mboard\u001b[49m\u001b[43m)\u001b[49m\n",
      "Cell \u001b[0;32mIn[10], line 28\u001b[0m, in \u001b[0;36msolution\u001b[0;34m(board)\u001b[0m\n\u001b[1;32m     25\u001b[0m     \u001b[38;5;28;01mreturn\u001b[39;00m \u001b[38;5;28;01mFalse\u001b[39;00m\n\u001b[1;32m     27\u001b[0m \u001b[38;5;66;03m## X가 승리했는데, O가 X보다 많음\u001b[39;00m\n\u001b[0;32m---> 28\u001b[0m x_win \u001b[38;5;241m=\u001b[39m \u001b[43mis_win\u001b[49m\u001b[43m(\u001b[49m\u001b[43mboard\u001b[49m\u001b[43m,\u001b[49m\u001b[43m \u001b[49m\u001b[43mtarget\u001b[49m\u001b[38;5;241;43m=\u001b[39;49m\u001b[38;5;124;43m'\u001b[39;49m\u001b[38;5;124;43mX\u001b[39;49m\u001b[38;5;124;43m'\u001b[39;49m\u001b[43m)\u001b[49m\n\u001b[1;32m     29\u001b[0m \u001b[38;5;28;01mif\u001b[39;00m x_win \u001b[38;5;129;01mand\u001b[39;00m o_count \u001b[38;5;241m>\u001b[39m x_count:\n\u001b[1;32m     30\u001b[0m     \u001b[38;5;28;01mreturn\u001b[39;00m \u001b[38;5;241m0\u001b[39m\n",
      "Cell \u001b[0;32mIn[10], line 22\u001b[0m, in \u001b[0;36msolution.<locals>.is_win\u001b[0;34m(board, target)\u001b[0m\n\u001b[1;32m     20\u001b[0m \u001b[38;5;66;03m# if any([all(p in all_idx) for p in pattern for pattern in win_patterns ]):\u001b[39;00m\n\u001b[1;32m     21\u001b[0m \u001b[38;5;28mprint\u001b[39m(\u001b[38;5;124mf\u001b[39m\u001b[38;5;124m'\u001b[39m\u001b[38;5;132;01m{\u001b[39;00mall_idx\u001b[38;5;132;01m=}\u001b[39;00m\u001b[38;5;124m'\u001b[39m)\n\u001b[0;32m---> 22\u001b[0m \u001b[38;5;28;01mif\u001b[39;00m \u001b[38;5;28many\u001b[39m([\u001b[38;5;28mall\u001b[39m(p \u001b[38;5;129;01min\u001b[39;00m all_idx) \u001b[38;5;28;01mfor\u001b[39;00m pattern \u001b[38;5;129;01min\u001b[39;00m win_patterns \u001b[38;5;28;01mfor\u001b[39;00m p \u001b[38;5;129;01min\u001b[39;00m pattern]):\n\u001b[1;32m     23\u001b[0m     \u001b[38;5;28;01mreturn\u001b[39;00m \u001b[38;5;28;01mTrue\u001b[39;00m\n\u001b[1;32m     25\u001b[0m \u001b[38;5;28;01mreturn\u001b[39;00m \u001b[38;5;28;01mFalse\u001b[39;00m\n",
      "Cell \u001b[0;32mIn[10], line 22\u001b[0m, in \u001b[0;36m<listcomp>\u001b[0;34m(.0)\u001b[0m\n\u001b[1;32m     20\u001b[0m \u001b[38;5;66;03m# if any([all(p in all_idx) for p in pattern for pattern in win_patterns ]):\u001b[39;00m\n\u001b[1;32m     21\u001b[0m \u001b[38;5;28mprint\u001b[39m(\u001b[38;5;124mf\u001b[39m\u001b[38;5;124m'\u001b[39m\u001b[38;5;132;01m{\u001b[39;00mall_idx\u001b[38;5;132;01m=}\u001b[39;00m\u001b[38;5;124m'\u001b[39m)\n\u001b[0;32m---> 22\u001b[0m \u001b[38;5;28;01mif\u001b[39;00m \u001b[38;5;28many\u001b[39m([\u001b[38;5;28;43mall\u001b[39;49m\u001b[43m(\u001b[49m\u001b[43mp\u001b[49m\u001b[43m \u001b[49m\u001b[38;5;129;43;01min\u001b[39;49;00m\u001b[43m \u001b[49m\u001b[43mall_idx\u001b[49m\u001b[43m)\u001b[49m \u001b[38;5;28;01mfor\u001b[39;00m pattern \u001b[38;5;129;01min\u001b[39;00m win_patterns \u001b[38;5;28;01mfor\u001b[39;00m p \u001b[38;5;129;01min\u001b[39;00m pattern]):\n\u001b[1;32m     23\u001b[0m     \u001b[38;5;28;01mreturn\u001b[39;00m \u001b[38;5;28;01mTrue\u001b[39;00m\n\u001b[1;32m     25\u001b[0m \u001b[38;5;28;01mreturn\u001b[39;00m \u001b[38;5;28;01mFalse\u001b[39;00m\n",
      "\u001b[0;31mTypeError\u001b[0m: 'bool' object is not iterable"
     ]
    }
   ],
   "source": [
    "board = [\"O.X\", \".O.\", \"..X\"]\n",
    "solution(board)"
   ]
  }
 ],
 "metadata": {
  "kernelspec": {
   "display_name": "Python 3",
   "language": "python",
   "name": "python3"
  },
  "language_info": {
   "codemirror_mode": {
    "name": "ipython",
    "version": 3
   },
   "file_extension": ".py",
   "mimetype": "text/x-python",
   "name": "python",
   "nbconvert_exporter": "python",
   "pygments_lexer": "ipython3",
   "version": "3.10.12"
  }
 },
 "nbformat": 4,
 "nbformat_minor": 2
}
