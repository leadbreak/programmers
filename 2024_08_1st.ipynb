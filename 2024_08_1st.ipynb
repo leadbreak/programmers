{
 "cells": [
  {
   "cell_type": "markdown",
   "metadata": {},
   "source": [
    "### [이모티콘 할인행사](https://school.programmers.co.kr/learn/courses/30/lessons/150368)"
   ]
  },
  {
   "cell_type": "code",
   "execution_count": 1,
   "metadata": {},
   "outputs": [],
   "source": [
    "def solution(users, emoticons):\n",
    "    from itertools import product\n",
    "    \n",
    "    # 모든 가능한 할인율 조합 생성\n",
    "    discount_rates = [10, 20, 30, 40]\n",
    "    discount_combinations = list(product(discount_rates, repeat=len(emoticons)))\n",
    "    \n",
    "    max_subscribers = 0\n",
    "    max_sales = 0\n",
    "    \n",
    "    # 각 할인율 조합에 대해 계산\n",
    "    for discounts in discount_combinations:\n",
    "        subscribers = 0\n",
    "        sales = 0\n",
    "        \n",
    "        # 각 사용자에 대해\n",
    "        for user in users:\n",
    "            user_discount_threshold, user_price_threshold = user\n",
    "            user_total_spending = 0\n",
    "            \n",
    "            # 각 이모티콘에 대해\n",
    "            for i, price in enumerate(emoticons):\n",
    "                discounted_price = price * (100 - discounts[i]) / 100\n",
    "                if discounts[i] >= user_discount_threshold:\n",
    "                    user_total_spending += discounted_price\n",
    "            \n",
    "            # 이모티콘 플러스 서비스 가입 여부 체크\n",
    "            if user_total_spending >= user_price_threshold:\n",
    "                subscribers += 1\n",
    "            else:\n",
    "                sales += user_total_spending\n",
    "        \n",
    "        # 최적의 결과 업데이트\n",
    "        if subscribers > max_subscribers or (subscribers == max_subscribers and sales > max_sales):\n",
    "            max_subscribers = subscribers\n",
    "            max_sales = sales\n",
    "    \n",
    "    return [max_subscribers, int(max_sales)]"
   ]
  },
  {
   "cell_type": "code",
   "execution_count": 2,
   "metadata": {},
   "outputs": [
    {
     "name": "stdout",
     "output_type": "stream",
     "text": [
      "discount_combinations=[(10, 10), (10, 20), (10, 30), (10, 40), (20, 10), (20, 20), (20, 30), (20, 40), (30, 10), (30, 20), (30, 30), (30, 40), (40, 10), (40, 20), (40, 30), (40, 40)]\n"
     ]
    },
    {
     "data": {
      "text/plain": [
       "[1, 5400]"
      ]
     },
     "execution_count": 2,
     "metadata": {},
     "output_type": "execute_result"
    }
   ],
   "source": [
    "users = [[40, 10000], [25, 10000]]\n",
    "emoticons = [7000, 9000]\n",
    "solution(users, emoticons)"
   ]
  }
 ],
 "metadata": {
  "kernelspec": {
   "display_name": "Python 3",
   "language": "python",
   "name": "python3"
  },
  "language_info": {
   "codemirror_mode": {
    "name": "ipython",
    "version": 3
   },
   "file_extension": ".py",
   "mimetype": "text/x-python",
   "name": "python",
   "nbconvert_exporter": "python",
   "pygments_lexer": "ipython3",
   "version": "3.10.12"
  }
 },
 "nbformat": 4,
 "nbformat_minor": 2
}
