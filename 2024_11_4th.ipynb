{
 "cells": [
  {
   "cell_type": "markdown",
   "metadata": {},
   "source": [
    "### [베스트앨범](https://school.programmers.co.kr/learn/courses/30/lessons/42579)"
   ]
  },
  {
   "cell_type": "code",
   "execution_count": null,
   "metadata": {},
   "outputs": [],
   "source": [
    "from collections import defaultdict\n",
    "\n",
    "def solution(genres, plays):\n",
    "    scores = defaultdict(int)\n",
    "    details = defaultdict(list)\n",
    "    for idx, (genre, play) in enumerate(zip(genres, plays)):\n",
    "        scores[genre] += play\n",
    "        details[genre].append([play, idx])\n",
    "    \n",
    "    scores = sorted([(k,v) for k,v in scores.items()], key=lambda x: x[1], reverse=True)\n",
    "    details = {k: sorted(v, key=lambda x: x[0], reverse=True) for k,v in details.items()}\n",
    "    \n",
    "    answers = []\n",
    "    for k, _ in scores:\n",
    "        for _ in range(2):\n",
    "            try:\n",
    "                play, idx = details[k].pop(0)\n",
    "                answers.append(idx)\n",
    "            except:\n",
    "                continue\n",
    "    return answers"
   ]
  },
  {
   "cell_type": "markdown",
   "metadata": {},
   "source": [
    "- 코드 조금 더 가다듬기"
   ]
  },
  {
   "cell_type": "code",
   "execution_count": 2,
   "metadata": {},
   "outputs": [
    {
     "data": {
      "text/plain": [
       "[[1, 2, 3], [4, 5, 6]]"
      ]
     },
     "execution_count": 2,
     "metadata": {},
     "output_type": "execute_result"
    }
   ],
   "source": [
    "beta = []\n",
    "a = [1,2,3]\n",
    "b = [4,5,6]\n",
    "beta.append(a)\n",
    "beta.append(b)\n",
    "\n",
    "beta"
   ]
  },
  {
   "cell_type": "code",
   "execution_count": 3,
   "metadata": {},
   "outputs": [
    {
     "data": {
      "text/plain": [
       "[1, 2, 3, 4, 5, 6]"
      ]
     },
     "execution_count": 3,
     "metadata": {},
     "output_type": "execute_result"
    }
   ],
   "source": [
    "beta = []\n",
    "a = [1,2,3]\n",
    "b = [4,5,6]\n",
    "beta.extend(a)\n",
    "beta.extend(b)\n",
    "\n",
    "beta"
   ]
  },
  {
   "cell_type": "code",
   "execution_count": null,
   "metadata": {},
   "outputs": [],
   "source": [
    "from collections import defaultdict\n",
    "\n",
    "def solution(genres, plays):\n",
    "    genre_total = defaultdict(int)\n",
    "    genre_songs = defaultdict(list)\n",
    "    \n",
    "    # 각 노래의 장르별 총 재생 횟수와 노래 리스트 저장\n",
    "    for idx, (genre, play) in enumerate(zip(genres, plays)):\n",
    "        genre_total[genre] += play\n",
    "        genre_songs[genre].append((play, idx))\n",
    "    \n",
    "    # 장르를 총 재생 횟수 기준으로 내림차순 정렬\n",
    "    sorted_genres = sorted(genre_total, key=lambda g: genre_total[g], reverse=True)\n",
    "    \n",
    "    # 베스트 앨범에 포함될 노래의 인덱스를 저장할 리스트\n",
    "    best_album = []\n",
    "    \n",
    "    for genre in sorted_genres:\n",
    "        # 각 장르 내에서 재생 횟수 내림차순, 인덱스 오름차순으로 정렬\n",
    "        top_songs = sorted(genre_songs[genre], key=lambda x: (-x[0], x[1]))\n",
    "        # 상위 두 곡의 인덱스를 베스트 앨범에 추가\n",
    "        best_album.extend([idx for _, idx in top_songs[:2]])\n",
    "    \n",
    "    return best_album"
   ]
  },
  {
   "cell_type": "markdown",
   "metadata": {},
   "source": [
    "### [같은 숫자는 싫어](https://school.programmers.co.kr/learn/courses/30/lessons/12906)"
   ]
  },
  {
   "cell_type": "code",
   "execution_count": null,
   "metadata": {},
   "outputs": [],
   "source": [
    "from collections import deque\n",
    "\n",
    "def solution(arr):\n",
    "    arr = deque(arr)\n",
    "    old = arr.popleft()\n",
    "    answer = [old]\n",
    "    while arr:\n",
    "        new = arr.popleft()\n",
    "        if new != old:\n",
    "            answer.append(new)\n",
    "        old = new\n",
    "    return answer"
   ]
  },
  {
   "cell_type": "markdown",
   "metadata": {},
   "source": [
    "### [올바른 괄호](https://school.programmers.co.kr/learn/courses/30/lessons/12909)"
   ]
  },
  {
   "cell_type": "code",
   "execution_count": null,
   "metadata": {},
   "outputs": [],
   "source": [
    "from collections import deque\n",
    "\n",
    "def solution(s):\n",
    "    left, right = 0, 0\n",
    "    string = deque([x for x in s])\n",
    "    while string:\n",
    "        if string.popleft() == '(':\n",
    "            left += 1\n",
    "        else:\n",
    "            right += 1\n",
    "        \n",
    "        if left < right:\n",
    "            return False\n",
    "    \n",
    "    if left == right:\n",
    "        return True\n",
    "    return False"
   ]
  }
 ],
 "metadata": {
  "kernelspec": {
   "display_name": "Python 3",
   "language": "python",
   "name": "python3"
  },
  "language_info": {
   "codemirror_mode": {
    "name": "ipython",
    "version": 3
   },
   "file_extension": ".py",
   "mimetype": "text/x-python",
   "name": "python",
   "nbconvert_exporter": "python",
   "pygments_lexer": "ipython3",
   "version": "3.10.12"
  }
 },
 "nbformat": 4,
 "nbformat_minor": 2
}
