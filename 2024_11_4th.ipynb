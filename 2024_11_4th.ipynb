{
 "cells": [
  {
   "cell_type": "markdown",
   "metadata": {},
   "source": [
    "### [베스트앨범](https://school.programmers.co.kr/learn/courses/30/lessons/42579)"
   ]
  },
  {
   "cell_type": "code",
   "execution_count": null,
   "metadata": {},
   "outputs": [],
   "source": [
    "from collections import defaultdict\n",
    "\n",
    "def solution(genres, plays):\n",
    "    scores = defaultdict(int)\n",
    "    details = defaultdict(list)\n",
    "    for idx, (genre, play) in enumerate(zip(genres, plays)):\n",
    "        scores[genre] += play\n",
    "        details[genre].append([play, idx])\n",
    "    \n",
    "    scores = sorted([(k,v) for k,v in scores.items()], key=lambda x: x[1], reverse=True)\n",
    "    details = {k: sorted(v, key=lambda x: x[0], reverse=True) for k,v in details.items()}\n",
    "    \n",
    "    answers = []\n",
    "    for k, _ in scores:\n",
    "        for _ in range(2):\n",
    "            try:\n",
    "                play, idx = details[k].pop(0)\n",
    "                answers.append(idx)\n",
    "            except:\n",
    "                continue\n",
    "    return answers"
   ]
  }
 ],
 "metadata": {
  "kernelspec": {
   "display_name": "Python 3",
   "language": "python",
   "name": "python3"
  },
  "language_info": {
   "name": "python",
   "version": "3.10.12"
  }
 },
 "nbformat": 4,
 "nbformat_minor": 2
}
