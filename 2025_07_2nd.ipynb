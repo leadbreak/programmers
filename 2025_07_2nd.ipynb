{
 "cells": [
  {
   "cell_type": "markdown",
   "id": "5d9f82a1",
   "metadata": {},
   "source": [
    "### [택배 배달과 수거하기](https://school.programmers.co.kr/learn/courses/30/lessons/150369)\n",
    "- 이전에 풀었던 코드 개선하기"
   ]
  },
  {
   "cell_type": "markdown",
   "id": "f27f6eaf",
   "metadata": {},
   "source": [
    "`before`"
   ]
  },
  {
   "cell_type": "code",
   "execution_count": null,
   "id": "3ede1957",
   "metadata": {},
   "outputs": [],
   "source": [
    "from collections import deque\n",
    "\n",
    "def solution(cap, n, deliveries, pickups):\n",
    "    \n",
    "    deliveries = deque(reversed(deliveries))\n",
    "    pickups = deque(reversed(pickups))\n",
    "    answer = 0\n",
    "    \n",
    "    while deliveries or pickups:\n",
    "        # 맨 마지막 집부터 배달/수거를 고려\n",
    "        while deliveries and deliveries[0] == 0:\n",
    "            deliveries.popleft()\n",
    "        while pickups and pickups[0] == 0:\n",
    "            pickups.popleft()\n",
    "        \n",
    "        if not deliveries and not pickups:\n",
    "            break\n",
    "        \n",
    "        # 가장 먼 거리 계산\n",
    "        distance = max(len(deliveries), len(pickups))\n",
    "        answer += distance * 2\n",
    "        \n",
    "        # 배달 및 수거 처리\n",
    "        cap_deliver = cap\n",
    "        cap_pickup = cap\n",
    "        \n",
    "        while deliveries and cap_deliver > 0:\n",
    "            if deliveries[0] <= cap_deliver:\n",
    "                cap_deliver -= deliveries.popleft()\n",
    "            else:\n",
    "                deliveries[0] -= cap_deliver\n",
    "                cap_deliver = 0\n",
    "        \n",
    "        while pickups and cap_pickup > 0:\n",
    "            if pickups[0] <= cap_pickup:\n",
    "                cap_pickup -= pickups.popleft()\n",
    "            else:\n",
    "                pickups[0] -= cap_pickup\n",
    "                cap_pickup = 0\n",
    "        \n",
    "    return answer\n"
   ]
  },
  {
   "cell_type": "markdown",
   "id": "3bc9e7bf",
   "metadata": {},
   "source": [
    "`new`"
   ]
  },
  {
   "cell_type": "code",
   "execution_count": null,
   "id": "e67016b0",
   "metadata": {},
   "outputs": [],
   "source": [
    "def solution(cap, n, deliveries, pickups):\n",
    "    distance = 0\n",
    "    d_remain = 0\n",
    "    p_remain = 0\n",
    "    \n",
    "    # 이전의 모든 집을 거쳐가는 마지막 집부터 거꾸로 진행\n",
    "    for i in reversed(range(n)):\n",
    "        d_remain += deliveries[i]\n",
    "        p_remain += pickups[i]\n",
    "        \n",
    "        while d_remain > 0 or p_remain > 0:\n",
    "            d_remain -= cap\n",
    "            p_remain -= cap\n",
    "            distance += (i+1) * 2\n",
    "    return distance"
   ]
  },
  {
   "cell_type": "markdown",
   "id": "5126e296",
   "metadata": {},
   "source": [
    "### [양궁대회](https://school.programmers.co.kr/learn/courses/30/lessons/92342)\n",
    "- 다시 풀기"
   ]
  },
  {
   "cell_type": "markdown",
   "id": "e090d320",
   "metadata": {},
   "source": [
    "`before`"
   ]
  },
  {
   "cell_type": "code",
   "execution_count": 1,
   "id": "fe4aadea",
   "metadata": {},
   "outputs": [],
   "source": [
    "from itertools import combinations_with_replacement\n",
    "\n",
    "def solution(n, info):\n",
    "    max_gap = float('-inf')\n",
    "    answer = [-1]\n",
    "    \n",
    "    for scores in combinations_with_replacement(range(11), n):\n",
    "        ryan_info = [0] * 11\n",
    "        for score in scores:\n",
    "            ryan_info[10 - score] += 1\n",
    "        \n",
    "        ryan_score, appeach_score = 0, 0\n",
    "        for i in range(11):\n",
    "            if ryan_info[i] > info[i]:\n",
    "                ryan_score += 10 - i\n",
    "            elif info[i] > 0:\n",
    "                appeach_score += 10 - i\n",
    "        \n",
    "        gap = ryan_score - appeach_score\n",
    "        \n",
    "        if gap > 0:\n",
    "            if gap > max_gap:\n",
    "                max_gap = gap\n",
    "                answer = ryan_info\n",
    "            elif gap == max_gap:\n",
    "                # 더 낮은 점수를 많이 맞힌 경우가 우선이므로, 새로운 answer가 더 낮은 점수를 많이 맞히는지 확인\n",
    "                for i in range(10, -1, -1):\n",
    "                    if ryan_info[i] > answer[i]:\n",
    "                        answer = ryan_info\n",
    "                        break\n",
    "                    elif ryan_info[i] < answer[i]:\n",
    "                        break\n",
    "    \n",
    "    return answer\n"
   ]
  },
  {
   "cell_type": "markdown",
   "id": "294b3fb6",
   "metadata": {},
   "source": [
    "`after`"
   ]
  },
  {
   "cell_type": "code",
   "execution_count": 9,
   "id": "bfdb82b5",
   "metadata": {},
   "outputs": [],
   "source": [
    "def solution(n, info):\n",
    "    max_gap = -1\n",
    "    answer = [-1]\n",
    "    \n",
    "    def backtrack(idx, arrows_left, ryan_info, ryan_score, apeach_score):\n",
    "        nonlocal max_gap, answer\n",
    "        \n",
    "        # 모든 점수를 확인했을 때\n",
    "        if idx == 11:\n",
    "            # 남은 화살은 0점에 모두 배치\n",
    "            ryan_info[10] = arrows_left\n",
    "            gap = ryan_score - apeach_score\n",
    "            \n",
    "            if gap > 0:\n",
    "                if gap > max_gap:\n",
    "                    max_gap = gap\n",
    "                    answer = ryan_info[:]\n",
    "                elif gap == max_gap:\n",
    "                    # 낮은 점수부터 비교\n",
    "                    for i in range(10, -1, -1):\n",
    "                        if ryan_info[i] > answer[i]:\n",
    "                            answer = ryan_info[:]\n",
    "                            break\n",
    "                        elif ryan_info[i] < answer[i]:\n",
    "                            break\n",
    "            return\n",
    "        \n",
    "        # 현재 점수를 포기하는 경우\n",
    "        if info[idx] > 0:\n",
    "            backtrack(idx + 1, arrows_left, ryan_info, \n",
    "                     ryan_score, apeach_score + (10 - idx))\n",
    "        else:\n",
    "            backtrack(idx + 1, arrows_left, ryan_info, \n",
    "                     ryan_score, apeach_score)\n",
    "        \n",
    "        # 현재 점수를 가져가는 경우 (어피치보다 1발 더 쏴야 함)\n",
    "        arrows_needed = info[idx] + 1\n",
    "        if arrows_needed <= arrows_left:\n",
    "            ryan_info[idx] = arrows_needed\n",
    "            backtrack(idx + 1, arrows_left - arrows_needed, ryan_info,\n",
    "                     ryan_score + (10 - idx), apeach_score)\n",
    "            ryan_info[idx] = 0\n",
    "    \n",
    "    backtrack(0, n, [0] * 11, 0, 0)\n",
    "    return answer"
   ]
  }
 ],
 "metadata": {
  "kernelspec": {
   "display_name": "Python 3",
   "language": "python",
   "name": "python3"
  },
  "language_info": {
   "codemirror_mode": {
    "name": "ipython",
    "version": 3
   },
   "file_extension": ".py",
   "mimetype": "text/x-python",
   "name": "python",
   "nbconvert_exporter": "python",
   "pygments_lexer": "ipython3",
   "version": "3.10.12"
  }
 },
 "nbformat": 4,
 "nbformat_minor": 5
}
