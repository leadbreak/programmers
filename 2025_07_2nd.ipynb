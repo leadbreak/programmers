{
 "cells": [
  {
   "cell_type": "markdown",
   "id": "5d9f82a1",
   "metadata": {},
   "source": [
    "### [택배 배달과 수거하기](https://school.programmers.co.kr/learn/courses/30/lessons/150369)\n",
    "- 이전에 풀었던 코드 개선하기"
   ]
  },
  {
   "cell_type": "markdown",
   "id": "f27f6eaf",
   "metadata": {},
   "source": [
    "`before`"
   ]
  },
  {
   "cell_type": "code",
   "execution_count": null,
   "id": "3ede1957",
   "metadata": {},
   "outputs": [],
   "source": [
    "from collections import deque\n",
    "\n",
    "def solution(cap, n, deliveries, pickups):\n",
    "    \n",
    "    deliveries = deque(reversed(deliveries))\n",
    "    pickups = deque(reversed(pickups))\n",
    "    answer = 0\n",
    "    \n",
    "    while deliveries or pickups:\n",
    "        # 맨 마지막 집부터 배달/수거를 고려\n",
    "        while deliveries and deliveries[0] == 0:\n",
    "            deliveries.popleft()\n",
    "        while pickups and pickups[0] == 0:\n",
    "            pickups.popleft()\n",
    "        \n",
    "        if not deliveries and not pickups:\n",
    "            break\n",
    "        \n",
    "        # 가장 먼 거리 계산\n",
    "        distance = max(len(deliveries), len(pickups))\n",
    "        answer += distance * 2\n",
    "        \n",
    "        # 배달 및 수거 처리\n",
    "        cap_deliver = cap\n",
    "        cap_pickup = cap\n",
    "        \n",
    "        while deliveries and cap_deliver > 0:\n",
    "            if deliveries[0] <= cap_deliver:\n",
    "                cap_deliver -= deliveries.popleft()\n",
    "            else:\n",
    "                deliveries[0] -= cap_deliver\n",
    "                cap_deliver = 0\n",
    "        \n",
    "        while pickups and cap_pickup > 0:\n",
    "            if pickups[0] <= cap_pickup:\n",
    "                cap_pickup -= pickups.popleft()\n",
    "            else:\n",
    "                pickups[0] -= cap_pickup\n",
    "                cap_pickup = 0\n",
    "        \n",
    "    return answer\n"
   ]
  },
  {
   "cell_type": "markdown",
   "id": "3bc9e7bf",
   "metadata": {},
   "source": [
    "`new`"
   ]
  },
  {
   "cell_type": "code",
   "execution_count": null,
   "id": "e67016b0",
   "metadata": {},
   "outputs": [],
   "source": [
    "def solution(cap, n, deliveries, pickups):\n",
    "    distance = 0\n",
    "    d_remain = 0\n",
    "    p_remain = 0\n",
    "    \n",
    "    # 이전의 모든 집을 거쳐가는 마지막 집부터 거꾸로 진행\n",
    "    for i in reversed(range(n)):\n",
    "        d_remain += deliveries[i]\n",
    "        p_remain += pickups[i]\n",
    "        \n",
    "        while d_remain > 0 or p_remain > 0:\n",
    "            d_remain -= cap\n",
    "            p_remain -= cap\n",
    "            distance += (i+1) * 2\n",
    "    return distance"
   ]
  }
 ],
 "metadata": {
  "kernelspec": {
   "display_name": "Python 3",
   "language": "python",
   "name": "python3"
  },
  "language_info": {
   "name": "python",
   "version": "3.10.12"
  }
 },
 "nbformat": 4,
 "nbformat_minor": 5
}
