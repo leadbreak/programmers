{
 "cells": [
  {
   "cell_type": "markdown",
   "metadata": {},
   "source": [
    "### [조이스틱](https://school.programmers.co.kr/learn/courses/30/lessons/42860)"
   ]
  },
  {
   "cell_type": "code",
   "execution_count": null,
   "metadata": {},
   "outputs": [],
   "source": [
    "def solution(name):\n",
    "    n = len(name)\n",
    "    min_move = n - 1  # 최소 이동 횟수는 우선 오른쪽으로만 가는 경우로 초기화\n",
    "\n",
    "    # 알파벳을 맞추기 위한 조작 횟수 계산\n",
    "    answer = 0\n",
    "    for i in range(n):\n",
    "        # 조이스틱 상하 이동 횟수 계산 (A에서 얼마나 떨어져 있는지)\n",
    "        answer += min(ord(name[i]) - ord('A'), ord('Z') - ord(name[i]) + 1)\n",
    "\n",
    "        # 좌우 이동 횟수 계산\n",
    "        next_index = i + 1\n",
    "        while next_index < n and name[next_index] == 'A':\n",
    "            next_index += 1\n",
    "\n",
    "        # 현재 위치에서 뒤로 돌아가는 경우와 비교\n",
    "        min_move = min(min_move, i + n - next_index + min(i, n - next_index))\n",
    "\n",
    "    answer += min_move\n",
    "    return answer\n"
   ]
  }
 ],
 "metadata": {
  "language_info": {
   "name": "python"
  }
 },
 "nbformat": 4,
 "nbformat_minor": 2
}
