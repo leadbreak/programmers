{
 "cells": [
  {
   "cell_type": "markdown",
   "metadata": {},
   "source": [
    "### [3차] 파일명 정렬(https://school.programmers.co.kr/learn/courses/30/lessons/17686)"
   ]
  },
  {
   "cell_type": "code",
   "execution_count": 6,
   "metadata": {},
   "outputs": [],
   "source": [
    "def solution(files):\n",
    "    heads, numbers, tails = {}, {}, {}\n",
    "    for idx, file in enumerate(files):\n",
    "        head, number, tail = '', '', ''\n",
    "        num_cnt = False\n",
    "        for t in file:\n",
    "            try : \n",
    "                int(t)\n",
    "                if not num_cnt:\n",
    "                    number += t\n",
    "                else :\n",
    "                    tail += t\n",
    "            except : \n",
    "                if not number:\n",
    "                    head += t\n",
    "                else :\n",
    "                    num_cnt = True\n",
    "                    tail += t\n",
    "        \n",
    "        heads[idx] = head\n",
    "        numbers[idx] = number\n",
    "        tails[idx] = tail\n",
    "    "
   ]
  },
  {
   "cell_type": "code",
   "execution_count": 45,
   "metadata": {},
   "outputs": [],
   "source": [
    "def solution(files):\n",
    "    names = []\n",
    "    for idx, file in enumerate(files):\n",
    "        head, number, tail = '', '', ''\n",
    "        num_cnt = False\n",
    "        for t in file:\n",
    "            try : \n",
    "                int(t)\n",
    "                if not num_cnt:\n",
    "                    number += t\n",
    "                else :\n",
    "                    tail += t\n",
    "            except : \n",
    "                if not number:\n",
    "                    head += t\n",
    "                else :\n",
    "                    num_cnt = True\n",
    "                    tail += t\n",
    "        \n",
    "        names.append([head, number, tail, idx])\n",
    "    \n",
    "    names = sorted(names, key=lambda x: (x[0], int(x[1]), -int(x[3])))\n",
    "    print(names)\n",
    "    "
   ]
  },
  {
   "cell_type": "code",
   "execution_count": 46,
   "metadata": {},
   "outputs": [
    {
     "name": "stdout",
     "output_type": "stream",
     "text": [
      "[['IMG', '01', '.GIF', 4], ['img', '1', '.png', 3], ['img', '2', '.JPG', 5], ['img', '02', '.png', 2], ['img', '10', '.png', 1], ['img', '12', '.png', 0]]\n"
     ]
    }
   ],
   "source": [
    "files = [\"img12.png\", \"img10.png\", \"img02.png\", \"img1.png\", \"IMG01.GIF\", \"img2.JPG\"]\n",
    "solution(files)"
   ]
  },
  {
   "cell_type": "code",
   "execution_count": 53,
   "metadata": {},
   "outputs": [],
   "source": [
    "def solution(files):\n",
    "    names = []\n",
    "    for idx, file in enumerate(files):\n",
    "        head, number, tail = '', '', ''\n",
    "        num_cnt = False\n",
    "        for t in file:\n",
    "            try : \n",
    "                int(t)\n",
    "                if not num_cnt:\n",
    "                    number += t\n",
    "                else :\n",
    "                    tail += t\n",
    "            except : \n",
    "                if not number:\n",
    "                    head += t\n",
    "                else :\n",
    "                    num_cnt = True\n",
    "                    tail += t\n",
    "        \n",
    "        names.append([head, number, tail, idx])\n",
    "    \n",
    "    names = sorted(names, key=lambda x: (x[0].lower(), int(x[1]), int(x[3])))\n",
    "    answer = [x1+x2+x3 for x1, x2, x3, _ in names]\n",
    "    print(answer)"
   ]
  },
  {
   "cell_type": "code",
   "execution_count": 54,
   "metadata": {},
   "outputs": [
    {
     "name": "stdout",
     "output_type": "stream",
     "text": [
      "['img1.png', 'IMG01.GIF', 'img02.png', 'img2.JPG', 'img10.png', 'img12.png']\n"
     ]
    }
   ],
   "source": [
    "files = [\"img12.png\", \"img10.png\", \"img02.png\", \"img1.png\", \"IMG01.GIF\", \"img2.JPG\"]\n",
    "solution(files)"
   ]
  },
  {
   "cell_type": "code",
   "execution_count": 22,
   "metadata": {},
   "outputs": [
    {
     "name": "stdout",
     "output_type": "stream",
     "text": [
      "[['A-', '10', ' Thunderbolt II', 2], ['B-', '50', ' Superfortress', 1], ['F-', '5', ' Freedom Fighter', 0], ['F-', '14', ' Tomcat', 3]]\n"
     ]
    }
   ],
   "source": [
    "files = [\"F-5 Freedom Fighter\", \"B-50 Superfortress\", \"A-10 Thunderbolt II\", \"F-14 Tomcat\"]\n",
    "solution(files)"
   ]
  },
  {
   "cell_type": "markdown",
   "metadata": {},
   "source": [
    "### [숫자 변환하기](https://school.programmers.co.kr/learn/courses/30/lessons/154538)"
   ]
  },
  {
   "cell_type": "code",
   "execution_count": 26,
   "metadata": {},
   "outputs": [],
   "source": [
    "def solution(x, y, n):\n",
    "    answer = float('inf')\n",
    "    cnt = 0\n",
    "    while True:        \n",
    "        if y == x:\n",
    "            return cnt\n",
    "        elif y == x+n:\n",
    "            return cnt + 1\n",
    "        \n",
    "        if y % 2 == 0:\n",
    "            y /= 2\n",
    "            cnt += 1\n",
    "        elif y % 3 == 0:\n",
    "            y /= 3\n",
    "            cnt += 1\n",
    "        else:\n",
    "            y = int(y)\n",
    "            break\n",
    "    cur = (x, cnt) # 현재 x의 값, 연산횟수\n",
    "    stack = [cur]\n",
    "    visited = {}\n",
    "    while stack:\n",
    "        print(answer, stack, y)\n",
    "        cur, cnt = stack.pop()\n",
    "        cnt += 1\n",
    "        \n",
    "        if not visited[cur]:\n",
    "            visited[cur] = cnt\n",
    "        \n",
    "        if cnt < answer and cnt <= visited[cur]:\n",
    "            for i in range(3):\n",
    "                if i == 0:\n",
    "                    cur += n\n",
    "                elif i == 1:\n",
    "                    cur *= 2\n",
    "                elif i == 2:\n",
    "                    cur *= 3\n",
    "                \n",
    "                visited[cur] = cnt                                    \n",
    "                    \n",
    "                if cur == y:\n",
    "                    answer = cnt\n",
    "                elif cur < y:\n",
    "                    stack.append((cur, cnt))\n",
    "    return answer if answer != float('inf') else -1"
   ]
  },
  {
   "cell_type": "code",
   "execution_count": 27,
   "metadata": {},
   "outputs": [
    {
     "name": "stdout",
     "output_type": "stream",
     "text": [
      "inf [(10, 4)] 25\n"
     ]
    },
    {
     "ename": "KeyError",
     "evalue": "10",
     "output_type": "error",
     "traceback": [
      "\u001b[0;31m---------------------------------------------------------------------------\u001b[0m",
      "\u001b[0;31mKeyError\u001b[0m                                  Traceback (most recent call last)",
      "Cell \u001b[0;32mIn[27], line 4\u001b[0m\n\u001b[1;32m      2\u001b[0m y \u001b[38;5;241m=\u001b[39m \u001b[38;5;241m400\u001b[39m\n\u001b[1;32m      3\u001b[0m n \u001b[38;5;241m=\u001b[39m \u001b[38;5;241m5\u001b[39m\n\u001b[0;32m----> 4\u001b[0m \u001b[43msolution\u001b[49m\u001b[43m(\u001b[49m\u001b[43mx\u001b[49m\u001b[43m,\u001b[49m\u001b[43m \u001b[49m\u001b[43my\u001b[49m\u001b[43m,\u001b[49m\u001b[43m \u001b[49m\u001b[43mn\u001b[49m\u001b[43m)\u001b[49m\n",
      "Cell \u001b[0;32mIn[26], line 27\u001b[0m, in \u001b[0;36msolution\u001b[0;34m(x, y, n)\u001b[0m\n\u001b[1;32m     24\u001b[0m cur, cnt \u001b[38;5;241m=\u001b[39m stack\u001b[38;5;241m.\u001b[39mpop()\n\u001b[1;32m     25\u001b[0m cnt \u001b[38;5;241m+\u001b[39m\u001b[38;5;241m=\u001b[39m \u001b[38;5;241m1\u001b[39m\n\u001b[0;32m---> 27\u001b[0m \u001b[38;5;28;01mif\u001b[39;00m \u001b[38;5;129;01mnot\u001b[39;00m \u001b[43mvisited\u001b[49m\u001b[43m[\u001b[49m\u001b[43mcur\u001b[49m\u001b[43m]\u001b[49m:\n\u001b[1;32m     28\u001b[0m     visited[cur] \u001b[38;5;241m=\u001b[39m cnt\n\u001b[1;32m     30\u001b[0m \u001b[38;5;28;01mif\u001b[39;00m cnt \u001b[38;5;241m<\u001b[39m answer \u001b[38;5;129;01mand\u001b[39;00m cnt \u001b[38;5;241m<\u001b[39m\u001b[38;5;241m=\u001b[39m visited[cur]:\n",
      "\u001b[0;31mKeyError\u001b[0m: 10"
     ]
    }
   ],
   "source": [
    "x = 10\n",
    "y = 400\n",
    "n = 5\n",
    "solution(x, y, n)"
   ]
  },
  {
   "cell_type": "code",
   "execution_count": 10,
   "metadata": {},
   "outputs": [
    {
     "data": {
      "text/plain": [
       "-1"
      ]
     },
     "execution_count": 10,
     "metadata": {},
     "output_type": "execute_result"
    }
   ],
   "source": [
    "x = 2\n",
    "y = 5\n",
    "n = 4\n",
    "solution(x, y, n)"
   ]
  },
  {
   "cell_type": "code",
   "execution_count": null,
   "metadata": {},
   "outputs": [],
   "source": []
  }
 ],
 "metadata": {
  "kernelspec": {
   "display_name": "Python 3",
   "language": "python",
   "name": "python3"
  },
  "language_info": {
   "codemirror_mode": {
    "name": "ipython",
    "version": 3
   },
   "file_extension": ".py",
   "mimetype": "text/x-python",
   "name": "python",
   "nbconvert_exporter": "python",
   "pygments_lexer": "ipython3",
   "version": "3.10.12"
  }
 },
 "nbformat": 4,
 "nbformat_minor": 2
}
