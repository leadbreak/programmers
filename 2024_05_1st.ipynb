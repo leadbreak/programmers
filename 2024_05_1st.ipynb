{
 "cells": [
  {
   "cell_type": "markdown",
   "metadata": {},
   "source": [
    "### [3차] 파일명 정렬(https://school.programmers.co.kr/learn/courses/30/lessons/17686)"
   ]
  },
  {
   "cell_type": "code",
   "execution_count": 6,
   "metadata": {},
   "outputs": [],
   "source": [
    "def solution(files):\n",
    "    heads, numbers, tails = {}, {}, {}\n",
    "    for idx, file in enumerate(files):\n",
    "        head, number, tail = '', '', ''\n",
    "        num_cnt = False\n",
    "        for t in file:\n",
    "            try : \n",
    "                int(t)\n",
    "                if not num_cnt:\n",
    "                    number += t\n",
    "                else :\n",
    "                    tail += t\n",
    "            except : \n",
    "                if not number:\n",
    "                    head += t\n",
    "                else :\n",
    "                    num_cnt = True\n",
    "                    tail += t\n",
    "        \n",
    "        heads[idx] = head\n",
    "        numbers[idx] = number\n",
    "        tails[idx] = tail\n",
    "    "
   ]
  },
  {
   "cell_type": "code",
   "execution_count": 45,
   "metadata": {},
   "outputs": [],
   "source": [
    "def solution(files):\n",
    "    names = []\n",
    "    for idx, file in enumerate(files):\n",
    "        head, number, tail = '', '', ''\n",
    "        num_cnt = False\n",
    "        for t in file:\n",
    "            try : \n",
    "                int(t)\n",
    "                if not num_cnt:\n",
    "                    number += t\n",
    "                else :\n",
    "                    tail += t\n",
    "            except : \n",
    "                if not number:\n",
    "                    head += t\n",
    "                else :\n",
    "                    num_cnt = True\n",
    "                    tail += t\n",
    "        \n",
    "        names.append([head, number, tail, idx])\n",
    "    \n",
    "    names = sorted(names, key=lambda x: (x[0], int(x[1]), -int(x[3])))\n",
    "    print(names)\n",
    "    "
   ]
  },
  {
   "cell_type": "code",
   "execution_count": 46,
   "metadata": {},
   "outputs": [
    {
     "name": "stdout",
     "output_type": "stream",
     "text": [
      "[['IMG', '01', '.GIF', 4], ['img', '1', '.png', 3], ['img', '2', '.JPG', 5], ['img', '02', '.png', 2], ['img', '10', '.png', 1], ['img', '12', '.png', 0]]\n"
     ]
    }
   ],
   "source": [
    "files = [\"img12.png\", \"img10.png\", \"img02.png\", \"img1.png\", \"IMG01.GIF\", \"img2.JPG\"]\n",
    "solution(files)"
   ]
  },
  {
   "cell_type": "code",
   "execution_count": 53,
   "metadata": {},
   "outputs": [],
   "source": [
    "def solution(files):\n",
    "    names = []\n",
    "    for idx, file in enumerate(files):\n",
    "        head, number, tail = '', '', ''\n",
    "        num_cnt = False\n",
    "        for t in file:\n",
    "            try : \n",
    "                int(t)\n",
    "                if not num_cnt:\n",
    "                    number += t\n",
    "                else :\n",
    "                    tail += t\n",
    "            except : \n",
    "                if not number:\n",
    "                    head += t\n",
    "                else :\n",
    "                    num_cnt = True\n",
    "                    tail += t\n",
    "        \n",
    "        names.append([head, number, tail, idx])\n",
    "    \n",
    "    names = sorted(names, key=lambda x: (x[0].lower(), int(x[1]), int(x[3])))\n",
    "    answer = [x1+x2+x3 for x1, x2, x3, _ in names]\n",
    "    print(answer)"
   ]
  },
  {
   "cell_type": "code",
   "execution_count": 54,
   "metadata": {},
   "outputs": [
    {
     "name": "stdout",
     "output_type": "stream",
     "text": [
      "['img1.png', 'IMG01.GIF', 'img02.png', 'img2.JPG', 'img10.png', 'img12.png']\n"
     ]
    }
   ],
   "source": [
    "files = [\"img12.png\", \"img10.png\", \"img02.png\", \"img1.png\", \"IMG01.GIF\", \"img2.JPG\"]\n",
    "solution(files)"
   ]
  },
  {
   "cell_type": "code",
   "execution_count": 22,
   "metadata": {},
   "outputs": [
    {
     "name": "stdout",
     "output_type": "stream",
     "text": [
      "[['A-', '10', ' Thunderbolt II', 2], ['B-', '50', ' Superfortress', 1], ['F-', '5', ' Freedom Fighter', 0], ['F-', '14', ' Tomcat', 3]]\n"
     ]
    }
   ],
   "source": [
    "files = [\"F-5 Freedom Fighter\", \"B-50 Superfortress\", \"A-10 Thunderbolt II\", \"F-14 Tomcat\"]\n",
    "solution(files)"
   ]
  },
  {
   "cell_type": "code",
   "execution_count": null,
   "metadata": {},
   "outputs": [],
   "source": []
  }
 ],
 "metadata": {
  "kernelspec": {
   "display_name": "Python 3",
   "language": "python",
   "name": "python3"
  },
  "language_info": {
   "codemirror_mode": {
    "name": "ipython",
    "version": 3
   },
   "file_extension": ".py",
   "mimetype": "text/x-python",
   "name": "python",
   "nbconvert_exporter": "python",
   "pygments_lexer": "ipython3",
   "version": "3.10.12"
  }
 },
 "nbformat": 4,
 "nbformat_minor": 2
}
