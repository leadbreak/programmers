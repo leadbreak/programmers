{
 "cells": [
  {
   "cell_type": "markdown",
   "metadata": {},
   "source": [
    "### [소수 만들기](https://school.programmers.co.kr/learn/courses/30/lessons/12977?language=python3)"
   ]
  },
  {
   "cell_type": "code",
   "execution_count": null,
   "metadata": {},
   "outputs": [],
   "source": [
    "from itertools import combinations\n",
    "\n",
    "def is_prime(number):\n",
    "    if number <= 1:\n",
    "        return False\n",
    "    for i in range(2, int(number**0.5) + 1):\n",
    "        if number % i == 0:\n",
    "            return False\n",
    "    return True\n",
    "\n",
    "def solution(nums):\n",
    "    answer = 0\n",
    "    for a, b, c in combinations(nums, 3):\n",
    "        if is_prime(a+b+c):\n",
    "            answer += 1\n",
    "    return answer"
   ]
  },
  {
   "cell_type": "markdown",
   "metadata": {},
   "source": [
    "### [소수 찾기](https://school.programmers.co.kr/learn/courses/30/lessons/12921)"
   ]
  },
  {
   "cell_type": "code",
   "execution_count": null,
   "metadata": {},
   "outputs": [],
   "source": [
    "def is_prime(number):\n",
    "    if number <= 1:\n",
    "        return False\n",
    "    for i in range(2, int(number**0.5) + 1):\n",
    "        if number % i == 0:\n",
    "            return False\n",
    "    return True\n",
    "\n",
    "def solution(n):\n",
    "    return len([x for x in range(1, n+1) if is_prime(x)])"
   ]
  },
  {
   "cell_type": "markdown",
   "metadata": {},
   "source": [
    "### [덧칠하기](https://school.programmers.co.kr/learn/courses/30/lessons/161989)"
   ]
  },
  {
   "cell_type": "code",
   "execution_count": null,
   "metadata": {},
   "outputs": [],
   "source": [
    "def solution(n, m, section):\n",
    "    answer = 0\n",
    "    while section:\n",
    "        t = section.pop(0)\n",
    "        answer += 1\n",
    "        while section:\n",
    "            a = section[0]\n",
    "            if a >= t+m:\n",
    "                break\n",
    "            section.pop(0)\n",
    "    return answer"
   ]
  },
  {
   "cell_type": "markdown",
   "metadata": {},
   "source": [
    "### [모의고사](https://school.programmers.co.kr/learn/courses/30/lessons/42840)"
   ]
  },
  {
   "cell_type": "code",
   "execution_count": null,
   "metadata": {},
   "outputs": [],
   "source": [
    "def solution(answers):\n",
    "    length = len(answers)\n",
    "    answer1 = [1,2,3,4,5] * (length // 5 + 1)\n",
    "    answer2 = [2,1,2,3,2,4,2,5] * (length // 8 + 1)\n",
    "    answer3 = [3, 3, 1, 1, 2, 2, 4, 4, 5, 5] * (length // 10 + 1)\n",
    "    \n",
    "    correct = [0,0,0]\n",
    "    for a, a1, a2, a3 in zip(answers, answer1[:length], answer2[:length], answer3[:length]):\n",
    "        if a == a1:\n",
    "            correct[0] += 1\n",
    "        if a == a2:\n",
    "            correct[1] += 1\n",
    "        if a == a3:\n",
    "            correct[2] += 1            \n",
    "    high_score = max(correct)\n",
    "    return [idx+1 for idx, value in enumerate(correct) if value == high_score]"
   ]
  }
 ],
 "metadata": {
  "kernelspec": {
   "display_name": "agingSwap",
   "language": "python",
   "name": "python3"
  },
  "language_info": {
   "name": "python",
   "version": "3.12.7"
  }
 },
 "nbformat": 4,
 "nbformat_minor": 2
}
