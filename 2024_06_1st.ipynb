{
 "cells": [
  {
   "cell_type": "markdown",
   "metadata": {},
   "source": [
    "- ai 리포트상 추천 문제 풀어보기"
   ]
  },
  {
   "cell_type": "markdown",
   "metadata": {},
   "source": [
    "### [저주의 숫자 3](https://school.programmers.co.kr/learn/courses/30/lessons/120871)"
   ]
  },
  {
   "cell_type": "code",
   "execution_count": 31,
   "metadata": {},
   "outputs": [],
   "source": [
    "def solution(n):\n",
    "    answer = 0\n",
    "    for i in range(1, n+1):\n",
    "        answer += 1\n",
    "        while answer % 3 == 0 or '3' in str(answer):\n",
    "            answer += 1\n",
    "    return answer"
   ]
  },
  {
   "cell_type": "code",
   "execution_count": 32,
   "metadata": {},
   "outputs": [],
   "source": [
    "def solution(n):\n",
    "    return [x for x in range(300) if x % 3 != 0 and '3' not in str(x)][n-1]"
   ]
  },
  {
   "cell_type": "code",
   "execution_count": 33,
   "metadata": {},
   "outputs": [
    {
     "data": {
      "text/plain": [
       "25"
      ]
     },
     "execution_count": 33,
     "metadata": {},
     "output_type": "execute_result"
    }
   ],
   "source": [
    "solution(15)"
   ]
  },
  {
   "cell_type": "markdown",
   "metadata": {},
   "source": [
    "### [옹알이 (1)](https://school.programmers.co.kr/learn/courses/30/lessons/120956)"
   ]
  },
  {
   "cell_type": "code",
   "execution_count": null,
   "metadata": {},
   "outputs": [],
   "source": [
    "def solution(babbling):\n",
    "    answer = 0\n",
    "    for bab in babbling:\n",
    "        bab = bab.replace('aya','0').replace('ye','1').replace('woo','2').replace('ma','3')\n",
    "        try :\n",
    "            int(bab)\n",
    "            answer += 1\n",
    "        except :\n",
    "            continue\n",
    "    return answer"
   ]
  },
  {
   "cell_type": "markdown",
   "metadata": {},
   "source": [
    "### [예산](https://school.programmers.co.kr/learn/courses/30/lessons/12982)"
   ]
  },
  {
   "cell_type": "code",
   "execution_count": null,
   "metadata": {},
   "outputs": [],
   "source": [
    "def solution(d, budget):\n",
    "    d.sort()\n",
    "    answer = 0\n",
    "    for c in d:\n",
    "        budget -= c\n",
    "        answer += 1\n",
    "        if budget == 0:\n",
    "            return answer\n",
    "        elif budget < 0:\n",
    "            return answer - 1\n",
    "    return 0"
   ]
  },
  {
   "cell_type": "markdown",
   "metadata": {},
   "source": [
    "### [정수 내림차순 정렬](https://school.programmers.co.kr/learn/courses/30/lessons/12933)"
   ]
  },
  {
   "cell_type": "code",
   "execution_count": null,
   "metadata": {},
   "outputs": [],
   "source": [
    "def solution(n):\n",
    "    return int(\"\".join(sorted([x for x in str(n)], reverse=True)))"
   ]
  },
  {
   "cell_type": "markdown",
   "metadata": {},
   "source": [
    "### [최대공약수와 최소공배수](https://school.programmers.co.kr/learn/courses/30/lessons/12940)"
   ]
  },
  {
   "cell_type": "code",
   "execution_count": 40,
   "metadata": {},
   "outputs": [],
   "source": [
    "def gcd(a, b):\n",
    "    while b:\n",
    "        a, b = b, a%b\n",
    "    return a\n",
    "\n",
    "def lcm(a, b, c):\n",
    "    return a * b // c\n",
    "\n",
    "def solution(n, m):\n",
    "    a = gcd(n, m)\n",
    "    b = lcm(n, m, a)\n",
    "    return [a, b]    "
   ]
  },
  {
   "cell_type": "code",
   "execution_count": 41,
   "metadata": {},
   "outputs": [
    {
     "data": {
      "text/plain": [
       "[3, 12]"
      ]
     },
     "execution_count": 41,
     "metadata": {},
     "output_type": "execute_result"
    }
   ],
   "source": [
    "solution(3,12)"
   ]
  },
  {
   "cell_type": "markdown",
   "metadata": {},
   "source": [
    "### [줄 서는 방법](https://school.programmers.co.kr/learn/courses/30/lessons/12936?language=python3)"
   ]
  },
  {
   "cell_type": "markdown",
   "metadata": {},
   "source": [
    "- 우선 가장 간단히 permutations를 이용해 풀어보기"
   ]
  },
  {
   "attachments": {
    "image.png": {
     "image/png": "[encoded data removed]"
    }
   },
   "cell_type": "markdown",
   "metadata": {},
   "source": [
    "![image.png](attachment:image.png)"
   ]
  },
  {
   "cell_type": "code",
   "execution_count": 2,
   "metadata": {},
   "outputs": [
    {
     "data": {
      "text/plain": [
       "[(1, 2, 3), (1, 3, 2), (2, 1, 3), (2, 3, 1), (3, 1, 2), (3, 2, 1)]"
      ]
     },
     "execution_count": 2,
     "metadata": {},
     "output_type": "execute_result"
    }
   ],
   "source": [
    "from itertools import permutations\n",
    "\n",
    "def solution(n, k):\n",
    "    return list(permutations([x for x in range(1, n+1)], n))[k-1]"
   ]
  },
  {
   "cell_type": "markdown",
   "metadata": {},
   "source": [
    "- 보다 빠르게 계산하기 위해 직접 n번째 순열을 계산하는 방식으로 진행"
   ]
  },
  {
   "cell_type": "code",
   "execution_count": null,
   "metadata": {},
   "outputs": [],
   "source": [
    "def solution(n, k):\n",
    "    import math\n",
    "    \n",
    "    # 1부터 n까지 숫자의 리스트를 생성\n",
    "    numbers = list(range(1, n + 1))\n",
    "\n",
    "    result = []\n",
    "    \n",
    "    # k를 0-based index로 변환\n",
    "    k -= 1\n",
    "    \n",
    "    # 남은 자리의 숫자들을 하나씩 결정\n",
    "    for i in range(n, 0, -1):\n",
    "        # 현재 범위의 팩토리얼 값을 계산\n",
    "        fact = math.factorial(i - 1)\n",
    "        # 몫을 이용해 현재 자리에 올 숫자를 결정\n",
    "        index = k // fact\n",
    "        result.append(numbers.pop(index))\n",
    "        # 나머지를 업데이트\n",
    "        k %= fact\n",
    "    \n",
    "    return result"
   ]
  }
 ],
 "metadata": {
  "kernelspec": {
   "display_name": "base",
   "language": "python",
   "name": "python3"
  },
  "language_info": {
   "codemirror_mode": {
    "name": "ipython",
    "version": 3
   },
   "file_extension": ".py",
   "mimetype": "text/x-python",
   "name": "python",
   "nbconvert_exporter": "python",
   "pygments_lexer": "ipython3",
   "version": "3.10.14"
  }
 },
 "nbformat": 4,
 "nbformat_minor": 2
}
