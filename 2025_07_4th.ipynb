{
 "cells": [
  {
   "cell_type": "markdown",
   "id": "93b491f2",
   "metadata": {},
   "source": [
    "### [[PCCP 기출문제] 3번 / 충돌위험 찾기](https://school.programmers.co.kr/learn/courses/30/lessons/340211)"
   ]
  },
  {
   "cell_type": "code",
   "execution_count": null,
   "id": "6de10055",
   "metadata": {},
   "outputs": [],
   "source": [
    "from collections import defaultdict\n",
    "\n",
    "def solution(points, routes):\n",
    "    answer = 0\n",
    "\n",
    "    startings = {e+1:x for e, x in enumerate(points)}\n",
    "    history = defaultdict(int) # key = (시점, r좌표, c좌표) : value=기기대수\n",
    "\n",
    "    for route in routes:\n",
    "        start, ends = route[0], route[1:]\n",
    "        t = 0\n",
    "        cx, cy = startings[start]\n",
    "        history[(t, cx, cy)] += 1\n",
    "        for end in ends:\n",
    "            ex, ey = startings[end]\n",
    "            while (cx, cy) != (ex, ey):\n",
    "                t += 1\n",
    "                if cx != ex: # r좌표를 먼저 이동해야함\n",
    "                    cx += -1 if cx > ex else +1                    \n",
    "                elif cy != ey:\n",
    "                    cy += -1 if cy > ey else +1\n",
    "                history[(t, cx, cy)] += 1\n",
    "\n",
    "    return sum([1 for x in history.values() if x > 1])"
   ]
  }
 ],
 "metadata": {
  "kernelspec": {
   "display_name": "Python 3",
   "language": "python",
   "name": "python3"
  },
  "language_info": {
   "name": "python",
   "version": "3.10.12"
  }
 },
 "nbformat": 4,
 "nbformat_minor": 5
}
