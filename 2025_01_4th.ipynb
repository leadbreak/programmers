{
 "cells": [
  {
   "cell_type": "markdown",
   "metadata": {},
   "source": [
    "### [예상 대진표](https://school.programmers.co.kr/learn/courses/30/lessons/12985)"
   ]
  },
  {
   "cell_type": "code",
   "execution_count": null,
   "metadata": {
    "vscode": {
     "languageId": "plaintext"
    }
   },
   "outputs": [],
   "source": [
    "def solution(n,a,b):\n",
    "    answer = 1\n",
    "    na = (a+1) // 2\n",
    "    nb = (b+1) // 2\n",
    "    if abs(a-b) == 1 and na == nb:\n",
    "        return answer\n",
    "    while True:\n",
    "        a, b = na, nb\n",
    "        na = (a+1) // 2\n",
    "        nb = (b+1) // 2\n",
    "        answer += 1\n",
    "        if abs(a-b) == 1 and na == nb:\n",
    "            return answer"
   ]
  }
 ],
 "metadata": {
  "language_info": {
   "name": "python"
  }
 },
 "nbformat": 4,
 "nbformat_minor": 2
}
