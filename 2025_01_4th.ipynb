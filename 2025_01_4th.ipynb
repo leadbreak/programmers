{
 "cells": [
  {
   "cell_type": "markdown",
   "metadata": {},
   "source": [
    "### [예상 대진표](https://school.programmers.co.kr/learn/courses/30/lessons/12985)"
   ]
  },
  {
   "cell_type": "code",
   "execution_count": null,
   "metadata": {},
   "outputs": [],
   "source": [
    "def solution(n,a,b):\n",
    "    answer = 1\n",
    "    na = (a+1) // 2\n",
    "    nb = (b+1) // 2\n",
    "    if abs(a-b) == 1 and na == nb:\n",
    "        return answer\n",
    "    while True:\n",
    "        a, b = na, nb\n",
    "        na = (a+1) // 2\n",
    "        nb = (b+1) // 2\n",
    "        answer += 1\n",
    "        if abs(a-b) == 1 and na == nb:\n",
    "            return answer"
   ]
  },
  {
   "cell_type": "code",
   "execution_count": 2,
   "metadata": {},
   "outputs": [
    {
     "data": {
      "text/plain": [
       "['Z', 'b', 'c', 'd', 'e', 'f', 'g']"
      ]
     },
     "execution_count": 2,
     "metadata": {},
     "output_type": "execute_result"
    }
   ],
   "source": [
    "sorted(\"Zbcdefg\")"
   ]
  },
  {
   "cell_type": "markdown",
   "metadata": {},
   "source": [
    "### [문자열 내림차순으로 배치하기](https://school.programmers.co.kr/learn/courses/30/lessons/12917?language=python3)"
   ]
  },
  {
   "cell_type": "markdown",
   "metadata": {},
   "source": [
    "- 프로그래머스 ai가 추천하는 내 부족한 점? 이라는데....흠...."
   ]
  },
  {
   "cell_type": "code",
   "execution_count": 3,
   "metadata": {},
   "outputs": [],
   "source": [
    "solution = lambda s: \"\".join(sorted(s, reverse=True))"
   ]
  },
  {
   "cell_type": "markdown",
   "metadata": {},
   "source": [
    "### [합성수 찾기](https://school.programmers.co.kr/learn/courses/30/lessons/120846)"
   ]
  },
  {
   "cell_type": "markdown",
   "metadata": {},
   "source": [
    "- 이런 건 좀 아닌 거 같은데...일단 한 문제만 더..."
   ]
  },
  {
   "cell_type": "code",
   "execution_count": 4,
   "metadata": {},
   "outputs": [
    {
     "data": {
      "text/plain": [
       "(2, 0)"
      ]
     },
     "execution_count": 4,
     "metadata": {},
     "output_type": "execute_result"
    }
   ],
   "source": [
    "def solution(n):\n",
    "    if n < 4:\n",
    "        return 0\n",
    "    \n",
    "    answer = 0\n",
    "    for i in range(4, n+1):\n",
    "        cnt = 0\n",
    "        for j in range(2, i//2+1):\n",
    "            share, extra = divmod(i, j)\n",
    "            if extra == 0:\n",
    "                answer += 1\n",
    "                break\n",
    "        \n",
    "    return answer"
   ]
  },
  {
   "cell_type": "markdown",
   "metadata": {},
   "source": [
    "### [주사위의 개수](https://school.programmers.co.kr/learn/courses/30/lessons/120845)"
   ]
  },
  {
   "cell_type": "code",
   "execution_count": null,
   "metadata": {},
   "outputs": [],
   "source": [
    "import math\n",
    "\n",
    "solution = lambda box, n: math.prod([x//n for x in box])"
   ]
  },
  {
   "cell_type": "markdown",
   "metadata": {},
   "source": [
    "### [크기가 작은 문자열](https://school.programmers.co.kr/learn/courses/30/lessons/147355)"
   ]
  },
  {
   "cell_type": "code",
   "execution_count": null,
   "metadata": {},
   "outputs": [],
   "source": [
    "def solution(t, p):\n",
    "    N = len(p)\n",
    "    p = int(p)\n",
    "    return len([x for x in range(len(t)-N+1) if int(t[x:x+N]) <= p])"
   ]
  },
  {
   "cell_type": "markdown",
   "metadata": {},
   "source": [
    "### [제일 작은 수 제거하기](https://school.programmers.co.kr/learn/courses/30/lessons/12935)"
   ]
  },
  {
   "cell_type": "code",
   "execution_count": 5,
   "metadata": {},
   "outputs": [],
   "source": [
    "def solution(arr):\n",
    "    arr.remove(min(arr))\n",
    "    return arr if len(arr) > 0 else [-1]"
   ]
  },
  {
   "cell_type": "markdown",
   "metadata": {},
   "source": [
    "### [합승 택시 요금](https://school.programmers.co.kr/learn/courses/30/lessons/72413)"
   ]
  },
  {
   "cell_type": "code",
   "execution_count": null,
   "metadata": {},
   "outputs": [],
   "source": [
    "def solution(n, s, a, b, fares):\n",
    "    # 무한대를 나타내는 값 설정\n",
    "    INF = int(1e9)\n",
    "    \n",
    "    # 1-based indexing을 위해 (n+1) x (n+1) 크기의 거리 테이블 초기화\n",
    "    distance = [[INF] * (n + 1) for _ in range(n + 1)]\n",
    "    \n",
    "    # 자기 자신으로 가는 비용은 0\n",
    "    for i in range(1, n + 1):\n",
    "        distance[i][i] = 0\n",
    "    \n",
    "    # 주어진 요금 정보로 거리 테이블 업데이트\n",
    "    for c, d, f in fares:\n",
    "        distance[c][d] = f\n",
    "        distance[d][c] = f  # 양방향 이동 가능\n",
    "    \n",
    "    # 플로이드-워셜 알고리즘 수행\n",
    "    for k in range(1, n + 1):\n",
    "        for i in range(1, n + 1):\n",
    "            for j in range(1, n + 1):\n",
    "                if distance[i][j] > distance[i][k] + distance[k][j]:\n",
    "                    distance[i][j] = distance[i][k] + distance[k][j]\n",
    "    \n",
    "    # 최소 요금 계산\n",
    "    min_fare = INF\n",
    "    for k in range(1, n + 1):\n",
    "        total_fare = distance[s][k] + distance[k][a] + distance[k][b]\n",
    "        if total_fare < min_fare:\n",
    "            min_fare = total_fare\n",
    "    \n",
    "    return min_fare\n"
   ]
  }
 ],
 "metadata": {
  "kernelspec": {
   "display_name": "Python 3",
   "language": "python",
   "name": "python3"
  },
  "language_info": {
   "codemirror_mode": {
    "name": "ipython",
    "version": 3
   },
   "file_extension": ".py",
   "mimetype": "text/x-python",
   "name": "python",
   "nbconvert_exporter": "python",
   "pygments_lexer": "ipython3",
   "version": "3.10.12"
  }
 },
 "nbformat": 4,
 "nbformat_minor": 2
}
