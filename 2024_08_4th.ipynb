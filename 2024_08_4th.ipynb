{
 "cells": [
  {
   "cell_type": "markdown",
   "metadata": {},
   "source": [
    "### [석유시추](https://school.programmers.co.kr/learn/courses/30/lessons/250136?language=python3)"
   ]
  },
  {
   "cell_type": "code",
   "execution_count": 60,
   "metadata": {},
   "outputs": [],
   "source": [
    "from collections import deque\n",
    "\n",
    "def solution(land):\n",
    "\n",
    "    # history\n",
    "    my, mx = len(land), len(land[0])\n",
    "    history = [[False] * mx for _ in range(my)]\n",
    "    \n",
    "    # answers\n",
    "    answers = [0] * len(land[0])\n",
    "    \n",
    "    # define Q\n",
    "    queue = deque([(0, 0)])\n",
    "    directions = [(1,0), (0, 1), (-1,0), (0, -1)]\n",
    "    \n",
    "    while queue:\n",
    "        y, x = queue.popleft()\n",
    "        if not history[y][x]:\n",
    "            history[y][x] = True\n",
    "            \n",
    "            if not land[y][x]: # 기름이 없는 곳\n",
    "                for dy, dx in directions:\n",
    "                    ny, nx = y+dy, x+dx\n",
    "                    if 0 <= ny < my and 0 <= nx < mx and not land[ny][nx] and not history[ny][nx]:\n",
    "                        queue.append((ny, nx))\n",
    "            else : # 기름이 있는 곳\n",
    "                score = 1\n",
    "                sub_queue = deque([(y, x)])\n",
    "                sub_history = [x]\n",
    "                while sub_queue:\n",
    "                    y, x = sub_queue.popleft()\n",
    "                    for dy, dx in directions:\n",
    "                        ny, nx = y+dy, x+dx\n",
    "                        if 0 <= ny < my and 0 <= nx < mx and land[ny][nx] and not history[ny][nx]:\n",
    "                            score += 1\n",
    "                            history[ny][nx] = True\n",
    "                            sub_history.append(nx)\n",
    "                            sub_queue.append((ny, nx))\n",
    "                sub_history = list(set(sub_history))\n",
    "                for s in sub_history:\n",
    "                    answers[s] += score\n",
    "        \n",
    "        if not queue:\n",
    "            extras = [(e, i.index(False)) for e, i in enumerate(history) if not all(i)]\n",
    "            if extras:\n",
    "                queue.append(extras[0])\n",
    "    return max(answers)\n",
    "                        "
   ]
  },
  {
   "cell_type": "code",
   "execution_count": 61,
   "metadata": {},
   "outputs": [
    {
     "name": "stdout",
     "output_type": "stream",
     "text": [
      "sub_queue=deque([(0, 3)])\n",
      "sub_queue=deque([(0, 4)])\n",
      "sub_queue=deque([(1, 4), (0, 5)])\n",
      "sub_queue=deque([(0, 5), (1, 5)])\n",
      "sub_queue=deque([(1, 5)])\n",
      "sub_queue=deque([(2, 5)])\n",
      "sub_queue=deque([(2, 6)])\n",
      "scout:  7 [3, 4, 5, 6]\n",
      "sub_queue=deque([(2, 0)])\n",
      "sub_queue=deque([(3, 0), (2, 1)])\n",
      "sub_queue=deque([(2, 1), (4, 0), (3, 1)])\n",
      "sub_queue=deque([(4, 0), (3, 1)])\n",
      "sub_queue=deque([(3, 1), (4, 1)])\n",
      "sub_queue=deque([(4, 1), (3, 2)])\n",
      "sub_queue=deque([(3, 2), (4, 2)])\n",
      "sub_queue=deque([(4, 2)])\n",
      "scout:  8 [0, 1, 2]\n",
      "sub_queue=deque([(4, 6)])\n",
      "sub_queue=deque([(4, 7)])\n",
      "scout:  2 [6, 7]\n"
     ]
    },
    {
     "data": {
      "text/plain": [
       "9"
      ]
     },
     "execution_count": 61,
     "metadata": {},
     "output_type": "execute_result"
    }
   ],
   "source": [
    "land = [[0, 0, 0, 1, 1, 1, 0, 0], [0, 0, 0, 0, 1, 1, 0, 0], [1, 1, 0, 0, 0, 1, 1, 0], [1, 1, 1, 0, 0, 0, 0, 0], [1, 1, 1, 0, 0, 0, 1, 1]]\n",
    "solution(land)"
   ]
  },
  {
   "cell_type": "code",
   "execution_count": 51,
   "metadata": {},
   "outputs": [
    {
     "data": {
      "text/plain": [
       "False"
      ]
     },
     "execution_count": 51,
     "metadata": {},
     "output_type": "execute_result"
    }
   ],
   "source": [
    "all([False, True])"
   ]
  }
 ],
 "metadata": {
  "kernelspec": {
   "display_name": ".venv",
   "language": "python",
   "name": "python3"
  },
  "language_info": {
   "codemirror_mode": {
    "name": "ipython",
    "version": 3
   },
   "file_extension": ".py",
   "mimetype": "text/x-python",
   "name": "python",
   "nbconvert_exporter": "python",
   "pygments_lexer": "ipython3",
   "version": "3.10.12"
  }
 },
 "nbformat": 4,
 "nbformat_minor": 2
}
