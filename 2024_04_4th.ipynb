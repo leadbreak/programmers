{
 "cells": [
  {
   "cell_type": "markdown",
   "metadata": {},
   "source": [
    "### [PCCP 기출문제] 3번 / [아날로그 시계](https://school.programmers.co.kr/learn/courses/30/lessons/250135)\n",
    "- 아날로그 시계 다 부셔버리고 싶다..."
   ]
  },
  {
   "cell_type": "code",
   "execution_count": 176,
   "metadata": {},
   "outputs": [],
   "source": [
    "def solution(h1, m1, s1, h2, m2, s2):\n",
    "    hour_degree = lambda x: (x / 3600 % 12) * 30\n",
    "    min_degree = lambda x: (x / 60 % 60) * 6\n",
    "    sec_degree = lambda x: (x % 60) * 6\n",
    "    \n",
    "    from_sec = h1*3600 + m1*60 + s1\n",
    "    to_sec = h2*3600 + m2*60 + s2\n",
    "    \n",
    "    answer = 0\n",
    "    cur_state = [False,False]\n",
    "    for t in range(from_sec, to_sec+1):\n",
    "        h, m, s = hour_degree(t), min_degree(t), sec_degree(t)\n",
    "        h = h if h != 0 else 360\n",
    "        m = m if m != 0 else 360\n",
    "        s = s if s != 0 else 360\n",
    "        prev_state = cur_state.copy()\n",
    "        if s >= h and not prev_state[0]:\n",
    "            cur_state[0] = True\n",
    "        else :\n",
    "            cur_state[0] = False\n",
    "            \n",
    "        if s >= m and not prev_state[1]:\n",
    "            cur_state[1] = True\n",
    "        else :\n",
    "            cur_state[1] = False\n",
    "\n",
    "        if h == m == s:\n",
    "            answer += 1\n",
    "        else :\n",
    "            answer += sum(cur_state)\n",
    "        \n",
    "        # if t == from_sec:\n",
    "        #     if h==m==s:\n",
    "        #         print(t, cur_state, prev_state)\n",
    "        #         answer += 1\n",
    "        #     continue\n",
    "        # if 1 in cur_state  and cur_state != prev_state:\n",
    "        #     # print(i, cur_state, prev_state)\n",
    "        #     if h == m:\n",
    "        #         answer += 1\n",
    "        #     else :\n",
    "        #         answer += sum(cur_state) - sum(prev_state)\n",
    "\n",
    "    return answer\n"
   ]
  },
  {
   "cell_type": "code",
   "execution_count": null,
   "metadata": {},
   "outputs": [],
   "source": [
    "def solution(h1, m1, s1, h2, m2, s2):\n",
    "    \n",
    "    start = h1*3600+m1*60+s1\n",
    "    end   = h2*3600+m2*60+s2\n",
    "    \n",
    "    # 분침과 초침이 겹치는 횟수 count\n",
    "    answer  = int(end/3600*59)\n",
    "    answer -= start//(3600/59)\n",
    "    \n",
    "    # 시침과 초침이 겹치는 횟수 count\n",
    "    answer += end//(360*120/719)\n",
    "    answer -= start//(360*120/719)\n",
    "    \n",
    "    # 예외처리 1 : 정오 포함된 경우\n",
    "    if start<=12*60*60<=end:\n",
    "        answer -= 1\n",
    "    # 예외처리 2 : 시작시간이 자정or정오\n",
    "    if start==0 or start==12*60*60:\n",
    "        answer += 1\n",
    "\n",
    "    return answer"
   ]
  },
  {
   "cell_type": "code",
   "execution_count": null,
   "metadata": {},
   "outputs": [],
   "source": [
    "def solution(h1, m1, s1, h2, m2, s2):\n",
    "    \n",
    "    start = h1*3600+m1*60+s1\n",
    "    end   = h2*3600+m2*60+s2\n",
    "    \n",
    "    # 분침과 초침이 겹치는 횟수 count\n",
    "    answer  = int(end/3600*59) - start//(3600/59)\n",
    "    \n",
    "    # 시침과 초침이 겹치는 횟수 count\n",
    "    answer += end//(360*120/719) - start//(360*120/719)\n",
    "    \n",
    "    # 예외처리 1 : 정오 포함된 경우\n",
    "    if start <= 12*60*60 <= end:\n",
    "        answer -= 1\n",
    "    # 예외처리 2 : 시작시간이 자정or정오\n",
    "    if start in [0, 12*60*60]:\n",
    "        answer += 1\n",
    "\n",
    "    return answer"
   ]
  },
  {
   "cell_type": "code",
   "execution_count": 177,
   "metadata": {},
   "outputs": [
    {
     "data": {
      "text/plain": [
       "2"
      ]
     },
     "execution_count": 177,
     "metadata": {},
     "output_type": "execute_result"
    }
   ],
   "source": [
    "h1, m1 , s1, h2, m2, s2 = 1,5,5,1,5,6\n",
    "solution(h1, m1, s1, h2, m2, s2)"
   ]
  },
  {
   "cell_type": "code",
   "execution_count": 178,
   "metadata": {},
   "outputs": [
    {
     "data": {
      "text/plain": [
       "44638"
      ]
     },
     "execution_count": 178,
     "metadata": {},
     "output_type": "execute_result"
    }
   ],
   "source": [
    "h1, m1 , s1, h2, m2, s2 = 0,0,0,23,59,59\n",
    "solution(h1, m1, s1, h2, m2, s2)"
   ]
  },
  {
   "cell_type": "markdown",
   "metadata": {},
   "source": [
    "### [과제 진행하기](https://school.programmers.co.kr/learn/courses/30/lessons/176962)"
   ]
  },
  {
   "cell_type": "code",
   "execution_count": 24,
   "metadata": {},
   "outputs": [],
   "source": [
    "from datetime import datetime, timedelta\n",
    "\n",
    "def solution(plans):\n",
    "    plans = sorted(plans, key=lambda x : x[1])\n",
    "    \n",
    "    delayed = []\n",
    "    answer = []\n",
    "    \n",
    "    time_format = \"%H:%M\"\n",
    "    cur_name, cur_start, cur_duration = plans.pop(0)\n",
    "    next_name = None\n",
    "    while plans or delayed:\n",
    "        if plans :\n",
    "            if next_name is None:\n",
    "                next_name, next_start, next_duration = plans.pop(0)\n",
    "        else :\n",
    "            next_name, next_start, next_duration = None, None, None\n",
    "            next_start = '99:99'\n",
    "            cur_name, cur_start, cur_duration = delayed.pop()\n",
    "            \n",
    "        print(f\"cur name: {cur_name}, cur_start: {cur_start}, cur_duration: {cur_duration}\")\n",
    "        print(f\"next name: {next_name}, next_start: {next_start}, next_duration: {next_duration}\")\n",
    "        print(f\"delayed : {delayed}, answer: {answer}\")\n",
    "        start_time = datetime.strptime(cur_start, time_format)\n",
    "        additional_minutes = timedelta(minutes=int(cur_duration))\n",
    "        end_time = (start_time + additional_minutes).strftime(time_format)\n",
    "        \n",
    "        print(f\"end_time: {end_time} {'<=' if end_time <= next_start else '>'} next_start: {next_start}\\n\")\n",
    "        if end_time <= next_start: # 현재 작업 종료 시간이 다음 작업 시작 시간보다 빨리 끝나는 경우\n",
    "            answer.append(cur_name)\n",
    "            if delayed : # 지연 작업이 존재하고, 다음 작업 시작 시간보다 이전일 경우\n",
    "                # delay_name, _, delay_duration = delayed.pop()\n",
    "                # delay_start = end_time\n",
    "                if end_time != next_start:\n",
    "                    print(f\"scout: {end_time}, {next_start}\")\n",
    "                    cur_name, cur_start, cur_duration = delayed.pop()\n",
    "                    cur_start = end_time\n",
    "                else :\n",
    "                    cur_name, cur_start, cur_duration = next_name, next_start, next_duration\n",
    "                    next_name = None\n",
    "            else :\n",
    "                cur_name, cur_start, cur_duration = next_name, next_start, next_duration\n",
    "                next_name = None\n",
    "        else : # 현재 작업을 뒤로 미루고, 다음 작업 시작하는 경우\n",
    "            # 진행된 시간 고려해서 지연 작업으로 분류\n",
    "            gap = int((datetime.strptime(next_start, time_format) - datetime.strptime(cur_start, time_format)).total_seconds() / 60)\n",
    "            delayed.append([cur_name, cur_start, int(cur_duration)-gap])\n",
    "            \n",
    "            # 새로운 작업을 현재 작업으로 치환\n",
    "            cur_name, cur_start, cur_duration = next_name, next_start, next_duration\n",
    "            next_name = None\n",
    "        print(f\"cur name: {cur_name}, cur_start: {cur_start}, cur_duration: {cur_duration}\")\n",
    "        print(f\"next name: {next_name}, next_start: {next_start}, next_duration: {next_duration}\")\n",
    "        print(f\"delayed : {delayed}, answer: {answer}\")\n",
    "        print('='*80)\n",
    "            \n",
    "    return answer"
   ]
  },
  {
   "cell_type": "code",
   "execution_count": 25,
   "metadata": {},
   "outputs": [
    {
     "name": "stdout",
     "output_type": "stream",
     "text": [
      "cur name: music, cur_start: 12:20, cur_duration: 40\n",
      "next name: computer, next_start: 12:30, next_duration: 100\n",
      "delayed : [], answer: []\n",
      "end_time: 13:00 > next_start: 12:30\n",
      "\n",
      "cur name: computer, cur_start: 12:30, cur_duration: 100\n",
      "next name: None, next_start: 12:30, next_duration: 100\n",
      "delayed : [['music', '12:20', 30]], answer: []\n",
      "================================================================================\n",
      "cur name: computer, cur_start: 12:30, cur_duration: 100\n",
      "next name: science, next_start: 12:40, next_duration: 50\n",
      "delayed : [['music', '12:20', 30]], answer: []\n",
      "end_time: 14:10 > next_start: 12:40\n",
      "\n",
      "cur name: science, cur_start: 12:40, cur_duration: 50\n",
      "next name: None, next_start: 12:40, next_duration: 50\n",
      "delayed : [['music', '12:20', 30], ['computer', '12:30', 90]], answer: []\n",
      "================================================================================\n",
      "cur name: science, cur_start: 12:40, cur_duration: 50\n",
      "next name: history, next_start: 14:00, next_duration: 30\n",
      "delayed : [['music', '12:20', 30], ['computer', '12:30', 90]], answer: []\n",
      "end_time: 13:30 <= next_start: 14:00\n",
      "\n",
      "scout: 13:30, 14:00\n",
      "cur name: computer, cur_start: 13:30, cur_duration: 90\n",
      "next name: history, next_start: 14:00, next_duration: 30\n",
      "delayed : [['music', '12:20', 30]], answer: ['science']\n",
      "================================================================================\n",
      "cur name: music, cur_start: 12:20, cur_duration: 30\n",
      "next name: None, next_start: 99:99, next_duration: None\n",
      "delayed : [], answer: ['science']\n",
      "end_time: 12:50 <= next_start: 99:99\n",
      "\n",
      "cur name: None, cur_start: 99:99, cur_duration: None\n",
      "next name: None, next_start: 99:99, next_duration: None\n",
      "delayed : [], answer: ['science', 'music']\n",
      "================================================================================\n"
     ]
    },
    {
     "data": {
      "text/plain": [
       "['science', 'music']"
      ]
     },
     "execution_count": 25,
     "metadata": {},
     "output_type": "execute_result"
    }
   ],
   "source": [
    "plans = [[\"science\", \"12:40\", \"50\"], [\"music\", \"12:20\", \"40\"], [\"history\", \"14:00\", \"30\"], [\"computer\", \"12:30\", \"100\"]]\n",
    "solution(plans)"
   ]
  },
  {
   "cell_type": "code",
   "execution_count": null,
   "metadata": {},
   "outputs": [],
   "source": []
  }
 ],
 "metadata": {
  "kernelspec": {
   "display_name": "Python 3",
   "language": "python",
   "name": "python3"
  },
  "language_info": {
   "codemirror_mode": {
    "name": "ipython",
    "version": 3
   },
   "file_extension": ".py",
   "mimetype": "text/x-python",
   "name": "python",
   "nbconvert_exporter": "python",
   "pygments_lexer": "ipython3",
   "version": "3.10.12"
  }
 },
 "nbformat": 4,
 "nbformat_minor": 2
}
