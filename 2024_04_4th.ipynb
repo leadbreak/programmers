{
 "cells": [
  {
   "cell_type": "markdown",
   "metadata": {},
   "source": [
    "### [PCCP 기출문제] 3번 / [아날로그 시계](https://school.programmers.co.kr/learn/courses/30/lessons/250135)\n",
    "- 아날로그 시계 다 부셔버리고 싶다..."
   ]
  },
  {
   "cell_type": "code",
   "execution_count": 176,
   "metadata": {},
   "outputs": [],
   "source": [
    "def solution(h1, m1, s1, h2, m2, s2):\n",
    "    hour_degree = lambda x: (x / 3600 % 12) * 30\n",
    "    min_degree = lambda x: (x / 60 % 60) * 6\n",
    "    sec_degree = lambda x: (x % 60) * 6\n",
    "    \n",
    "    from_sec = h1*3600 + m1*60 + s1\n",
    "    to_sec = h2*3600 + m2*60 + s2\n",
    "    \n",
    "    answer = 0\n",
    "    cur_state = [False,False]\n",
    "    for t in range(from_sec, to_sec+1):\n",
    "        h, m, s = hour_degree(t), min_degree(t), sec_degree(t)\n",
    "        h = h if h != 0 else 360\n",
    "        m = m if m != 0 else 360\n",
    "        s = s if s != 0 else 360\n",
    "        prev_state = cur_state.copy()\n",
    "        if s >= h and not prev_state[0]:\n",
    "            cur_state[0] = True\n",
    "        else :\n",
    "            cur_state[0] = False\n",
    "            \n",
    "        if s >= m and not prev_state[1]:\n",
    "            cur_state[1] = True\n",
    "        else :\n",
    "            cur_state[1] = False\n",
    "\n",
    "        if h == m == s:\n",
    "            answer += 1\n",
    "        else :\n",
    "            answer += sum(cur_state)\n",
    "        \n",
    "        # if t == from_sec:\n",
    "        #     if h==m==s:\n",
    "        #         print(t, cur_state, prev_state)\n",
    "        #         answer += 1\n",
    "        #     continue\n",
    "        # if 1 in cur_state  and cur_state != prev_state:\n",
    "        #     # print(i, cur_state, prev_state)\n",
    "        #     if h == m:\n",
    "        #         answer += 1\n",
    "        #     else :\n",
    "        #         answer += sum(cur_state) - sum(prev_state)\n",
    "\n",
    "    return answer\n"
   ]
  },
  {
   "cell_type": "code",
   "execution_count": null,
   "metadata": {},
   "outputs": [],
   "source": [
    "def solution(h1, m1, s1, h2, m2, s2):\n",
    "    \n",
    "    start = h1*3600+m1*60+s1\n",
    "    end   = h2*3600+m2*60+s2\n",
    "    \n",
    "    # 분침과 초침이 겹치는 횟수 count\n",
    "    answer  = int(end/3600*59)\n",
    "    answer -= start//(3600/59)\n",
    "    \n",
    "    # 시침과 초침이 겹치는 횟수 count\n",
    "    answer += end//(360*120/719)\n",
    "    answer -= start//(360*120/719)\n",
    "    \n",
    "    # 예외처리 1 : 정오 포함된 경우\n",
    "    if start<=12*60*60<=end:\n",
    "        answer -= 1\n",
    "    # 예외처리 2 : 시작시간이 자정or정오\n",
    "    if start==0 or start==12*60*60:\n",
    "        answer += 1\n",
    "\n",
    "    return answer"
   ]
  },
  {
   "cell_type": "code",
   "execution_count": null,
   "metadata": {},
   "outputs": [],
   "source": [
    "def solution(h1, m1, s1, h2, m2, s2):\n",
    "    \n",
    "    start = h1*3600+m1*60+s1\n",
    "    end   = h2*3600+m2*60+s2\n",
    "    \n",
    "    # 분침과 초침이 겹치는 횟수 count\n",
    "    answer  = int(end/3600*59) - start//(3600/59)\n",
    "    \n",
    "    # 시침과 초침이 겹치는 횟수 count\n",
    "    answer += end//(360*120/719) - start//(360*120/719)\n",
    "    \n",
    "    # 예외처리 1 : 정오 포함된 경우\n",
    "    if start <= 12*60*60 <= end:\n",
    "        answer -= 1\n",
    "    # 예외처리 2 : 시작시간이 자정or정오\n",
    "    if start in [0, 12*60*60]:\n",
    "        answer += 1\n",
    "\n",
    "    return answer"
   ]
  },
  {
   "cell_type": "code",
   "execution_count": 177,
   "metadata": {},
   "outputs": [
    {
     "data": {
      "text/plain": [
       "2"
      ]
     },
     "execution_count": 177,
     "metadata": {},
     "output_type": "execute_result"
    }
   ],
   "source": [
    "h1, m1 , s1, h2, m2, s2 = 1,5,5,1,5,6\n",
    "solution(h1, m1, s1, h2, m2, s2)"
   ]
  },
  {
   "cell_type": "code",
   "execution_count": 178,
   "metadata": {},
   "outputs": [
    {
     "data": {
      "text/plain": [
       "44638"
      ]
     },
     "execution_count": 178,
     "metadata": {},
     "output_type": "execute_result"
    }
   ],
   "source": [
    "h1, m1 , s1, h2, m2, s2 = 0,0,0,23,59,59\n",
    "solution(h1, m1, s1, h2, m2, s2)"
   ]
  },
  {
   "cell_type": "code",
   "execution_count": 169,
   "metadata": {},
   "outputs": [
    {
     "name": "stdout",
     "output_type": "stream",
     "text": [
      "Total overlaps: 2830\n"
     ]
    }
   ],
   "source": []
  }
 ],
 "metadata": {
  "kernelspec": {
   "display_name": "Python 3",
   "language": "python",
   "name": "python3"
  },
  "language_info": {
   "codemirror_mode": {
    "name": "ipython",
    "version": 3
   },
   "file_extension": ".py",
   "mimetype": "text/x-python",
   "name": "python",
   "nbconvert_exporter": "python",
   "pygments_lexer": "ipython3",
   "version": "3.10.12"
  }
 },
 "nbformat": 4,
 "nbformat_minor": 2
}
