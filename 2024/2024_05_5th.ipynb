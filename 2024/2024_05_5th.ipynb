{
 "cells": [
  {
   "cell_type": "markdown",
   "metadata": {},
   "source": [
    "### [행렬 테두리 회전하기](https://school.programmers.co.kr/learn/courses/30/lessons/77485)"
   ]
  },
  {
   "cell_type": "code",
   "execution_count": null,
   "metadata": {},
   "outputs": [],
   "source": [
    "def solution(rows, columns, queries):\n",
    "    matrix = [[(y-1)*columns+x for x in range(1, columns+1)] for y in range(1, rows+1)]\n",
    "\n",
    "    answer = []\n",
    "    for query in queries:\n",
    "        s_row, s_col, e_row, e_col = query\n",
    "        target = columns * rows\n",
    "\n",
    "        # 상단 작업\n",
    "        for col in range(e_col-1, s_col-1, -1):\n",
    "            if col == e_col-1:\n",
    "                memory_top = matrix[s_row-1][col]\n",
    "            matrix[s_row-1][col] = matrix[s_row-1][col-1]\n",
    "            target = min(target, matrix[s_row-1][col])\n",
    "        matrix[s_row-1][s_col-1] = matrix[s_row][s_col-1]\n",
    "        target = min(target, matrix[s_row-1][s_col-1])\n",
    "\n",
    "        # 우중단 작업\n",
    "        for row in range(e_row-1, min(e_row-2, s_row), -1):\n",
    "            if row == e_row-1:\n",
    "                memory_down = matrix[row][e_col-1]\n",
    "            matrix[row][e_col-1] = matrix[row-1][e_col-1]\n",
    "            target = min(target, matrix[row][e_col-1])\n",
    "        matrix[s_row][e_col-1] = memory_top\n",
    "        target = min(target, memory_top)\n",
    "\n",
    "        # 하단 작업\n",
    "        for col in range(s_col-1, max(s_col, e_col-2)):\n",
    "            if col == s_col-1:\n",
    "                memory_bottom = matrix[e_row-1][col]\n",
    "            matrix[e_row-1][col]= matrix[e_row-1][col+1]\n",
    "            target = min(target, matrix[e_row-1][col])\n",
    "        matrix[e_row-1][e_col-2] = memory_down\n",
    "        target = min(target, memory_down)\n",
    "\n",
    "        # 좌중단 작업\n",
    "        for row in range(s_row-1, max(s_row, e_row-2)):\n",
    "            matrix[row][s_col-1] = matrix[row+1][s_col-1]\n",
    "            target = min(target, matrix[row][s_col-1])\n",
    "        matrix[e_row-2][s_col-1] = memory_bottom\n",
    "        target = min(target, memory_bottom)\n",
    "\n",
    "        answer.append(target)\n",
    "    return answer"
   ]
  },
  {
   "cell_type": "code",
   "execution_count": 44,
   "metadata": {},
   "outputs": [
    {
     "data": {
      "text/plain": [
       "[[1, 2, 3, 4, 5, 6],\n",
       " [7, 8, 9, 10, 11, 12],\n",
       " [13, 14, 15, 16, 17, 18],\n",
       " [19, 20, 21, 22, 23, 24],\n",
       " [25, 26, 27, 28, 29, 30],\n",
       " [31, 32, 33, 34, 35, 36]]"
      ]
     },
     "execution_count": 44,
     "metadata": {},
     "output_type": "execute_result"
    }
   ],
   "source": [
    "columns = 6\n",
    "rows = 6\n",
    "matrix = [[(y-1)*columns+x for x in range(1, columns+1)] for y in range(1, rows+1)]\n",
    "matrix"
   ]
  },
  {
   "cell_type": "code",
   "execution_count": 79,
   "metadata": {},
   "outputs": [
    {
     "data": {
      "text/plain": [
       "([[1, 2, 3, 4, 5, 6],\n",
       "  [7, 14, 8, 9, 11, 12],\n",
       "  [13, 20, 15, 10, 17, 18],\n",
       "  [19, 26, 21, 16, 23, 24],\n",
       "  [25, 27, 28, 22, 29, 30],\n",
       "  [31, 32, 33, 34, 35, 36]],\n",
       " 26)"
      ]
     },
     "execution_count": 79,
     "metadata": {},
     "output_type": "execute_result"
    }
   ],
   "source": [
    "columns = 6\n",
    "rows = 6\n",
    "matrix = [[(y-1)*columns+x for x in range(1, columns+1)] for y in range(1, rows+1)]\n",
    "queries = [[2,2,5,4]]\n",
    "\n",
    "answer = []\n",
    "for query in queries:\n",
    "    s_row, s_col, e_row, e_col = query\n",
    "    target = columns * rows\n",
    "    \n",
    "    # 상단 작업\n",
    "    for col in range(e_col-1, s_col-1, -1):\n",
    "        if col == e_col-1:\n",
    "            memory_top = matrix[s_row-1][col]\n",
    "        matrix[s_row-1][col] = matrix[s_row-1][col-1]\n",
    "    matrix[s_row-1][s_col-1] = matrix[s_row][s_col-1]\n",
    "        \n",
    "    # 우중단 작업\n",
    "    for row in range(e_row-1, s_row, -1):\n",
    "        if row == e_row-1:\n",
    "            memory_down = matrix[row][e_col-1]\n",
    "        matrix[row][e_col-1] = matrix[row-1][e_col-1]\n",
    "    matrix[s_row][e_col-1] = memory_top\n",
    "    \n",
    "    # 하단 작업\n",
    "    for col in range(s_col-1, e_col-2):\n",
    "        if col == s_col-1:\n",
    "            memory_bottom = matrix[e_row-1][col]\n",
    "        matrix[e_row-1][col]= matrix[e_row-1][col+1]\n",
    "    matrix[e_row-1][e_col-2] = memory_down\n",
    "    \n",
    "    # 좌중단 작업\n",
    "    for row in range(s_row, e_row-2):\n",
    "        matrix[row][s_col-1] = matrix[row+1][s_col-1]\n",
    "    matrix[e_row-2][s_col-1] = memory_bottom\n",
    "        \n",
    "matrix            "
   ]
  },
  {
   "cell_type": "code",
   "execution_count": 15,
   "metadata": {},
   "outputs": [
    {
     "data": {
      "text/plain": [
       "([[1, 2, 3, 4, 5, 6],\n",
       "  [7, 14, 8, 9, 11, 12],\n",
       "  [13, 20, 21, 15, 10, 17],\n",
       "  [19, 26, 28, 16, 23, 18],\n",
       "  [31, 25, 27, 22, 29, 24],\n",
       "  [32, 34, 33, 35, 36, 30]],\n",
       " [8, 10, 25])"
      ]
     },
     "execution_count": 15,
     "metadata": {},
     "output_type": "execute_result"
    }
   ],
   "source": [
    "columns = 6\n",
    "rows = 6\n",
    "matrix = [[(y-1)*columns+x for x in range(1, columns+1)] for y in range(1, rows+1)]\n",
    "queries = [[2,2,5,4],[3,3,6,6],[5,1,6,3]]\n",
    "\n",
    "answer = []\n",
    "for query in queries:\n",
    "    s_row, s_col, e_row, e_col = query\n",
    "    target = columns * rows\n",
    "    \n",
    "    # 상단 작업\n",
    "    for col in range(e_col-1, s_col-1, -1):\n",
    "        if col == e_col-1:\n",
    "            memory_top = matrix[s_row-1][col]\n",
    "        matrix[s_row-1][col] = matrix[s_row-1][col-1]\n",
    "        target = min(target, matrix[s_row-1][col])\n",
    "    matrix[s_row-1][s_col-1] = matrix[s_row][s_col-1]\n",
    "    target = min(target, matrix[s_row-1][s_col-1])\n",
    "        \n",
    "    # 우중단 작업\n",
    "    for row in range(e_row-1, min(e_row-2, s_row), -1):\n",
    "        if row == e_row-1:\n",
    "            memory_down = matrix[row][e_col-1]\n",
    "        matrix[row][e_col-1] = matrix[row-1][e_col-1]\n",
    "        target = min(target, matrix[row][e_col-1])\n",
    "    matrix[s_row][e_col-1] = memory_top\n",
    "    target = min(target, memory_top)\n",
    "    \n",
    "    # 하단 작업\n",
    "    for col in range(s_col-1, max(s_col, e_col-2)):\n",
    "        if col == s_col-1:\n",
    "            memory_bottom = matrix[e_row-1][col]\n",
    "        matrix[e_row-1][col]= matrix[e_row-1][col+1]\n",
    "        target = min(target, matrix[e_row-1][col])\n",
    "    matrix[e_row-1][e_col-2] = memory_down\n",
    "    target = min(target, memory_down)\n",
    "    \n",
    "    # 좌중단 작업\n",
    "    for row in range(s_row-1, max(s_row, e_row-2)):\n",
    "        matrix[row][s_col-1] = matrix[row+1][s_col-1]\n",
    "        target = min(target, matrix[row][s_col-1])\n",
    "    matrix[e_row-2][s_col-1] = memory_bottom\n",
    "    target = min(target, memory_bottom)\n",
    "    \n",
    "    answer.append(target)\n",
    "        \n",
    "matrix, answer            "
   ]
  },
  {
   "cell_type": "markdown",
   "metadata": {},
   "source": [
    "### [수식 최대화](https://school.programmers.co.kr/learn/courses/30/lessons/67257)"
   ]
  },
  {
   "cell_type": "code",
   "execution_count": 88,
   "metadata": {},
   "outputs": [],
   "source": [
    "def solution(expression):\n",
    "    answer = 0\n",
    "    orders = ['*+', '*-', '+*', '+-', '-+', '-*']\n",
    "    expression = '0' + expression if expression[0] in ['+', '-'] else expression\n",
    "    expression = expression.replace('*', ' * ').replace('-', ' - ').replace('+', \" + \")\n",
    "    \n",
    "    expression = expression.split(\" \")\n",
    "    for order in orders:\n",
    "        sample = expression.copy()\n",
    "        for ex in order:\n",
    "            for e, t in enumerate(sample):\n",
    "                if t == ex:\n",
    "                    new = str(eval(sample.pop(e-1)+sample.pop(e-1)+sample.pop(e-1)))\n",
    "                    sample.insert(e-1, new)\n",
    "                    sample.insert(e-1, '')\n",
    "                    sample.insert(e-1, '')\n",
    "            sample = [x for x in sample if x != '']\n",
    "        print(sample, eval(\"\".join(sample)))\n",
    "        target = abs(eval(\"\".join(sample)))\n",
    "        answer = max(target, answer)\n",
    "    return answer"
   ]
  },
  {
   "cell_type": "code",
   "execution_count": 77,
   "metadata": {},
   "outputs": [
    {
     "data": {
      "text/plain": [
       "60420"
      ]
     },
     "execution_count": 77,
     "metadata": {},
     "output_type": "execute_result"
    }
   ],
   "source": [
    "expression = \"100-200*300-500+20\"\n",
    "solution(expression)"
   ]
  },
  {
   "cell_type": "code",
   "execution_count": 89,
   "metadata": {},
   "outputs": [
    {
     "name": "stdout",
     "output_type": "stream",
     "text": [
      "['32', '-', '8'] 24\n",
      "['24'] 24\n",
      "['32', '-', '8'] 24\n",
      "['2', '*', '2', '*', '2', '*', '2', '*', '0', '*', '2', '*', '2'] 0\n",
      "['2', '*', '2', '*', '2', '*', '2', '*', '0', '*', '2', '*', '2'] 0\n",
      "['0'] 0\n"
     ]
    },
    {
     "data": {
      "text/plain": [
       "24"
      ]
     },
     "execution_count": 89,
     "metadata": {},
     "output_type": "execute_result"
    }
   ],
   "source": [
    "expression =  \"2*2*2*2*2-2*2*2\"\n",
    "solution(expression)"
   ]
  },
  {
   "cell_type": "markdown",
   "metadata": {},
   "source": [
    "### [괄호 변환](https://school.programmers.co.kr/learn/courses/30/lessons/60058)"
   ]
  },
  {
   "cell_type": "code",
   "execution_count": 102,
   "metadata": {},
   "outputs": [],
   "source": [
    "def solution(p):\n",
    "    if p == '':\n",
    "        return p\n",
    "\n",
    "    u, v = split_to_balanced(p)\n",
    "\n",
    "    if is_correct(u):\n",
    "        return u + solution(v)\n",
    "    else:\n",
    "        return '(' + solution(v) + ')' + reverse_brackets(u[1:-1])\n",
    "\n",
    "def split_to_balanced(p):\n",
    "    count = 0\n",
    "    for i in range(len(p)):\n",
    "        if p[i] == '(':\n",
    "            count += 1\n",
    "        else:\n",
    "            count -= 1\n",
    "        if count == 0:\n",
    "            return p[:i+1], p[i+1:]\n",
    "\n",
    "def is_correct(s):\n",
    "    stack = []\n",
    "    for char in s:\n",
    "        if char == '(':\n",
    "            stack.append(char)\n",
    "        else:\n",
    "            if not stack:\n",
    "                return False\n",
    "            stack.pop()\n",
    "    return not stack\n",
    "\n",
    "def reverse_brackets(s):\n",
    "    reversed_s = ''\n",
    "    for char in s:\n",
    "        if char == '(':\n",
    "            reversed_s += ')'\n",
    "        else:\n",
    "            reversed_s += '('\n",
    "    return reversed_s\n"
   ]
  },
  {
   "cell_type": "markdown",
   "metadata": {},
   "source": [
    "### [당구 연습](https://school.programmers.co.kr/learn/courses/30/lessons/169198)"
   ]
  },
  {
   "cell_type": "code",
   "execution_count": 104,
   "metadata": {},
   "outputs": [],
   "source": [
    "def solution(m, n, startX, startY, balls):\n",
    "    def calculate_distance(x1, y1, x2, y2):\n",
    "        return (x1 - x2)**2 + (y1 - y2)**2\n",
    "\n",
    "    distances = []\n",
    "    for ball in balls:\n",
    "        targetX, targetY = ball\n",
    "        possible_distances = []\n",
    "\n",
    "        # 벽을 고려한 반사 위치\n",
    "        reflections = [\n",
    "            (-targetX, targetY),  # 왼쪽 벽에 반사\n",
    "            (2*m - targetX, targetY),  # 오른쪽 벽에 반사\n",
    "            (targetX, -targetY),  # 아래쪽 벽에 반사\n",
    "            (targetX, 2*n - targetY),  # 위쪽 벽에 반사\n",
    "        ]\n",
    "        \n",
    "        if targetX == startX: # 가로로 겹치는 경우\n",
    "            if targetY > startY:\n",
    "                reflections.pop()\n",
    "            elif targetY < startY:\n",
    "                reflections.pop(2)\n",
    "        elif targetY == startY: # 세로로 겹치는 경우\n",
    "            if targetX > startX:\n",
    "                reflections.pop(1)\n",
    "            elif targetX < startX:\n",
    "                reflections.pop(0)\n",
    "        \n",
    "                \n",
    "        for ref_x, ref_y in reflections:\n",
    "            distance = calculate_distance(startX, startY, ref_x, ref_y)\n",
    "            possible_distances.append(distance)\n",
    "\n",
    "        distances.append(min(possible_distances))\n",
    "\n",
    "    return distances\n"
   ]
  }
 ],
 "metadata": {
  "kernelspec": {
   "display_name": "Python 3",
   "language": "python",
   "name": "python3"
  },
  "language_info": {
   "codemirror_mode": {
    "name": "ipython",
    "version": 3
   },
   "file_extension": ".py",
   "mimetype": "text/x-python",
   "name": "python",
   "nbconvert_exporter": "python",
   "pygments_lexer": "ipython3",
   "version": "3.10.12"
  }
 },
 "nbformat": 4,
 "nbformat_minor": 2
}
