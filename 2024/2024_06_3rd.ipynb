{
 "cells": [
  {
   "cell_type": "markdown",
   "metadata": {},
   "source": [
    "### [가장 큰 정사각형 찾기](https://school.programmers.co.kr/learn/courses/30/lessons/12905)"
   ]
  },
  {
   "cell_type": "code",
   "execution_count": 1,
   "metadata": {},
   "outputs": [],
   "source": [
    "def solution(board):\n",
    "    rows = len(board)\n",
    "    cols = len(board[0])\n",
    "    max_side = 0\n",
    "\n",
    "    # DP 테이블 초기화\n",
    "    dp = [[0] * cols for _ in range(rows)]\n",
    "\n",
    "    # DP 테이블 채우기\n",
    "    for i in range(rows):\n",
    "        for j in range(cols):\n",
    "            if board[i][j] == 1:\n",
    "                if i == 0 or j == 0:\n",
    "                    dp[i][j] = 1\n",
    "                else:\n",
    "                    dp[i][j] = min(dp[i-1][j], dp[i][j-1], dp[i-1][j-1]) + 1\n",
    "                max_side = max(max_side, dp[i][j])\n",
    "                \n",
    "    print(dp)\n",
    "\n",
    "    return max_side ** 2"
   ]
  },
  {
   "cell_type": "code",
   "execution_count": 2,
   "metadata": {},
   "outputs": [
    {
     "name": "stdout",
     "output_type": "stream",
     "text": [
      "[[0, 1, 1, 1], [1, 1, 2, 2], [1, 2, 2, 3], [0, 0, 1, 0]]\n"
     ]
    },
    {
     "data": {
      "text/plain": [
       "9"
      ]
     },
     "execution_count": 2,
     "metadata": {},
     "output_type": "execute_result"
    }
   ],
   "source": [
    "board = [[0,1,1,1],[1,1,1,1],[1,1,1,1],[0,0,1,0]]\n",
    "solution(board)"
   ]
  },
  {
   "cell_type": "markdown",
   "metadata": {},
   "source": [
    "### [디펜스 게임](https://school.programmers.co.kr/learn/courses/30/lessons/142085)"
   ]
  },
  {
   "cell_type": "code",
   "execution_count": 49,
   "metadata": {},
   "outputs": [],
   "source": [
    "import heapq\n",
    "\n",
    "def solution(n, k, enemy):\n",
    "    attacks = []\n",
    "    heapq.heapify(attacks)\n",
    "    attack = 0\n",
    "    \n",
    "    for stage, e in enumerate(enemy):\n",
    "        heapq.heappush(attacks, -e)\n",
    "        attack += e\n",
    "        if attack > n:\n",
    "            if k > 0: # 무적권이 남아있는 경우\n",
    "                attack += heapq.heappop(attacks)\n",
    "                k -= 1\n",
    "            else:\n",
    "                return stage\n",
    "    return stage+1"
   ]
  },
  {
   "cell_type": "code",
   "execution_count": 50,
   "metadata": {},
   "outputs": [
    {
     "data": {
      "text/plain": [
       "5"
      ]
     },
     "execution_count": 50,
     "metadata": {},
     "output_type": "execute_result"
    }
   ],
   "source": [
    "n, k, enemy = \t7, 3, [4, 2, 4, 5, 3, 3, 1]\n",
    "solution(n, k, enemy)"
   ]
  },
  {
   "cell_type": "code",
   "execution_count": null,
   "metadata": {},
   "outputs": [],
   "source": []
  }
 ],
 "metadata": {
  "kernelspec": {
   "display_name": "Python 3",
   "language": "python",
   "name": "python3"
  },
  "language_info": {
   "codemirror_mode": {
    "name": "ipython",
    "version": 3
   },
   "file_extension": ".py",
   "mimetype": "text/x-python",
   "name": "python",
   "nbconvert_exporter": "python",
   "pygments_lexer": "ipython3",
   "version": "3.10.12"
  }
 },
 "nbformat": 4,
 "nbformat_minor": 2
}
