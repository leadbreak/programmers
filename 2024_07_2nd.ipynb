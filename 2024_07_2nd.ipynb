{
 "cells": [
  {
   "cell_type": "markdown",
   "metadata": {},
   "source": [
    "### [오픈채팅방](https://school.programmers.co.kr/learn/courses/30/lessons/42888)"
   ]
  },
  {
   "cell_type": "code",
   "execution_count": 5,
   "metadata": {},
   "outputs": [
    {
     "data": {
      "text/plain": [
       "['Ryan님이 들어왔습니다.', 'Prodo님이 나갔습니다.']"
      ]
     },
     "execution_count": 5,
     "metadata": {},
     "output_type": "execute_result"
    }
   ],
   "source": [
    "def solution(record):\n",
    "    answer = []\n",
    "    dicts = {}\n",
    "    for r in record:\n",
    "        if len(r.split()) == 2: # Leave case\n",
    "            act, userid = r.split()\n",
    "            answer.append((userid, \"님이 나갔습니다.\"))\n",
    "        else : # Enter or Change\n",
    "            act, userid, name = r.split()\n",
    "            if act == 'Enter':\n",
    "                dicts[userid] = name\n",
    "                answer.append((userid, \"님이 들어왔습니다.\"))\n",
    "            elif act == 'Change':\n",
    "                dicts[userid] = name\n",
    "\n",
    "    answer = [str(dicts[x[0]]) + x[1] for x in answer]\n",
    "    \n",
    "    return answer"
   ]
  }
 ],
 "metadata": {
  "kernelspec": {
   "display_name": "Python 3",
   "language": "python",
   "name": "python3"
  },
  "language_info": {
   "codemirror_mode": {
    "name": "ipython",
    "version": 3
   },
   "file_extension": ".py",
   "mimetype": "text/x-python",
   "name": "python",
   "nbconvert_exporter": "python",
   "pygments_lexer": "ipython3",
   "version": "3.10.12"
  }
 },
 "nbformat": 4,
 "nbformat_minor": 2
}
