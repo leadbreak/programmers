{
 "cells": [
  {
   "cell_type": "markdown",
   "metadata": {},
   "source": [
    "### [오픈채팅방](https://school.programmers.co.kr/learn/courses/30/lessons/42888)"
   ]
  },
  {
   "cell_type": "code",
   "execution_count": 5,
   "metadata": {},
   "outputs": [
    {
     "data": {
      "text/plain": [
       "['Ryan님이 들어왔습니다.', 'Prodo님이 나갔습니다.']"
      ]
     },
     "execution_count": 5,
     "metadata": {},
     "output_type": "execute_result"
    }
   ],
   "source": [
    "def solution(record):\n",
    "    answer = []\n",
    "    dicts = {}\n",
    "    for r in record:\n",
    "        if len(r.split()) == 2: # Leave case\n",
    "            act, userid = r.split()\n",
    "            answer.append((userid, \"님이 나갔습니다.\"))\n",
    "        else : # Enter or Change\n",
    "            act, userid, name = r.split()\n",
    "            if act == 'Enter':\n",
    "                dicts[userid] = name\n",
    "                answer.append((userid, \"님이 들어왔습니다.\"))\n",
    "            elif act == 'Change':\n",
    "                dicts[userid] = name\n",
    "\n",
    "    answer = [str(dicts[x[0]]) + x[1] for x in answer]\n",
    "    \n",
    "    return answer"
   ]
  },
  {
   "cell_type": "markdown",
   "metadata": {},
   "source": [
    "### [광물캐기](https://school.programmers.co.kr/learn/courses/30/lessons/172927)"
   ]
  },
  {
   "cell_type": "code",
   "execution_count": 26,
   "metadata": {},
   "outputs": [],
   "source": [
    "from collections import deque\n",
    "\n",
    "def solution(picks, minerals):\n",
    "    total_pick = sum(picks) # 곡괭이 총 개수 = 캘 수 있는 광석 x 5\n",
    "    minerals = deque(minerals)\n",
    "    mineral_set = []\n",
    "    mineral_dict = {'diamond':0,\n",
    "                    'iron'   :1,\n",
    "                    'stone'  :2}\n",
    "    while total_pick and minerals:\n",
    "        m_set = [0,0,0]\n",
    "        for _ in range(5):\n",
    "            if not minerals:\n",
    "                break\n",
    "            mineral = minerals.popleft()\n",
    "            m_set[mineral_dict[mineral]] += 1\n",
    "\n",
    "        total_pick -= 1\n",
    "        mineral_set.append(m_set)\n",
    "    \n",
    "    mineral_set = sorted(mineral_set, key=lambda x : (x[0],x[1],x[2]), reverse=True)\n",
    "    \n",
    "    answer = 0\n",
    "    pick_tired = {0 : [ 1,1,1],\n",
    "                  1 : [ 5,1,1],\n",
    "                  2 : [25,5,1]}\n",
    "    pick = 0\n",
    "    for m_set in mineral_set:\n",
    "        if picks[pick] > 0:\n",
    "            picks[pick] -= 1\n",
    "        else :\n",
    "            while pick < 3:\n",
    "                pick += 1\n",
    "                if picks[pick] > 0:\n",
    "                    picks[pick] -= 1\n",
    "                    break\n",
    "        print(picks, pick)\n",
    "        print(pick_tired[pick], m_set, sum([x*y for x, y in zip(pick_tired[pick],m_set)]))\n",
    "        answer += sum([x*y for x, y in zip(pick_tired[pick],m_set)])\n",
    "    \n",
    "    return answer"
   ]
  },
  {
   "cell_type": "code",
   "execution_count": 27,
   "metadata": {},
   "outputs": [
    {
     "name": "stdout",
     "output_type": "stream",
     "text": [
      "[0, 3, 2] 0\n",
      "[1, 1, 1] [3, 2, 0] 5\n",
      "[0, 2, 2] 1\n",
      "[5, 1, 1] [1, 1, 1] 7\n"
     ]
    },
    {
     "data": {
      "text/plain": [
       "12"
      ]
     },
     "execution_count": 27,
     "metadata": {},
     "output_type": "execute_result"
    }
   ],
   "source": [
    "picks = [1, 3, 2]\t\n",
    "minerals = [\"diamond\", \"diamond\", \"diamond\", \"iron\", \"iron\", \"diamond\", \"iron\", \"stone\"]\n",
    "\n",
    "solution(picks, minerals)"
   ]
  },
  {
   "cell_type": "markdown",
   "metadata": {},
   "source": [
    "### [우박수열 정적분](https://school.programmers.co.kr/learn/courses/30/lessons/134239)"
   ]
  },
  {
   "cell_type": "code",
   "execution_count": 28,
   "metadata": {},
   "outputs": [],
   "source": [
    "def solution(k, ranges):\n",
    "    answer = []  # 결과를 저장할 리스트\n",
    "    arr = [k]  # 콜라츠 수열을 저장할 리스트, 초기값으로 k를 추가\n",
    "    # 콜라츠 수열 생성\n",
    "    while k > 1:\n",
    "        if not k % 2:  # k가 짝수인 경우\n",
    "            k //= 2  # k를 2로 나눔\n",
    "        else:  # k가 홀수인 경우\n",
    "            k = k * 3 + 1  # k에 3을 곱하고 1을 더함\n",
    "        arr.append(k)  # 새로운 k 값을 수열에 추가\n",
    "\n",
    "    area = [0]  # 각 구간의 누적 넓이를 저장할 리스트, 초기값으로 0을 추가\n",
    "    # 각 구간의 넓이 계산\n",
    "    for i in range(len(arr) - 1):\n",
    "        # 인접한 두 점 사이의 넓이를 계산하여 누적 넓이에 추가\n",
    "        area.append(area[-1] + (arr[i] + arr[i + 1]) / 2)\n",
    "\n",
    "    # 주어진 범위에 대해 정적분 계산\n",
    "    for a, b in ranges:\n",
    "        if a >= len(area) or b - 1 < -len(area):  # 유효하지 않은 구간 체크\n",
    "            answer.append(-1)  # 유효하지 않은 구간은 -1을 추가\n",
    "        elif area[b - 1] - area[a] < 0:  # 구간의 넓이가 음수인 경우 체크\n",
    "            answer.append(-1)  # 넓이가 음수인 경우 -1을 추가\n",
    "        else:  # 유효한 구간의 경우\n",
    "            answer.append(area[b - 1] - area[a])  # 구간의 넓이를 계산하여 추가\n",
    "\n",
    "    return answer  # 최종 결과 반환"
   ]
  },
  {
   "cell_type": "code",
   "execution_count": null,
   "metadata": {},
   "outputs": [],
   "source": []
  }
 ],
 "metadata": {
  "kernelspec": {
   "display_name": "Python 3",
   "language": "python",
   "name": "python3"
  },
  "language_info": {
   "codemirror_mode": {
    "name": "ipython",
    "version": 3
   },
   "file_extension": ".py",
   "mimetype": "text/x-python",
   "name": "python",
   "nbconvert_exporter": "python",
   "pygments_lexer": "ipython3",
   "version": "3.10.12"
  }
 },
 "nbformat": 4,
 "nbformat_minor": 2
}
