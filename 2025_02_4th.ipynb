{
 "cells": [
  {
   "cell_type": "markdown",
   "metadata": {},
   "source": [
    "### [방문길이](https://school.programmers.co.kr/learn/courses/30/lessons/49994)"
   ]
  },
  {
   "cell_type": "code",
   "execution_count": null,
   "metadata": {},
   "outputs": [],
   "source": [
    "def solution(dirs):\n",
    "    cx, cy = 0, 0\n",
    "    history = set()\n",
    "    directions = {\n",
    "                'U':(0, 1),\n",
    "                'D':(0, -1),\n",
    "                'L':(-1, 0),\n",
    "                'R':(1, 0)\n",
    "                 }\n",
    "    \n",
    "    for d in dirs:\n",
    "        dx, dy = directions[d]\n",
    "        nx, ny = cx+dx, cy+dy\n",
    "        \n",
    "        if -5 <= nx <= 5 and -5 <= ny <= 5:\n",
    "            history.add((cx, nx, cy, ny))\n",
    "            history.add((nx, cx, ny, cy))\n",
    "            cx, cy = nx, ny\n",
    "\n",
    "    return len(history) // 2\n",
    "        "
   ]
  },
  {
   "cell_type": "markdown",
   "metadata": {},
   "source": [
    "### [뒤에 있는 큰 수 찾기](https://school.programmers.co.kr/learn/courses/30/lessons/154539?language=python3)"
   ]
  },
  {
   "cell_type": "code",
   "execution_count": 1,
   "metadata": {},
   "outputs": [],
   "source": [
    "def solution(numbers):\n",
    "    answer = [-1] * len(numbers)\n",
    "    stack = []\n",
    "    for i, num in enumerate(numbers):\n",
    "        # 이전 index까지의 값들에 대해 현재 숫자보다 작은지 반복 확인\n",
    "        while stack and numbers[stack[-1]] < num:\n",
    "            answer[stack.pop()] = num\n",
    "        stack.append(i)\n",
    "    return answer\n"
   ]
  },
  {
   "cell_type": "markdown",
   "metadata": {},
   "source": [
    "### [압축](https://school.programmers.co.kr/learn/courses/30/lessons/17684)"
   ]
  },
  {
   "cell_type": "code",
   "execution_count": 16,
   "metadata": {},
   "outputs": [],
   "source": [
    "def solution(msg):\n",
    "    D = {chr(ord('A') + i): i + 1 for i in range(26)}\n",
    "    K = D.keys()\n",
    "    idx = 27\n",
    "    length = len(msg)\n",
    "    s = 0\n",
    "    answer = []\n",
    "    while s < length:\n",
    "        l = 1\n",
    "        # 새로운 단어를 찾을 때까지 반복\n",
    "        while s + l <= length and msg[s:s+l] in K:\n",
    "            l += 1\n",
    "        w = msg[s:s+l-1] # 사전에 존재하는 가장 긴 단어\n",
    "        print(w)\n",
    "        answer.append(D[w]) # output\n",
    "        if s + l <= length:\n",
    "            D[msg[s:s+l]] = idx # 사전에 추가\n",
    "            idx += 1 \n",
    "        s += l - 1\n",
    "    return answer"
   ]
  },
  {
   "cell_type": "code",
   "execution_count": 17,
   "metadata": {},
   "outputs": [
    {
     "name": "stdout",
     "output_type": "stream",
     "text": [
      "K\n",
      "A\n",
      "KA\n",
      "O\n",
      "[11, 1, 27, 15]\n"
     ]
    }
   ],
   "source": [
    "msg = 'KAKAO'\n",
    "print(solution(msg))"
   ]
  },
  {
   "cell_type": "code",
   "execution_count": null,
   "metadata": {},
   "outputs": [],
   "source": []
  }
 ],
 "metadata": {
  "kernelspec": {
   "display_name": "Python 3",
   "language": "python",
   "name": "python3"
  },
  "language_info": {
   "codemirror_mode": {
    "name": "ipython",
    "version": 3
   },
   "file_extension": ".py",
   "mimetype": "text/x-python",
   "name": "python",
   "nbconvert_exporter": "python",
   "pygments_lexer": "ipython3",
   "version": "3.10.12"
  }
 },
 "nbformat": 4,
 "nbformat_minor": 2
}
