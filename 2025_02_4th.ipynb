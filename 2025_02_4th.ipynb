{
 "cells": [
  {
   "cell_type": "markdown",
   "metadata": {},
   "source": [
    "### [방문길이](https://school.programmers.co.kr/learn/courses/30/lessons/49994)"
   ]
  },
  {
   "cell_type": "code",
   "execution_count": null,
   "metadata": {
    "vscode": {
     "languageId": "plaintext"
    }
   },
   "outputs": [],
   "source": [
    "def solution(dirs):\n",
    "    cx, cy = 0, 0\n",
    "    history = set()\n",
    "    directions = {\n",
    "                'U':(0, 1),\n",
    "                'D':(0, -1),\n",
    "                'L':(-1, 0),\n",
    "                'R':(1, 0)\n",
    "                 }\n",
    "    \n",
    "    for d in dirs:\n",
    "        dx, dy = directions[d]\n",
    "        nx, ny = cx+dx, cy+dy\n",
    "        \n",
    "        if -5 <= nx <= 5 and -5 <= ny <= 5:\n",
    "            history.add((cx, nx, cy, ny))\n",
    "            history.add((nx, cx, ny, cy))\n",
    "            cx, cy = nx, ny\n",
    "\n",
    "    return len(history) // 2\n",
    "        "
   ]
  }
 ],
 "metadata": {
  "language_info": {
   "name": "python"
  }
 },
 "nbformat": 4,
 "nbformat_minor": 2
}
