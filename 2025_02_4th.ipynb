{
 "cells": [
  {
   "cell_type": "markdown",
   "metadata": {},
   "source": [
    "### [방문길이](https://school.programmers.co.kr/learn/courses/30/lessons/49994)"
   ]
  },
  {
   "cell_type": "code",
   "execution_count": null,
   "metadata": {},
   "outputs": [],
   "source": [
    "def solution(dirs):\n",
    "    cx, cy = 0, 0\n",
    "    history = set()\n",
    "    directions = {\n",
    "                'U':(0, 1),\n",
    "                'D':(0, -1),\n",
    "                'L':(-1, 0),\n",
    "                'R':(1, 0)\n",
    "                 }\n",
    "    \n",
    "    for d in dirs:\n",
    "        dx, dy = directions[d]\n",
    "        nx, ny = cx+dx, cy+dy\n",
    "        \n",
    "        if -5 <= nx <= 5 and -5 <= ny <= 5:\n",
    "            history.add((cx, nx, cy, ny))\n",
    "            history.add((nx, cx, ny, cy))\n",
    "            cx, cy = nx, ny\n",
    "\n",
    "    return len(history) // 2\n",
    "        "
   ]
  },
  {
   "cell_type": "markdown",
   "metadata": {},
   "source": [
    "### [뒤에 있는 큰 수 찾기](https://school.programmers.co.kr/learn/courses/30/lessons/154539?language=python3)"
   ]
  },
  {
   "cell_type": "code",
   "execution_count": 1,
   "metadata": {},
   "outputs": [],
   "source": [
    "def solution(numbers):\n",
    "    answer = [-1] * len(numbers)\n",
    "    stack = []\n",
    "    for i, num in enumerate(numbers):\n",
    "        # 이전 index까지의 값들에 대해 현재 숫자보다 작은지 반복 확인\n",
    "        while stack and numbers[stack[-1]] < num:\n",
    "            answer[stack.pop()] = num\n",
    "        stack.append(i)\n",
    "    return answer\n"
   ]
  }
 ],
 "metadata": {
  "kernelspec": {
   "display_name": "Python 3",
   "language": "python",
   "name": "python3"
  },
  "language_info": {
   "codemirror_mode": {
    "name": "ipython",
    "version": 3
   },
   "file_extension": ".py",
   "mimetype": "text/x-python",
   "name": "python",
   "nbconvert_exporter": "python",
   "pygments_lexer": "ipython3",
   "version": "3.10.12"
  }
 },
 "nbformat": 4,
 "nbformat_minor": 2
}
