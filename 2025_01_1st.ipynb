{
 "cells": [
  {
   "cell_type": "markdown",
   "metadata": {},
   "source": [
    "### [개인정보 수집 유효기간](https://school.programmers.co.kr/learn/courses/30/lessons/150370)"
   ]
  },
  {
   "cell_type": "markdown",
   "metadata": {},
   "source": [
    "- 이전에 풀었던 코드"
   ]
  },
  {
   "cell_type": "code",
   "execution_count": null,
   "metadata": {},
   "outputs": [],
   "source": [
    "def solution(today, terms, privacies):\n",
    "    terms = {x.split()[0]:x.split()[1] for x in terms}\n",
    "    today = 12*int(today.split('.')[0]) + int(today.split('.')[1]) + int(today.split('.')[2]) / 28\n",
    "    \n",
    "    answer = []\n",
    "    for i, privacy in enumerate(privacies):\n",
    "        period, contract = privacy.split()\n",
    "        period = 12*int(period.split('.')[0]) + int(period.split('.')[1]) + int(period.split('.')[2]) / 28\n",
    "        \n",
    "        duration = today - period\n",
    "        if duration >= int(terms[contract]):\n",
    "            answer.append(i+1)\n",
    "        \n",
    "    return answer"
   ]
  },
  {
   "cell_type": "markdown",
   "metadata": {},
   "source": [
    "- 특별히 수정할 곳은 없으나, 논리가 좀 더 뚜렷하게 보이게 수정(성능은 떨어짐)"
   ]
  },
  {
   "cell_type": "code",
   "execution_count": null,
   "metadata": {},
   "outputs": [],
   "source": [
    "def solution(today, terms, privacies):\n",
    "    terms = {x.split()[0]:int(x.split()[1]) for x in terms}\n",
    "    today = 12*int(today.split('.')[0]) + int(today.split('.')[1]) + int(today.split('.')[2]) / 28\n",
    "    \n",
    "    privacies = [privacy.split() for privacy in privacies]\n",
    "    privacies = {idx+1:[contract, list(map(int, privacy.split('.')))] for idx, (privacy, contract) in enumerate(privacies)}\n",
    "    \n",
    "    answer = []\n",
    "    for idx, (contract, privacy) in privacies.items():\n",
    "        period = 12*int(privacy[0]) \\\n",
    "                + int(privacy[1]) \\\n",
    "                + int(terms[contract]) \\\n",
    "                + int(privacy[2]) / 28 \\\n",
    "                - today\n",
    "        if period <= 0: # 남은 기간이 없다면\n",
    "            answer.append(idx)        \n",
    "        \n",
    "    return answer"
   ]
  },
  {
   "cell_type": "code",
   "execution_count": null,
   "metadata": {},
   "outputs": [],
   "source": []
  }
 ],
 "metadata": {
  "kernelspec": {
   "display_name": "Python 3",
   "language": "python",
   "name": "python3"
  },
  "language_info": {
   "codemirror_mode": {
    "name": "ipython",
    "version": 3
   },
   "file_extension": ".py",
   "mimetype": "text/x-python",
   "name": "python",
   "nbconvert_exporter": "python",
   "pygments_lexer": "ipython3",
   "version": "3.10.12"
  }
 },
 "nbformat": 4,
 "nbformat_minor": 2
}
