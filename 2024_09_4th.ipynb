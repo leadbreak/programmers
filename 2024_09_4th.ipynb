{
 "cells": [
  {
   "cell_type": "markdown",
   "metadata": {},
   "source": [
    "### [정수를 나선형으로 배치하기](https://school.programmers.co.kr/learn/courses/30/lessons/181832)"
   ]
  },
  {
   "cell_type": "code",
   "execution_count": 16,
   "metadata": {},
   "outputs": [],
   "source": [
    "def solution(n):\n",
    "    # 초기화\n",
    "    row_s = 1\n",
    "    column_s = 0\n",
    "    row_e = column_e = n-1\n",
    "    answer = [[False]*n for _ in range(n)]\n",
    "    \n",
    "    cur = 1     # 현재 값\n",
    "    x, y = 0, 0 # 현재 위치\n",
    "    dx, dy = 1, 0\n",
    "    \n",
    "    answer[y][x] = cur    \n",
    "    while cur < n**2:\n",
    "        cur += 1\n",
    "        x, y = x+dx, y+dy\n",
    "        \n",
    "        if y == row_s-1 and x == column_e: # right end\n",
    "            column_e -= 1 # 다음을 위해 업데이트\n",
    "            dx, dy = (0, 1) # 아래로 내려가도록 방향 조정\n",
    "        elif x == column_e+1 and y == row_e: # down end\n",
    "            row_e -= 1 # 다음을 위해 업데이트\n",
    "            dx, dy = (-1, 0) # 왼쪽으로 이동하도록 방향 조정\n",
    "        elif y == row_e+1 and x == column_s: # left end\n",
    "            column_s += 1\n",
    "            dx, dy = (0, -1) # 위로 이동하도록 방향 조정\n",
    "        elif x == column_s-1 and y == row_s: # top end\n",
    "            row_s += 1\n",
    "            dx, dy = (1,0) # 오른쪽으로 이동하도록 방향 조정\n",
    "            \n",
    "        answer[y][x] = cur\n",
    "    \n",
    "    return answer"
   ]
  },
  {
   "cell_type": "code",
   "execution_count": 17,
   "metadata": {},
   "outputs": [
    {
     "name": "stdout",
     "output_type": "stream",
     "text": [
      "1 0 (1, 0)\n",
      "2 0 (1, 0)\n",
      "2 1 (0, 1)\n",
      "2 2 (0, 1)\n",
      "1 2 (-1, 0)\n",
      "0 2 (-1, 0)\n",
      "0 1 (0, -1)\n",
      "1 1 (1, 0)\n",
      "1 2 (0, 1)\n"
     ]
    },
    {
     "data": {
      "text/plain": [
       "[[1, 2, 3], [8, 9, 4], [7, 10, 5]]"
      ]
     },
     "execution_count": 17,
     "metadata": {},
     "output_type": "execute_result"
    }
   ],
   "source": [
    "solution(3)"
   ]
  }
 ],
 "metadata": {
  "kernelspec": {
   "display_name": "persona",
   "language": "python",
   "name": "python3"
  },
  "language_info": {
   "codemirror_mode": {
    "name": "ipython",
    "version": 3
   },
   "file_extension": ".py",
   "mimetype": "text/x-python",
   "name": "python",
   "nbconvert_exporter": "python",
   "pygments_lexer": "ipython3",
   "version": "3.9.18"
  }
 },
 "nbformat": 4,
 "nbformat_minor": 2
}
