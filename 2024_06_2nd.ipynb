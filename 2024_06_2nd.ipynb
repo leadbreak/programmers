{
 "cells": [
  {
   "cell_type": "markdown",
   "metadata": {},
   "source": [
    "### [리코쳇 로봇](https://school.programmers.co.kr/learn/courses/30/lessons/169199)"
   ]
  },
  {
   "cell_type": "code",
   "execution_count": 27,
   "metadata": {},
   "outputs": [],
   "source": [
    "from collections import deque\n",
    "\n",
    "def solution(board):\n",
    "    # find start & goad idx \n",
    "    sX, sY = [(board[e].index('R'), e) for e, x in enumerate(board) if 'R' in x][0]\n",
    "    gX, gY = [(board[e].index('G'), e) for e, x in enumerate(board) if 'G' in x][0]\n",
    "    \n",
    "    # history map\n",
    "    bX, bY = len(board[0]), len(board)\n",
    "    history = [[False] * bX for _ in range(bY)]\n",
    "    history[sY][sX] = -1\n",
    "    \n",
    "    # define deque & directions\n",
    "    queue = deque([(sX, sY, 0)]) # (cur X, cur Y, step)\n",
    "    dirs = [(1,0), (0,1), (-1,0), (0,-1)]\n",
    "    \n",
    "    # bfs\n",
    "    while queue:\n",
    "        cX, cY, cS = queue.popleft()\n",
    "        cS += 1\n",
    "        for dx, dy in dirs:\n",
    "            nX, nY = cX+dx, cY+dy\n",
    "            while 0 <= nX+dx < bX and 0 <= nY+dy < bY and board[nY][nX] != 'D' and board[nY+dy][nX+dx] != 'D':\n",
    "                nX, nY = nX + dx, nY + dy               \n",
    "            \n",
    "            if 0 <= nX < bX and 0 <= nY < bY and board[nY][nX] != 'D' and (not history[nY][nX] or cS < history[nY][nX]):\n",
    "                queue.append((nX, nY, cS))       \n",
    "                history[nY][nX] = cS\n",
    "    \n",
    "    print(history)\n",
    "    return history[gY][gX] if history[gY][gX] else -1\n",
    "        \n",
    "    "
   ]
  },
  {
   "cell_type": "code",
   "execution_count": 28,
   "metadata": {},
   "outputs": [
    {
     "name": "stdout",
     "output_type": "stream",
     "text": [
      "[[4, False, 3, False, 1, False, -1], [False, False, 2, 7, 2, False, 1], [5, 5, False, 6, False, False, False], [False, 4, 3, False, 4, False, 7], [6, 5, False, 6, 5, False, 6]]\n"
     ]
    },
    {
     "data": {
      "text/plain": [
       "7"
      ]
     },
     "execution_count": 28,
     "metadata": {},
     "output_type": "execute_result"
    }
   ],
   "source": [
    "board = [\"...D..R\", \".D.G...\", \"....D.D\", \"D....D.\", \"..D....\"]\n",
    "solution(board)"
   ]
  },
  {
   "cell_type": "markdown",
   "metadata": {},
   "source": [
    "### [테이블 해시함수](https://school.programmers.co.kr/learn/courses/30/lessons/147354)"
   ]
  },
  {
   "cell_type": "code",
   "execution_count": null,
   "metadata": {},
   "outputs": [],
   "source": [
    "def solution(data, col, row_begin, row_end):\n",
    "    # 1. 데이터 정렬\n",
    "    data.sort(key=lambda x: (x[col-1], -x[0]))\n",
    "    \n",
    "    # 2. S_i 계산 및 3. 해시 값 계산\n",
    "    result = 0\n",
    "    for i in range(row_begin - 1, row_end):\n",
    "        S_i = sum(value % (i + 1) for value in data[i])\n",
    "        result ^= S_i\n",
    "    \n",
    "    return result"
   ]
  }
 ],
 "metadata": {
  "kernelspec": {
   "display_name": "Python 3",
   "language": "python",
   "name": "python3"
  },
  "language_info": {
   "codemirror_mode": {
    "name": "ipython",
    "version": 3
   },
   "file_extension": ".py",
   "mimetype": "text/x-python",
   "name": "python",
   "nbconvert_exporter": "python",
   "pygments_lexer": "ipython3",
   "version": "3.10.12"
  }
 },
 "nbformat": 4,
 "nbformat_minor": 2
}
