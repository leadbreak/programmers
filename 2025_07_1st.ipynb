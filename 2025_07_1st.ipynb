{
 "cells": [
  {
   "cell_type": "markdown",
   "id": "f3cf5ecd",
   "metadata": {},
   "source": [
    "### [다음 큰 숫자](https://school.programmers.co.kr/learn/courses/30/lessons/12911)"
   ]
  },
  {
   "cell_type": "code",
   "execution_count": null,
   "id": "4aae5717",
   "metadata": {},
   "outputs": [],
   "source": [
    "def solution(n):\n",
    "    target = bin(n).count('1')\n",
    "    cur = n + 1\n",
    "    while True:\n",
    "        if bin(cur).count('1') == target:\n",
    "            return cur\n",
    "        cur += 1        "
   ]
  },
  {
   "cell_type": "markdown",
   "id": "f3e697c3",
   "metadata": {},
   "source": [
    "### [피보나치 수](https://school.programmers.co.kr/learn/courses/30/lessons/12945)"
   ]
  },
  {
   "cell_type": "code",
   "execution_count": null,
   "id": "4f6e7c80",
   "metadata": {},
   "outputs": [],
   "source": [
    "def solution(n):\n",
    "    dp = [0] * (n+1)\n",
    "    dp[0] = 0\n",
    "    dp[1] = 1\n",
    "    for i in range(2, n+1):\n",
    "        dp[i] = dp[i-1] + dp[i-2]\n",
    "    return dp[n] % 1234567"
   ]
  },
  {
   "cell_type": "markdown",
   "id": "f3f5938d",
   "metadata": {},
   "source": [
    "### [완전범죄](https://school.programmers.co.kr/learn/courses/30/lessons/389480)"
   ]
  },
  {
   "cell_type": "code",
   "execution_count": null,
   "id": "f844f341",
   "metadata": {},
   "outputs": [
    {
     "data": {
      "text/plain": [
       "[[1, 2], [1, 2], [2, 3]]"
      ]
     },
     "execution_count": 2,
     "metadata": {},
     "output_type": "execute_result"
    }
   ],
   "source": [
    "from itertools import combinations\n",
    "\n",
    "def solution(info, n, m):\n",
    "    B = sum([x[1] for x in info])\n",
    "    if B < m:\n",
    "        return 0\n",
    "    gap = B - m\n",
    "    answer = float('inf')\n",
    "    for i in range(1, len(info)+1):\n",
    "        cnt = 0\n",
    "        for target in combinations(info, i):\n",
    "            a = sum([x[0] for x in target])\n",
    "            if a >= answer:\n",
    "                continue\n",
    "            b = sum([x[1] for x in target])\n",
    "            cnt += 1\n",
    "            if b > gap and a < n:\n",
    "                answer = a\n",
    "        if cnt == 0:\n",
    "            break\n",
    "        \n",
    "    return -1 if answer == float('inf') else answer"
   ]
  }
 ],
 "metadata": {
  "kernelspec": {
   "display_name": "Python 3",
   "language": "python",
   "name": "python3"
  },
  "language_info": {
   "codemirror_mode": {
    "name": "ipython",
    "version": 3
   },
   "file_extension": ".py",
   "mimetype": "text/x-python",
   "name": "python",
   "nbconvert_exporter": "python",
   "pygments_lexer": "ipython3",
   "version": "3.10.12"
  }
 },
 "nbformat": 4,
 "nbformat_minor": 5
}
