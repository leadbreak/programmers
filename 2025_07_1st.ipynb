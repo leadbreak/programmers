{
 "cells": [
  {
   "cell_type": "markdown",
   "id": "f3cf5ecd",
   "metadata": {},
   "source": [
    "### [다음 큰 숫자](https://school.programmers.co.kr/learn/courses/30/lessons/12911)"
   ]
  },
  {
   "cell_type": "code",
   "execution_count": null,
   "id": "4aae5717",
   "metadata": {},
   "outputs": [],
   "source": [
    "def solution(n):\n",
    "    target = bin(n).count('1')\n",
    "    cur = n + 1\n",
    "    while True:\n",
    "        if bin(cur).count('1') == target:\n",
    "            return cur\n",
    "        cur += 1\n",
    "        "
   ]
  }
 ],
 "metadata": {
  "kernelspec": {
   "display_name": "Python 3",
   "language": "python",
   "name": "python3"
  },
  "language_info": {
   "name": "python",
   "version": "3.10.12"
  }
 },
 "nbformat": 4,
 "nbformat_minor": 5
}
