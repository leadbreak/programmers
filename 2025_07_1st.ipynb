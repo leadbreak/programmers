{
 "cells": [
  {
   "cell_type": "markdown",
   "id": "f3cf5ecd",
   "metadata": {},
   "source": [
    "### [다음 큰 숫자](https://school.programmers.co.kr/learn/courses/30/lessons/12911)"
   ]
  },
  {
   "cell_type": "code",
   "execution_count": null,
   "id": "4aae5717",
   "metadata": {},
   "outputs": [],
   "source": [
    "def solution(n):\n",
    "    target = bin(n).count('1')\n",
    "    cur = n + 1\n",
    "    while True:\n",
    "        if bin(cur).count('1') == target:\n",
    "            return cur\n",
    "        cur += 1        "
   ]
  },
  {
   "cell_type": "markdown",
   "id": "f3e697c3",
   "metadata": {},
   "source": [
    "### [피보나치 수](https://school.programmers.co.kr/learn/courses/30/lessons/12945)"
   ]
  },
  {
   "cell_type": "code",
   "execution_count": null,
   "id": "4f6e7c80",
   "metadata": {},
   "outputs": [],
   "source": [
    "def solution(n):\n",
    "    dp = [0] * (n+1)\n",
    "    dp[0] = 0\n",
    "    dp[1] = 1\n",
    "    for i in range(2, n+1):\n",
    "        dp[i] = dp[i-1] + dp[i-2]\n",
    "    return dp[n] % 1234567"
   ]
  },
  {
   "cell_type": "markdown",
   "id": "f3f5938d",
   "metadata": {},
   "source": [
    "### [완전범죄](https://school.programmers.co.kr/learn/courses/30/lessons/389480)"
   ]
  },
  {
   "cell_type": "code",
   "execution_count": null,
   "id": "f844f341",
   "metadata": {},
   "outputs": [],
   "source": [
    "from itertools import combinations\n",
    "\n",
    "def solution(info, n, m):\n",
    "    B = sum([x[1] for x in info])\n",
    "    if B < m:\n",
    "        return 0\n",
    "    dp = [0] * 4801\n",
    "    dp[0] = 0\n",
    "    history = []\n",
    "    info.sort(key=lambda x: x[0])\n",
    "    \n",
    "    for a, b in info:\n",
    "        dp[a] = max(dp[a], b)\n",
    "        if a < n and B-b < m:\n",
    "            return a\n",
    "        if a not in history:\n",
    "            history.append(a)\n",
    "\n",
    "    for i in range(2, 4801):\n",
    "        for target in combinations(history, i):\n",
    "            idx = sum([x[0] for x in target])\n",
    "            value = sum([x[1] for x in target])\n",
    "            if B - value < m:\n",
    "                return idx\n",
    "            dp[idx] = max(dp[idx], value)\n",
    "    return -1"
   ]
  },
  {
   "cell_type": "code",
   "execution_count": 10,
   "id": "8906f2b8",
   "metadata": {},
   "outputs": [
    {
     "name": "stdout",
     "output_type": "stream",
     "text": [
      "(2, 3)\n"
     ]
    }
   ],
   "source": [
    "info, n, m = [[2, 3], [3, 3]], 7, 1\n",
    "solution(info, n, m)"
   ]
  },
  {
   "cell_type": "code",
   "execution_count": null,
   "id": "6e911121",
   "metadata": {},
   "outputs": [],
   "source": [
    "from collections import defaultdict\n",
    "    \n",
    "def solution(info, n, m):\n",
    "\n",
    "    dp = {0: 0}  # B의 흔적: A의 최소 흔적\n",
    "\n",
    "    for _, (a_trace, b_trace) in enumerate(info):\n",
    "        next_dp = defaultdict(lambda: float('inf'))\n",
    "        for b_total, a_total in dp.items():\n",
    "            # A도둑이 훔치는 경우\n",
    "            new_a = a_total + a_trace\n",
    "            new_b = b_total\n",
    "            if new_a < n and new_b < m:\n",
    "                next_dp[new_b] = min(next_dp[new_b], new_a)\n",
    "\n",
    "            # B도둑이 훔치는 경우\n",
    "            new_a = a_total\n",
    "            new_b = b_total + b_trace\n",
    "            if new_a < n and new_b < m:\n",
    "                next_dp[new_b] = min(next_dp[new_b], new_a)\n",
    "                \n",
    "        if not next_dp:\n",
    "            return -1\n",
    "        \n",
    "        dp = next_dp\n",
    "        \n",
    "    return min(dp.values()) if dp else -1"
   ]
  }
 ],
 "metadata": {
  "kernelspec": {
   "display_name": "Python 3",
   "language": "python",
   "name": "python3"
  },
  "language_info": {
   "codemirror_mode": {
    "name": "ipython",
    "version": 3
   },
   "file_extension": ".py",
   "mimetype": "text/x-python",
   "name": "python",
   "nbconvert_exporter": "python",
   "pygments_lexer": "ipython3",
   "version": "3.10.12"
  }
 },
 "nbformat": 4,
 "nbformat_minor": 5
}
