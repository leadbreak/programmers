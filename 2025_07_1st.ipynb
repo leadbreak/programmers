{
 "cells": [
  {
   "cell_type": "markdown",
   "id": "f3cf5ecd",
   "metadata": {},
   "source": [
    "### [다음 큰 숫자](https://school.programmers.co.kr/learn/courses/30/lessons/12911)"
   ]
  },
  {
   "cell_type": "code",
   "execution_count": null,
   "id": "4aae5717",
   "metadata": {},
   "outputs": [],
   "source": [
    "def solution(n):\n",
    "    target = bin(n).count('1')\n",
    "    cur = n + 1\n",
    "    while True:\n",
    "        if bin(cur).count('1') == target:\n",
    "            return cur\n",
    "        cur += 1        "
   ]
  },
  {
   "cell_type": "markdown",
   "id": "f3e697c3",
   "metadata": {},
   "source": [
    "### [피보나치 수](https://school.programmers.co.kr/learn/courses/30/lessons/12945)"
   ]
  },
  {
   "cell_type": "code",
   "execution_count": null,
   "id": "4f6e7c80",
   "metadata": {},
   "outputs": [],
   "source": [
    "def solution(n):\n",
    "    dp = [0] * (n+1)\n",
    "    dp[0] = 0\n",
    "    dp[1] = 1\n",
    "    for i in range(2, n+1):\n",
    "        dp[i] = dp[i-1] + dp[i-2]\n",
    "    return dp[n] % 1234567"
   ]
  }
 ],
 "metadata": {
  "kernelspec": {
   "display_name": "Python 3",
   "language": "python",
   "name": "python3"
  },
  "language_info": {
   "name": "python",
   "version": "3.10.12"
  }
 },
 "nbformat": 4,
 "nbformat_minor": 5
}
